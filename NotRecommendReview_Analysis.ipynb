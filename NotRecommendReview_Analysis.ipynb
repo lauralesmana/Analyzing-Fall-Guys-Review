{
 "metadata": {
  "language_info": {
   "codemirror_mode": {
    "name": "ipython",
    "version": 3
   },
   "file_extension": ".py",
   "mimetype": "text/x-python",
   "name": "python",
   "nbconvert_exporter": "python",
   "pygments_lexer": "ipython3",
   "version": "3.7.6-final"
  },
  "orig_nbformat": 2,
  "kernelspec": {
   "name": "Python 3.7.6 64-bit ('base': conda)",
   "display_name": "Python 3.7.6 64-bit ('base': conda)",
   "metadata": {
    "interpreter": {
     "hash": "8d1b0e05aaf8072557c9e1caf7c5d9e816c75ebd330c6b717cdfc1f2094defc9"
    }
   }
  }
 },
 "nbformat": 4,
 "nbformat_minor": 2,
 "cells": [
  {
   "cell_type": "code",
   "execution_count": 1,
   "metadata": {},
   "outputs": [],
   "source": [
    "import pandas as pd\n",
    "import numpy as np\n",
    "import gensim\n",
    "from nltk.corpus import stopwords, wordnet\n",
    "from nltk.tokenize import word_tokenize\n",
    "import wordcloud\n",
    "import matplotlib.pyplot as plt\n",
    "import seaborn as sns\n",
    "import plotly.graph_objects as go\n",
    "\n",
    "from sklearn.decomposition import LatentDirichletAllocation\n",
    "from sklearn.feature_extraction.text import CountVectorizer, TfidfVectorizer\n",
    "from pprint import pprint"
   ]
  },
  {
   "cell_type": "code",
   "execution_count": 2,
   "metadata": {},
   "outputs": [
    {
     "output_type": "execute_result",
     "data": {
      "text/plain": "       voted_up                                        clean_token  \\\n0          True  [&#39;fall&#39;, &#39;guy&#39;, &#39;chill&#39;, &#39;fun&#39;, &#39;game&#39;, &#39;reall...   \n1          True  [&#39;give&#39;, &#39;little&#39;, &#39;hug&#39;, &#39;player&#39;, &#39;stare&#39;, &#39;...   \n2          True                       [&#39;reccomend&#39;, &#39;much&#39;, &#39;buy&#39;]   \n3          True                                  [&#39;hug&#39;, &#39;people&#39;]   \n4          True  [&#39;little&#39;, &#39;boy&#39;, &#39;like&#39;, &#39;see&#39;, &#39;wipeout&#39;, &#39;t...   \n...         ...                                                ...   \n13089      True  [&#39;well&#39;, &#39;make&#39;, &#39;game&#39;, &#39;get&#39;, &#39;enough&#39;, &#39;man...   \n13090      True  [&#39;fun&#39;, &#39;competitive&#39;, &#39;especially&#39;, &#39;friend&#39;,...   \n13091      True  [&#39;game&#39;, &#39;extremely&#39;, &#39;fun&#39;, &#39;nice&#39;, &#39;break&#39;, ...   \n13092      True            [&#39;fun&#39;, &#39;play&#39;, &#39;keep&#39;, &#39;work&#39;, &#39;game&#39;]   \n13093      True  [&#39;turn&#39;, &#39;around&#39;, &#39;read&#39;, &#39;previous&#39;, &#39;review...   \n\n                                               clean_str  \n0      fall guy chill fun game really need server imp...  \n1      give little hug player stare back second jump ...  \n2                                     reccomend much buy  \n3                                             hug people  \n4      little boy like see wipeout tv always dream ta...  \n...                                                  ...  \n13089  well make game get enough many way differentia...  \n13090  fun competitive especially friend recommend bu...  \n13091  game extremely fun nice break usual drop loot ...  \n13092                            fun play keep work game  \n13093  turn around read previous review could recomme...  \n\n[13094 rows x 3 columns]",
      "text/html": "<div>\n<style scoped>\n    .dataframe tbody tr th:only-of-type {\n        vertical-align: middle;\n    }\n\n    .dataframe tbody tr th {\n        vertical-align: top;\n    }\n\n    .dataframe thead th {\n        text-align: right;\n    }\n</style>\n<table border=\"1\" class=\"dataframe\">\n  <thead>\n    <tr style=\"text-align: right;\">\n      <th></th>\n      <th>voted_up</th>\n      <th>clean_token</th>\n      <th>clean_str</th>\n    </tr>\n  </thead>\n  <tbody>\n    <tr>\n      <th>0</th>\n      <td>True</td>\n      <td>['fall', 'guy', 'chill', 'fun', 'game', 'reall...</td>\n      <td>fall guy chill fun game really need server imp...</td>\n    </tr>\n    <tr>\n      <th>1</th>\n      <td>True</td>\n      <td>['give', 'little', 'hug', 'player', 'stare', '...</td>\n      <td>give little hug player stare back second jump ...</td>\n    </tr>\n    <tr>\n      <th>2</th>\n      <td>True</td>\n      <td>['reccomend', 'much', 'buy']</td>\n      <td>reccomend much buy</td>\n    </tr>\n    <tr>\n      <th>3</th>\n      <td>True</td>\n      <td>['hug', 'people']</td>\n      <td>hug people</td>\n    </tr>\n    <tr>\n      <th>4</th>\n      <td>True</td>\n      <td>['little', 'boy', 'like', 'see', 'wipeout', 't...</td>\n      <td>little boy like see wipeout tv always dream ta...</td>\n    </tr>\n    <tr>\n      <th>...</th>\n      <td>...</td>\n      <td>...</td>\n      <td>...</td>\n    </tr>\n    <tr>\n      <th>13089</th>\n      <td>True</td>\n      <td>['well', 'make', 'game', 'get', 'enough', 'man...</td>\n      <td>well make game get enough many way differentia...</td>\n    </tr>\n    <tr>\n      <th>13090</th>\n      <td>True</td>\n      <td>['fun', 'competitive', 'especially', 'friend',...</td>\n      <td>fun competitive especially friend recommend bu...</td>\n    </tr>\n    <tr>\n      <th>13091</th>\n      <td>True</td>\n      <td>['game', 'extremely', 'fun', 'nice', 'break', ...</td>\n      <td>game extremely fun nice break usual drop loot ...</td>\n    </tr>\n    <tr>\n      <th>13092</th>\n      <td>True</td>\n      <td>['fun', 'play', 'keep', 'work', 'game']</td>\n      <td>fun play keep work game</td>\n    </tr>\n    <tr>\n      <th>13093</th>\n      <td>True</td>\n      <td>['turn', 'around', 'read', 'previous', 'review...</td>\n      <td>turn around read previous review could recomme...</td>\n    </tr>\n  </tbody>\n</table>\n<p>13094 rows × 3 columns</p>\n</div>"
     },
     "metadata": {},
     "execution_count": 2
    }
   ],
   "source": [
    "df = pd.read_csv('.../clean_text.csv')\n",
    "df"
   ]
  },
  {
   "cell_type": "code",
   "execution_count": 3,
   "metadata": {},
   "outputs": [],
   "source": [
    "df_no = df[df['voted_up'] == False]"
   ]
  },
  {
   "cell_type": "code",
   "execution_count": 4,
   "metadata": {},
   "outputs": [],
   "source": [
    "df_no.reset_index(inplace = True, drop = True)"
   ]
  },
  {
   "cell_type": "code",
   "execution_count": 5,
   "metadata": {},
   "outputs": [
    {
     "output_type": "execute_result",
     "data": {
      "text/plain": "      voted_up                                        clean_token  \\\n0        False  [&#39;hacker&#39;, &#39;destroy&#39;, &#39;game&#39;, &#39;use&#39;, &#39;hack&#39;, &#39;...   \n1        False  [&#39;hacking&#39;, &#39;ruin&#39;, &#39;game&#39;, &#39;recommend&#39;, &#39;repo...   \n2        False  [&#39;update&#39;, &#39;dev&#39;, &#39;address&#39;, &#39;cheat&#39;, &#39;issue&#39;,...   \n3        False  [&#39;game&#39;, &#39;full&#39;, &#39;hacker&#39;, &#39;need&#39;, &#39;report&#39;, &#39;...   \n4        False  [&#39;much&#39;, &#39;enjoy&#39;, &#39;game&#39;, &#39;rampant&#39;, &#39;hacker&#39;,...   \n...        ...                                                ...   \n3321     False  [&#39;really&#39;, &#39;fun&#39;, &#39;first&#39;, &#39;time&#39;, &#39;play&#39;, &#39;ge...   \n3322     False                                  [&#39;start&#39;, &#39;game&#39;]   \n3323     False  [&#39;buy&#39;, &#39;game&#39;, &#39;day&#39;, &#39;release&#39;, &#39;wait&#39;, &#39;rel...   \n3324     False  [&#39;really&#39;, &#39;fun&#39;, &#39;start&#39;, &#39;griefer&#39;, &#39;hacker&#39;...   \n3325     False  [&#39;fun&#39;, &#39;first&#39;, &#39;hour&#39;, &#39;gameplay&#39;, &#39;however&#39;...   \n\n                                              clean_str  \n0     hacker destroy game use hack final matchill ch...  \n1     hacking ruin game recommend reporting antichea...  \n2     update dev address cheat issue finally add eac...  \n3         game full hacker need report system something  \n4     much enjoy game rampant hacker discord remove ...  \n...                                                 ...  \n3321  really fun first time play get redundant annoy...  \n3322                                         start game  \n3323  buy game day release wait release whole hour t...  \n3324  really fun start griefer hacker infest game pl...  \n3325  fun first hour gameplay however basic issue co...  \n\n[3326 rows x 3 columns]",
      "text/html": "<div>\n<style scoped>\n    .dataframe tbody tr th:only-of-type {\n        vertical-align: middle;\n    }\n\n    .dataframe tbody tr th {\n        vertical-align: top;\n    }\n\n    .dataframe thead th {\n        text-align: right;\n    }\n</style>\n<table border=\"1\" class=\"dataframe\">\n  <thead>\n    <tr style=\"text-align: right;\">\n      <th></th>\n      <th>voted_up</th>\n      <th>clean_token</th>\n      <th>clean_str</th>\n    </tr>\n  </thead>\n  <tbody>\n    <tr>\n      <th>0</th>\n      <td>False</td>\n      <td>['hacker', 'destroy', 'game', 'use', 'hack', '...</td>\n      <td>hacker destroy game use hack final matchill ch...</td>\n    </tr>\n    <tr>\n      <th>1</th>\n      <td>False</td>\n      <td>['hacking', 'ruin', 'game', 'recommend', 'repo...</td>\n      <td>hacking ruin game recommend reporting antichea...</td>\n    </tr>\n    <tr>\n      <th>2</th>\n      <td>False</td>\n      <td>['update', 'dev', 'address', 'cheat', 'issue',...</td>\n      <td>update dev address cheat issue finally add eac...</td>\n    </tr>\n    <tr>\n      <th>3</th>\n      <td>False</td>\n      <td>['game', 'full', 'hacker', 'need', 'report', '...</td>\n      <td>game full hacker need report system something</td>\n    </tr>\n    <tr>\n      <th>4</th>\n      <td>False</td>\n      <td>['much', 'enjoy', 'game', 'rampant', 'hacker',...</td>\n      <td>much enjoy game rampant hacker discord remove ...</td>\n    </tr>\n    <tr>\n      <th>...</th>\n      <td>...</td>\n      <td>...</td>\n      <td>...</td>\n    </tr>\n    <tr>\n      <th>3321</th>\n      <td>False</td>\n      <td>['really', 'fun', 'first', 'time', 'play', 'ge...</td>\n      <td>really fun first time play get redundant annoy...</td>\n    </tr>\n    <tr>\n      <th>3322</th>\n      <td>False</td>\n      <td>['start', 'game']</td>\n      <td>start game</td>\n    </tr>\n    <tr>\n      <th>3323</th>\n      <td>False</td>\n      <td>['buy', 'game', 'day', 'release', 'wait', 'rel...</td>\n      <td>buy game day release wait release whole hour t...</td>\n    </tr>\n    <tr>\n      <th>3324</th>\n      <td>False</td>\n      <td>['really', 'fun', 'start', 'griefer', 'hacker'...</td>\n      <td>really fun start griefer hacker infest game pl...</td>\n    </tr>\n    <tr>\n      <th>3325</th>\n      <td>False</td>\n      <td>['fun', 'first', 'hour', 'gameplay', 'however'...</td>\n      <td>fun first hour gameplay however basic issue co...</td>\n    </tr>\n  </tbody>\n</table>\n<p>3326 rows × 3 columns</p>\n</div>"
     },
     "metadata": {},
     "execution_count": 5
    }
   ],
   "source": [
    "df_no"
   ]
  },
  {
   "cell_type": "code",
   "execution_count": 6,
   "metadata": {},
   "outputs": [],
   "source": [
    "df_no.clean_str=df_no.clean_str.astype(str)"
   ]
  },
  {
   "cell_type": "code",
   "execution_count": 17,
   "metadata": {},
   "outputs": [],
   "source": [
    "vectorizer = CountVectorizer(analyzer='word',  \n",
    "                             min_df=3,   \n",
    "                             stop_words=['game'],\n",
    "                             ngram_range=(2,2),                           \n",
    "                             lowercase=True,                  \n",
    "                             token_pattern='[a-zA-Z0-9]{3,}', \n",
    "                             max_features=10000,           \n",
    "                            )\n",
    "\n",
    "data_vectorized = vectorizer.fit_transform(df_no['clean_str'])\n",
    "\n",
    "lda_model = LatentDirichletAllocation(n_components= 6,\n",
    "                                      learning_method='online',\n",
    "                                      random_state=0,       \n",
    "                                      n_jobs = -1\n",
    "                                     )\n",
    "lda_output = lda_model.fit_transform(data_vectorized)"
   ]
  },
  {
   "cell_type": "code",
   "execution_count": 18,
   "metadata": {},
   "outputs": [
    {
     "output_type": "execute_result",
     "data": {
      "text/plain": "                Word 0           Word 1            Word 2          Word 3  \\\nTopic 0   many cheater  cheater cheater          fun play      fix server   \nTopic 1       fall guy    battle royale          tail tag        fun play   \nTopic 2      feel like        team mode          fall guy     play friend   \nTopic 3    many hacker      full hacker      hacker every    almost every   \nTopic 4  cheater every      waste money  connection issue  get disconnect   \nTopic 5   server issue        feel like        really fun       fun first   \n\n                  Word 4        Word 5          Word 6           Word 7  \\\nTopic 0  completely ruin      way many      anti cheat  positive review   \nTopic 1      remove team   play friend  get repetitive          lot fun   \nTopic 2       anti cheat    waste time        time get       fun friend   \nTopic 3  would recommend  cheater ruin        ruin fun    current state   \nTopic 4        fall ball     seem like   report system      hacker ruin   \nTopic 5       every time    way report    full cheater        luck base   \n\n             Word 8         Word 9  \nTopic 0  last round     please fix  \nTopic 1   want play  get eliminate  \nTopic 2   team base  current state  \nTopic 3  chance win  recommend buy  \nTopic 4    get well   every second  \nTopic 5    may well    worth price  ",
      "text/html": "<div>\n<style scoped>\n    .dataframe tbody tr th:only-of-type {\n        vertical-align: middle;\n    }\n\n    .dataframe tbody tr th {\n        vertical-align: top;\n    }\n\n    .dataframe thead th {\n        text-align: right;\n    }\n</style>\n<table border=\"1\" class=\"dataframe\">\n  <thead>\n    <tr style=\"text-align: right;\">\n      <th></th>\n      <th>Word 0</th>\n      <th>Word 1</th>\n      <th>Word 2</th>\n      <th>Word 3</th>\n      <th>Word 4</th>\n      <th>Word 5</th>\n      <th>Word 6</th>\n      <th>Word 7</th>\n      <th>Word 8</th>\n      <th>Word 9</th>\n    </tr>\n  </thead>\n  <tbody>\n    <tr>\n      <th>Topic 0</th>\n      <td>many cheater</td>\n      <td>cheater cheater</td>\n      <td>fun play</td>\n      <td>fix server</td>\n      <td>completely ruin</td>\n      <td>way many</td>\n      <td>anti cheat</td>\n      <td>positive review</td>\n      <td>last round</td>\n      <td>please fix</td>\n    </tr>\n    <tr>\n      <th>Topic 1</th>\n      <td>fall guy</td>\n      <td>battle royale</td>\n      <td>tail tag</td>\n      <td>fun play</td>\n      <td>remove team</td>\n      <td>play friend</td>\n      <td>get repetitive</td>\n      <td>lot fun</td>\n      <td>want play</td>\n      <td>get eliminate</td>\n    </tr>\n    <tr>\n      <th>Topic 2</th>\n      <td>feel like</td>\n      <td>team mode</td>\n      <td>fall guy</td>\n      <td>play friend</td>\n      <td>anti cheat</td>\n      <td>waste time</td>\n      <td>time get</td>\n      <td>fun friend</td>\n      <td>team base</td>\n      <td>current state</td>\n    </tr>\n    <tr>\n      <th>Topic 3</th>\n      <td>many hacker</td>\n      <td>full hacker</td>\n      <td>hacker every</td>\n      <td>almost every</td>\n      <td>would recommend</td>\n      <td>cheater ruin</td>\n      <td>ruin fun</td>\n      <td>current state</td>\n      <td>chance win</td>\n      <td>recommend buy</td>\n    </tr>\n    <tr>\n      <th>Topic 4</th>\n      <td>cheater every</td>\n      <td>waste money</td>\n      <td>connection issue</td>\n      <td>get disconnect</td>\n      <td>fall ball</td>\n      <td>seem like</td>\n      <td>report system</td>\n      <td>hacker ruin</td>\n      <td>get well</td>\n      <td>every second</td>\n    </tr>\n    <tr>\n      <th>Topic 5</th>\n      <td>server issue</td>\n      <td>feel like</td>\n      <td>really fun</td>\n      <td>fun first</td>\n      <td>every time</td>\n      <td>way report</td>\n      <td>full cheater</td>\n      <td>luck base</td>\n      <td>may well</td>\n      <td>worth price</td>\n    </tr>\n  </tbody>\n</table>\n</div>"
     },
     "metadata": {},
     "execution_count": 18
    }
   ],
   "source": [
    "def show_topics(vectorizer=vectorizer, lda_model=lda_model, n_words=10):\n",
    "    keywords = np.array(vectorizer.get_feature_names())\n",
    "    topic_keywords = []\n",
    "    for topic_weights in lda_model.components_:\n",
    "        top_keyword_locs = (-topic_weights).argsort()[:n_words]\n",
    "        topic_keywords.append(keywords.take(top_keyword_locs))\n",
    "    return topic_keywords\n",
    "\n",
    "topic_keywords = show_topics(vectorizer=vectorizer, lda_model=lda_model, n_words=10)        \n",
    "\n",
    "# Topic - Keywords Dataframe\n",
    "df_topic_keywords = pd.DataFrame(topic_keywords)\n",
    "df_topic_keywords.columns = ['Word '+str(i) for i in range(df_topic_keywords.shape[1])]\n",
    "df_topic_keywords.index = ['Topic '+str(i) for i in range(df_topic_keywords.shape[0])]\n",
    "df_topic_keywords"
   ]
  },
  {
   "cell_type": "code",
   "execution_count": 19,
   "metadata": {},
   "outputs": [],
   "source": [
    "Topics_theme = ['cheaters ruin the game', 'some stages get repetitive', 'team mode is fun but a waste of time with cheaters', 'hackers in almost every stages', 'server connection issues', 'cheater reporting system']\n",
    "df_topic_keywords['topic_theme'] = Topics_theme"
   ]
  },
  {
   "cell_type": "code",
   "execution_count": 20,
   "metadata": {},
   "outputs": [],
   "source": [
    "df_topic_keywords.set_index('topic_theme', inplace=True)"
   ]
  },
  {
   "cell_type": "code",
   "execution_count": 21,
   "metadata": {},
   "outputs": [
    {
     "output_type": "execute_result",
     "data": {
      "text/plain": "topic_theme cheaters ruin the game some stages get repetitive  \\\nWord 0                many cheater                   fall guy   \nWord 1             cheater cheater              battle royale   \nWord 2                    fun play                   tail tag   \nWord 3                  fix server                   fun play   \nWord 4             completely ruin                remove team   \nWord 5                    way many                play friend   \nWord 6                  anti cheat             get repetitive   \nWord 7             positive review                    lot fun   \nWord 8                  last round                  want play   \nWord 9                  please fix              get eliminate   \n\ntopic_theme team mode is fun but a waste of time with cheaters  \\\nWord 0                                               feel like   \nWord 1                                               team mode   \nWord 2                                                fall guy   \nWord 3                                             play friend   \nWord 4                                              anti cheat   \nWord 5                                              waste time   \nWord 6                                                time get   \nWord 7                                              fun friend   \nWord 8                                               team base   \nWord 9                                           current state   \n\ntopic_theme hackers in almost every stages server connection issues  \\\nWord 0                         many hacker            cheater every   \nWord 1                         full hacker              waste money   \nWord 2                        hacker every         connection issue   \nWord 3                        almost every           get disconnect   \nWord 4                     would recommend                fall ball   \nWord 5                        cheater ruin                seem like   \nWord 6                            ruin fun            report system   \nWord 7                       current state              hacker ruin   \nWord 8                          chance win                 get well   \nWord 9                       recommend buy             every second   \n\ntopic_theme cheater reporting system  \nWord 0                  server issue  \nWord 1                     feel like  \nWord 2                    really fun  \nWord 3                     fun first  \nWord 4                    every time  \nWord 5                    way report  \nWord 6                  full cheater  \nWord 7                     luck base  \nWord 8                      may well  \nWord 9                   worth price  ",
      "text/html": "<div>\n<style scoped>\n    .dataframe tbody tr th:only-of-type {\n        vertical-align: middle;\n    }\n\n    .dataframe tbody tr th {\n        vertical-align: top;\n    }\n\n    .dataframe thead th {\n        text-align: right;\n    }\n</style>\n<table border=\"1\" class=\"dataframe\">\n  <thead>\n    <tr style=\"text-align: right;\">\n      <th>topic_theme</th>\n      <th>cheaters ruin the game</th>\n      <th>some stages get repetitive</th>\n      <th>team mode is fun but a waste of time with cheaters</th>\n      <th>hackers in almost every stages</th>\n      <th>server connection issues</th>\n      <th>cheater reporting system</th>\n    </tr>\n  </thead>\n  <tbody>\n    <tr>\n      <th>Word 0</th>\n      <td>many cheater</td>\n      <td>fall guy</td>\n      <td>feel like</td>\n      <td>many hacker</td>\n      <td>cheater every</td>\n      <td>server issue</td>\n    </tr>\n    <tr>\n      <th>Word 1</th>\n      <td>cheater cheater</td>\n      <td>battle royale</td>\n      <td>team mode</td>\n      <td>full hacker</td>\n      <td>waste money</td>\n      <td>feel like</td>\n    </tr>\n    <tr>\n      <th>Word 2</th>\n      <td>fun play</td>\n      <td>tail tag</td>\n      <td>fall guy</td>\n      <td>hacker every</td>\n      <td>connection issue</td>\n      <td>really fun</td>\n    </tr>\n    <tr>\n      <th>Word 3</th>\n      <td>fix server</td>\n      <td>fun play</td>\n      <td>play friend</td>\n      <td>almost every</td>\n      <td>get disconnect</td>\n      <td>fun first</td>\n    </tr>\n    <tr>\n      <th>Word 4</th>\n      <td>completely ruin</td>\n      <td>remove team</td>\n      <td>anti cheat</td>\n      <td>would recommend</td>\n      <td>fall ball</td>\n      <td>every time</td>\n    </tr>\n    <tr>\n      <th>Word 5</th>\n      <td>way many</td>\n      <td>play friend</td>\n      <td>waste time</td>\n      <td>cheater ruin</td>\n      <td>seem like</td>\n      <td>way report</td>\n    </tr>\n    <tr>\n      <th>Word 6</th>\n      <td>anti cheat</td>\n      <td>get repetitive</td>\n      <td>time get</td>\n      <td>ruin fun</td>\n      <td>report system</td>\n      <td>full cheater</td>\n    </tr>\n    <tr>\n      <th>Word 7</th>\n      <td>positive review</td>\n      <td>lot fun</td>\n      <td>fun friend</td>\n      <td>current state</td>\n      <td>hacker ruin</td>\n      <td>luck base</td>\n    </tr>\n    <tr>\n      <th>Word 8</th>\n      <td>last round</td>\n      <td>want play</td>\n      <td>team base</td>\n      <td>chance win</td>\n      <td>get well</td>\n      <td>may well</td>\n    </tr>\n    <tr>\n      <th>Word 9</th>\n      <td>please fix</td>\n      <td>get eliminate</td>\n      <td>current state</td>\n      <td>recommend buy</td>\n      <td>every second</td>\n      <td>worth price</td>\n    </tr>\n  </tbody>\n</table>\n</div>"
     },
     "metadata": {},
     "execution_count": 21
    }
   ],
   "source": [
    "df_topic_keywords.T"
   ]
  },
  {
   "cell_type": "code",
   "execution_count": 23,
   "metadata": {},
   "outputs": [],
   "source": [
    "lda_output = lda_model.transform(data_vectorized)\n",
    "\n",
    "topicnames = df_topic_keywords.T.columns\n",
    "\n",
    "docnames = [\"Doc\" + str(i) for i in range(len(df_no))]\n",
    "\n",
    "df_document_topic = pd.DataFrame(np.round(lda_output, 2), columns=topicnames, index=docnames)\n",
    "\n",
    "dominant_topic = np.argmax(df_document_topic.values, axis=1)\n",
    "df_document_topic['dominant_topic'] = dominant_topic"
   ]
  },
  {
   "cell_type": "code",
   "execution_count": 24,
   "metadata": {},
   "outputs": [],
   "source": [
    "df_document_topic.reset_index(inplace=True)\n",
    "df_sent_topic= pd.merge(df_no, df_document_topic, left_index=True, right_index=True)\n",
    "df_sent_topic.drop('index', axis=1, inplace=True)"
   ]
  },
  {
   "cell_type": "code",
   "execution_count": 25,
   "metadata": {},
   "outputs": [
    {
     "output_type": "execute_result",
     "data": {
      "text/plain": "      voted_up                                        clean_token  \\\n0        False  [&#39;hacker&#39;, &#39;destroy&#39;, &#39;game&#39;, &#39;use&#39;, &#39;hack&#39;, &#39;...   \n1        False  [&#39;hacking&#39;, &#39;ruin&#39;, &#39;game&#39;, &#39;recommend&#39;, &#39;repo...   \n2        False  [&#39;update&#39;, &#39;dev&#39;, &#39;address&#39;, &#39;cheat&#39;, &#39;issue&#39;,...   \n3        False  [&#39;game&#39;, &#39;full&#39;, &#39;hacker&#39;, &#39;need&#39;, &#39;report&#39;, &#39;...   \n4        False  [&#39;much&#39;, &#39;enjoy&#39;, &#39;game&#39;, &#39;rampant&#39;, &#39;hacker&#39;,...   \n...        ...                                                ...   \n3321     False  [&#39;really&#39;, &#39;fun&#39;, &#39;first&#39;, &#39;time&#39;, &#39;play&#39;, &#39;ge...   \n3322     False                                  [&#39;start&#39;, &#39;game&#39;]   \n3323     False  [&#39;buy&#39;, &#39;game&#39;, &#39;day&#39;, &#39;release&#39;, &#39;wait&#39;, &#39;rel...   \n3324     False  [&#39;really&#39;, &#39;fun&#39;, &#39;start&#39;, &#39;griefer&#39;, &#39;hacker&#39;...   \n3325     False  [&#39;fun&#39;, &#39;first&#39;, &#39;hour&#39;, &#39;gameplay&#39;, &#39;however&#39;...   \n\n                                              clean_str  \\\n0     hacker destroy game use hack final matchill ch...   \n1     hacking ruin game recommend reporting antichea...   \n2     update dev address cheat issue finally add eac...   \n3         game full hacker need report system something   \n4     much enjoy game rampant hacker discord remove ...   \n...                                                 ...   \n3321  really fun first time play get redundant annoy...   \n3322                                         start game   \n3323  buy game day release wait release whole hour t...   \n3324  really fun start griefer hacker infest game pl...   \n3325  fun first hour gameplay however basic issue co...   \n\n      cheaters ruin the game  some stages get repetitive  \\\n0                       0.02                        0.02   \n1                       0.03                        0.03   \n2                       0.03                        0.00   \n3                       0.03                        0.03   \n4                       0.00                        0.00   \n...                      ...                         ...   \n3321                    0.01                        0.38   \n3322                    0.17                        0.17   \n3323                    0.08                        0.45   \n3324                    0.10                        0.01   \n3325                    0.40                        0.02   \n\n      team mode is fun but a waste of time with cheaters  \\\n0                                                  0.02    \n1                                                  0.03    \n2                                                  0.00    \n3                                                  0.03    \n4                                                  0.00    \n...                                                 ...    \n3321                                               0.17    \n3322                                               0.17    \n3323                                               0.14    \n3324                                               0.08    \n3325                                               0.02    \n\n      hackers in almost every stages  server connection issues  \\\n0                               0.02                      0.02   \n1                               0.03                      0.83   \n2                               0.00                      0.00   \n3                               0.83                      0.03   \n4                               0.00                      0.98   \n...                              ...                       ...   \n3321                            0.01                      0.15   \n3322                            0.17                      0.17   \n3323                            0.08                      0.01   \n3324                            0.06                      0.22   \n3325                            0.15                      0.15   \n\n      cheater reporting system  dominant_topic  \n0                         0.92               5  \n1                         0.03               4  \n2                         0.97               5  \n3                         0.03               3  \n4                         0.00               4  \n...                        ...             ...  \n3321                      0.29               1  \n3322                      0.17               0  \n3323                      0.25               1  \n3324                      0.52               5  \n3325                      0.26               0  \n\n[3326 rows x 10 columns]",
      "text/html": "<div>\n<style scoped>\n    .dataframe tbody tr th:only-of-type {\n        vertical-align: middle;\n    }\n\n    .dataframe tbody tr th {\n        vertical-align: top;\n    }\n\n    .dataframe thead th {\n        text-align: right;\n    }\n</style>\n<table border=\"1\" class=\"dataframe\">\n  <thead>\n    <tr style=\"text-align: right;\">\n      <th></th>\n      <th>voted_up</th>\n      <th>clean_token</th>\n      <th>clean_str</th>\n      <th>cheaters ruin the game</th>\n      <th>some stages get repetitive</th>\n      <th>team mode is fun but a waste of time with cheaters</th>\n      <th>hackers in almost every stages</th>\n      <th>server connection issues</th>\n      <th>cheater reporting system</th>\n      <th>dominant_topic</th>\n    </tr>\n  </thead>\n  <tbody>\n    <tr>\n      <th>0</th>\n      <td>False</td>\n      <td>['hacker', 'destroy', 'game', 'use', 'hack', '...</td>\n      <td>hacker destroy game use hack final matchill ch...</td>\n      <td>0.02</td>\n      <td>0.02</td>\n      <td>0.02</td>\n      <td>0.02</td>\n      <td>0.02</td>\n      <td>0.92</td>\n      <td>5</td>\n    </tr>\n    <tr>\n      <th>1</th>\n      <td>False</td>\n      <td>['hacking', 'ruin', 'game', 'recommend', 'repo...</td>\n      <td>hacking ruin game recommend reporting antichea...</td>\n      <td>0.03</td>\n      <td>0.03</td>\n      <td>0.03</td>\n      <td>0.03</td>\n      <td>0.83</td>\n      <td>0.03</td>\n      <td>4</td>\n    </tr>\n    <tr>\n      <th>2</th>\n      <td>False</td>\n      <td>['update', 'dev', 'address', 'cheat', 'issue',...</td>\n      <td>update dev address cheat issue finally add eac...</td>\n      <td>0.03</td>\n      <td>0.00</td>\n      <td>0.00</td>\n      <td>0.00</td>\n      <td>0.00</td>\n      <td>0.97</td>\n      <td>5</td>\n    </tr>\n    <tr>\n      <th>3</th>\n      <td>False</td>\n      <td>['game', 'full', 'hacker', 'need', 'report', '...</td>\n      <td>game full hacker need report system something</td>\n      <td>0.03</td>\n      <td>0.03</td>\n      <td>0.03</td>\n      <td>0.83</td>\n      <td>0.03</td>\n      <td>0.03</td>\n      <td>3</td>\n    </tr>\n    <tr>\n      <th>4</th>\n      <td>False</td>\n      <td>['much', 'enjoy', 'game', 'rampant', 'hacker',...</td>\n      <td>much enjoy game rampant hacker discord remove ...</td>\n      <td>0.00</td>\n      <td>0.00</td>\n      <td>0.00</td>\n      <td>0.00</td>\n      <td>0.98</td>\n      <td>0.00</td>\n      <td>4</td>\n    </tr>\n    <tr>\n      <th>...</th>\n      <td>...</td>\n      <td>...</td>\n      <td>...</td>\n      <td>...</td>\n      <td>...</td>\n      <td>...</td>\n      <td>...</td>\n      <td>...</td>\n      <td>...</td>\n      <td>...</td>\n    </tr>\n    <tr>\n      <th>3321</th>\n      <td>False</td>\n      <td>['really', 'fun', 'first', 'time', 'play', 'ge...</td>\n      <td>really fun first time play get redundant annoy...</td>\n      <td>0.01</td>\n      <td>0.38</td>\n      <td>0.17</td>\n      <td>0.01</td>\n      <td>0.15</td>\n      <td>0.29</td>\n      <td>1</td>\n    </tr>\n    <tr>\n      <th>3322</th>\n      <td>False</td>\n      <td>['start', 'game']</td>\n      <td>start game</td>\n      <td>0.17</td>\n      <td>0.17</td>\n      <td>0.17</td>\n      <td>0.17</td>\n      <td>0.17</td>\n      <td>0.17</td>\n      <td>0</td>\n    </tr>\n    <tr>\n      <th>3323</th>\n      <td>False</td>\n      <td>['buy', 'game', 'day', 'release', 'wait', 'rel...</td>\n      <td>buy game day release wait release whole hour t...</td>\n      <td>0.08</td>\n      <td>0.45</td>\n      <td>0.14</td>\n      <td>0.08</td>\n      <td>0.01</td>\n      <td>0.25</td>\n      <td>1</td>\n    </tr>\n    <tr>\n      <th>3324</th>\n      <td>False</td>\n      <td>['really', 'fun', 'start', 'griefer', 'hacker'...</td>\n      <td>really fun start griefer hacker infest game pl...</td>\n      <td>0.10</td>\n      <td>0.01</td>\n      <td>0.08</td>\n      <td>0.06</td>\n      <td>0.22</td>\n      <td>0.52</td>\n      <td>5</td>\n    </tr>\n    <tr>\n      <th>3325</th>\n      <td>False</td>\n      <td>['fun', 'first', 'hour', 'gameplay', 'however'...</td>\n      <td>fun first hour gameplay however basic issue co...</td>\n      <td>0.40</td>\n      <td>0.02</td>\n      <td>0.02</td>\n      <td>0.15</td>\n      <td>0.15</td>\n      <td>0.26</td>\n      <td>0</td>\n    </tr>\n  </tbody>\n</table>\n<p>3326 rows × 10 columns</p>\n</div>"
     },
     "metadata": {},
     "execution_count": 25
    }
   ],
   "source": [
    "df_sent_topic"
   ]
  },
  {
   "cell_type": "code",
   "execution_count": 26,
   "metadata": {},
   "outputs": [],
   "source": [
    "df_topic_theme = df_sent_topic[['clean_str', 'dominant_topic']]"
   ]
  },
  {
   "cell_type": "code",
   "execution_count": 27,
   "metadata": {},
   "outputs": [
    {
     "output_type": "execute_result",
     "data": {
      "text/plain": "                                           clean_str  dominant_topic\n0  hacker destroy game use hack final matchill ch...               5\n1  hacking ruin game recommend reporting antichea...               4\n2  update dev address cheat issue finally add eac...               5\n3      game full hacker need report system something               3\n4  much enjoy game rampant hacker discord remove ...               4\n5  ill start say far bad game definitely potentia...               1\n6  many hacker ruin silly game take one batch rui...               3\n7  game appear super fun laugh play friend ton fu...               0\n8                get fly hacker casual chill game xd               0\n9  fun game enough content start price dollar sta...               1",
      "text/html": "<div>\n<style scoped>\n    .dataframe tbody tr th:only-of-type {\n        vertical-align: middle;\n    }\n\n    .dataframe tbody tr th {\n        vertical-align: top;\n    }\n\n    .dataframe thead th {\n        text-align: right;\n    }\n</style>\n<table border=\"1\" class=\"dataframe\">\n  <thead>\n    <tr style=\"text-align: right;\">\n      <th></th>\n      <th>clean_str</th>\n      <th>dominant_topic</th>\n    </tr>\n  </thead>\n  <tbody>\n    <tr>\n      <th>0</th>\n      <td>hacker destroy game use hack final matchill ch...</td>\n      <td>5</td>\n    </tr>\n    <tr>\n      <th>1</th>\n      <td>hacking ruin game recommend reporting antichea...</td>\n      <td>4</td>\n    </tr>\n    <tr>\n      <th>2</th>\n      <td>update dev address cheat issue finally add eac...</td>\n      <td>5</td>\n    </tr>\n    <tr>\n      <th>3</th>\n      <td>game full hacker need report system something</td>\n      <td>3</td>\n    </tr>\n    <tr>\n      <th>4</th>\n      <td>much enjoy game rampant hacker discord remove ...</td>\n      <td>4</td>\n    </tr>\n    <tr>\n      <th>5</th>\n      <td>ill start say far bad game definitely potentia...</td>\n      <td>1</td>\n    </tr>\n    <tr>\n      <th>6</th>\n      <td>many hacker ruin silly game take one batch rui...</td>\n      <td>3</td>\n    </tr>\n    <tr>\n      <th>7</th>\n      <td>game appear super fun laugh play friend ton fu...</td>\n      <td>0</td>\n    </tr>\n    <tr>\n      <th>8</th>\n      <td>get fly hacker casual chill game xd</td>\n      <td>0</td>\n    </tr>\n    <tr>\n      <th>9</th>\n      <td>fun game enough content start price dollar sta...</td>\n      <td>1</td>\n    </tr>\n  </tbody>\n</table>\n</div>"
     },
     "metadata": {},
     "execution_count": 27
    }
   ],
   "source": [
    "df_topic_theme.head(10)"
   ]
  },
  {
   "cell_type": "code",
   "execution_count": 28,
   "metadata": {},
   "outputs": [],
   "source": [
    "topic_remap = {0: 'cheaters ruin the game', 1: 'some stages get repetitive', 2: 'team mode is fun but a waste of time with cheaters', 3: 'hackers in almost every stages', 4: 'server connection issues', 5: 'cheater reporting system'}"
   ]
  },
  {
   "cell_type": "code",
   "execution_count": 29,
   "metadata": {},
   "outputs": [],
   "source": [
    "df_topic_theme['dominant_topic_theme'] = df_topic_theme['dominant_topic'].map(topic_remap)"
   ]
  },
  {
   "cell_type": "code",
   "execution_count": 30,
   "metadata": {},
   "outputs": [
    {
     "output_type": "execute_result",
     "data": {
      "text/plain": "                                              clean_str  dominant_topic  \\\n0     hacker destroy game use hack final matchill ch...               5   \n1     hacking ruin game recommend reporting antichea...               4   \n2     update dev address cheat issue finally add eac...               5   \n3         game full hacker need report system something               3   \n4     much enjoy game rampant hacker discord remove ...               4   \n...                                                 ...             ...   \n3321  really fun first time play get redundant annoy...               1   \n3322                                         start game               0   \n3323  buy game day release wait release whole hour t...               1   \n3324  really fun start griefer hacker infest game pl...               5   \n3325  fun first hour gameplay however basic issue co...               0   \n\n                dominant_topic_theme  \n0           cheater reporting system  \n1           server connection issues  \n2           cheater reporting system  \n3     hackers in almost every stages  \n4           server connection issues  \n...                              ...  \n3321      some stages get repetitive  \n3322          cheaters ruin the game  \n3323      some stages get repetitive  \n3324        cheater reporting system  \n3325          cheaters ruin the game  \n\n[3326 rows x 3 columns]",
      "text/html": "<div>\n<style scoped>\n    .dataframe tbody tr th:only-of-type {\n        vertical-align: middle;\n    }\n\n    .dataframe tbody tr th {\n        vertical-align: top;\n    }\n\n    .dataframe thead th {\n        text-align: right;\n    }\n</style>\n<table border=\"1\" class=\"dataframe\">\n  <thead>\n    <tr style=\"text-align: right;\">\n      <th></th>\n      <th>clean_str</th>\n      <th>dominant_topic</th>\n      <th>dominant_topic_theme</th>\n    </tr>\n  </thead>\n  <tbody>\n    <tr>\n      <th>0</th>\n      <td>hacker destroy game use hack final matchill ch...</td>\n      <td>5</td>\n      <td>cheater reporting system</td>\n    </tr>\n    <tr>\n      <th>1</th>\n      <td>hacking ruin game recommend reporting antichea...</td>\n      <td>4</td>\n      <td>server connection issues</td>\n    </tr>\n    <tr>\n      <th>2</th>\n      <td>update dev address cheat issue finally add eac...</td>\n      <td>5</td>\n      <td>cheater reporting system</td>\n    </tr>\n    <tr>\n      <th>3</th>\n      <td>game full hacker need report system something</td>\n      <td>3</td>\n      <td>hackers in almost every stages</td>\n    </tr>\n    <tr>\n      <th>4</th>\n      <td>much enjoy game rampant hacker discord remove ...</td>\n      <td>4</td>\n      <td>server connection issues</td>\n    </tr>\n    <tr>\n      <th>...</th>\n      <td>...</td>\n      <td>...</td>\n      <td>...</td>\n    </tr>\n    <tr>\n      <th>3321</th>\n      <td>really fun first time play get redundant annoy...</td>\n      <td>1</td>\n      <td>some stages get repetitive</td>\n    </tr>\n    <tr>\n      <th>3322</th>\n      <td>start game</td>\n      <td>0</td>\n      <td>cheaters ruin the game</td>\n    </tr>\n    <tr>\n      <th>3323</th>\n      <td>buy game day release wait release whole hour t...</td>\n      <td>1</td>\n      <td>some stages get repetitive</td>\n    </tr>\n    <tr>\n      <th>3324</th>\n      <td>really fun start griefer hacker infest game pl...</td>\n      <td>5</td>\n      <td>cheater reporting system</td>\n    </tr>\n    <tr>\n      <th>3325</th>\n      <td>fun first hour gameplay however basic issue co...</td>\n      <td>0</td>\n      <td>cheaters ruin the game</td>\n    </tr>\n  </tbody>\n</table>\n<p>3326 rows × 3 columns</p>\n</div>"
     },
     "metadata": {},
     "execution_count": 30
    }
   ],
   "source": [
    "df_topic_theme"
   ]
  },
  {
   "cell_type": "code",
   "execution_count": 31,
   "metadata": {},
   "outputs": [
    {
     "output_type": "execute_result",
     "data": {
      "text/plain": "cheaters ruin the game                                888\nsome stages get repetitive                            607\nhackers in almost every stages                        550\nteam mode is fun but a waste of time with cheaters    507\nserver connection issues                              396\ncheater reporting system                              378\nName: dominant_topic_theme, dtype: int64"
     },
     "metadata": {},
     "execution_count": 31
    }
   ],
   "source": [
    "df_topic_theme['dominant_topic_theme'].value_counts()"
   ]
  },
  {
   "cell_type": "code",
   "execution_count": 32,
   "metadata": {},
   "outputs": [],
   "source": [
    "df_result = df_topic_theme['dominant_topic_theme'].value_counts().rename_axis('topic').reset_index(name='counts')"
   ]
  },
  {
   "cell_type": "code",
   "execution_count": 33,
   "metadata": {},
   "outputs": [
    {
     "output_type": "execute_result",
     "data": {
      "text/plain": "                                               topic  counts\n0                             cheaters ruin the game     888\n1                         some stages get repetitive     607\n2                     hackers in almost every stages     550\n3  team mode is fun but a waste of time with chea...     507\n4                           server connection issues     396\n5                           cheater reporting system     378",
      "text/html": "<div>\n<style scoped>\n    .dataframe tbody tr th:only-of-type {\n        vertical-align: middle;\n    }\n\n    .dataframe tbody tr th {\n        vertical-align: top;\n    }\n\n    .dataframe thead th {\n        text-align: right;\n    }\n</style>\n<table border=\"1\" class=\"dataframe\">\n  <thead>\n    <tr style=\"text-align: right;\">\n      <th></th>\n      <th>topic</th>\n      <th>counts</th>\n    </tr>\n  </thead>\n  <tbody>\n    <tr>\n      <th>0</th>\n      <td>cheaters ruin the game</td>\n      <td>888</td>\n    </tr>\n    <tr>\n      <th>1</th>\n      <td>some stages get repetitive</td>\n      <td>607</td>\n    </tr>\n    <tr>\n      <th>2</th>\n      <td>hackers in almost every stages</td>\n      <td>550</td>\n    </tr>\n    <tr>\n      <th>3</th>\n      <td>team mode is fun but a waste of time with chea...</td>\n      <td>507</td>\n    </tr>\n    <tr>\n      <th>4</th>\n      <td>server connection issues</td>\n      <td>396</td>\n    </tr>\n    <tr>\n      <th>5</th>\n      <td>cheater reporting system</td>\n      <td>378</td>\n    </tr>\n  </tbody>\n</table>\n</div>"
     },
     "metadata": {},
     "execution_count": 33
    }
   ],
   "source": [
    "df_result"
   ]
  },
  {
   "cell_type": "code",
   "execution_count": 34,
   "metadata": {},
   "outputs": [
    {
     "output_type": "display_data",
     "data": {
      "application/vnd.plotly.v1+json": {
       "config": {
        "plotlyServerURL": "https://plot.ly"
       },
       "data": [
        {
         "type": "bar",
         "x": [
          "cheaters ruin the game",
          "some stages get repetitive",
          "hackers in almost every stages",
          "team mode is fun but a waste of time with cheaters",
          "server connection issues",
          "cheater reporting system"
         ],
         "y": [
          888,
          607,
          550,
          507,
          396,
          378
         ]
        }
       ],
       "layout": {
        "template": {
         "data": {
          "bar": [
           {
            "error_x": {
             "color": "#2a3f5f"
            },
            "error_y": {
             "color": "#2a3f5f"
            },
            "marker": {
             "line": {
              "color": "#E5ECF6",
              "width": 0.5
             }
            },
            "type": "bar"
           }
          ],
          "barpolar": [
           {
            "marker": {
             "line": {
              "color": "#E5ECF6",
              "width": 0.5
             }
            },
            "type": "barpolar"
           }
          ],
          "carpet": [
           {
            "aaxis": {
             "endlinecolor": "#2a3f5f",
             "gridcolor": "white",
             "linecolor": "white",
             "minorgridcolor": "white",
             "startlinecolor": "#2a3f5f"
            },
            "baxis": {
             "endlinecolor": "#2a3f5f",
             "gridcolor": "white",
             "linecolor": "white",
             "minorgridcolor": "white",
             "startlinecolor": "#2a3f5f"
            },
            "type": "carpet"
           }
          ],
          "choropleth": [
           {
            "colorbar": {
             "outlinewidth": 0,
             "ticks": ""
            },
            "type": "choropleth"
           }
          ],
          "contour": [
           {
            "colorbar": {
             "outlinewidth": 0,
             "ticks": ""
            },
            "colorscale": [
             [
              0,
              "#0d0887"
             ],
             [
              0.1111111111111111,
              "#46039f"
             ],
             [
              0.2222222222222222,
              "#7201a8"
             ],
             [
              0.3333333333333333,
              "#9c179e"
             ],
             [
              0.4444444444444444,
              "#bd3786"
             ],
             [
              0.5555555555555556,
              "#d8576b"
             ],
             [
              0.6666666666666666,
              "#ed7953"
             ],
             [
              0.7777777777777778,
              "#fb9f3a"
             ],
             [
              0.8888888888888888,
              "#fdca26"
             ],
             [
              1,
              "#f0f921"
             ]
            ],
            "type": "contour"
           }
          ],
          "contourcarpet": [
           {
            "colorbar": {
             "outlinewidth": 0,
             "ticks": ""
            },
            "type": "contourcarpet"
           }
          ],
          "heatmap": [
           {
            "colorbar": {
             "outlinewidth": 0,
             "ticks": ""
            },
            "colorscale": [
             [
              0,
              "#0d0887"
             ],
             [
              0.1111111111111111,
              "#46039f"
             ],
             [
              0.2222222222222222,
              "#7201a8"
             ],
             [
              0.3333333333333333,
              "#9c179e"
             ],
             [
              0.4444444444444444,
              "#bd3786"
             ],
             [
              0.5555555555555556,
              "#d8576b"
             ],
             [
              0.6666666666666666,
              "#ed7953"
             ],
             [
              0.7777777777777778,
              "#fb9f3a"
             ],
             [
              0.8888888888888888,
              "#fdca26"
             ],
             [
              1,
              "#f0f921"
             ]
            ],
            "type": "heatmap"
           }
          ],
          "heatmapgl": [
           {
            "colorbar": {
             "outlinewidth": 0,
             "ticks": ""
            },
            "colorscale": [
             [
              0,
              "#0d0887"
             ],
             [
              0.1111111111111111,
              "#46039f"
             ],
             [
              0.2222222222222222,
              "#7201a8"
             ],
             [
              0.3333333333333333,
              "#9c179e"
             ],
             [
              0.4444444444444444,
              "#bd3786"
             ],
             [
              0.5555555555555556,
              "#d8576b"
             ],
             [
              0.6666666666666666,
              "#ed7953"
             ],
             [
              0.7777777777777778,
              "#fb9f3a"
             ],
             [
              0.8888888888888888,
              "#fdca26"
             ],
             [
              1,
              "#f0f921"
             ]
            ],
            "type": "heatmapgl"
           }
          ],
          "histogram": [
           {
            "marker": {
             "colorbar": {
              "outlinewidth": 0,
              "ticks": ""
             }
            },
            "type": "histogram"
           }
          ],
          "histogram2d": [
           {
            "colorbar": {
             "outlinewidth": 0,
             "ticks": ""
            },
            "colorscale": [
             [
              0,
              "#0d0887"
             ],
             [
              0.1111111111111111,
              "#46039f"
             ],
             [
              0.2222222222222222,
              "#7201a8"
             ],
             [
              0.3333333333333333,
              "#9c179e"
             ],
             [
              0.4444444444444444,
              "#bd3786"
             ],
             [
              0.5555555555555556,
              "#d8576b"
             ],
             [
              0.6666666666666666,
              "#ed7953"
             ],
             [
              0.7777777777777778,
              "#fb9f3a"
             ],
             [
              0.8888888888888888,
              "#fdca26"
             ],
             [
              1,
              "#f0f921"
             ]
            ],
            "type": "histogram2d"
           }
          ],
          "histogram2dcontour": [
           {
            "colorbar": {
             "outlinewidth": 0,
             "ticks": ""
            },
            "colorscale": [
             [
              0,
              "#0d0887"
             ],
             [
              0.1111111111111111,
              "#46039f"
             ],
             [
              0.2222222222222222,
              "#7201a8"
             ],
             [
              0.3333333333333333,
              "#9c179e"
             ],
             [
              0.4444444444444444,
              "#bd3786"
             ],
             [
              0.5555555555555556,
              "#d8576b"
             ],
             [
              0.6666666666666666,
              "#ed7953"
             ],
             [
              0.7777777777777778,
              "#fb9f3a"
             ],
             [
              0.8888888888888888,
              "#fdca26"
             ],
             [
              1,
              "#f0f921"
             ]
            ],
            "type": "histogram2dcontour"
           }
          ],
          "mesh3d": [
           {
            "colorbar": {
             "outlinewidth": 0,
             "ticks": ""
            },
            "type": "mesh3d"
           }
          ],
          "parcoords": [
           {
            "line": {
             "colorbar": {
              "outlinewidth": 0,
              "ticks": ""
             }
            },
            "type": "parcoords"
           }
          ],
          "scatter": [
           {
            "marker": {
             "colorbar": {
              "outlinewidth": 0,
              "ticks": ""
             }
            },
            "type": "scatter"
           }
          ],
          "scatter3d": [
           {
            "line": {
             "colorbar": {
              "outlinewidth": 0,
              "ticks": ""
             }
            },
            "marker": {
             "colorbar": {
              "outlinewidth": 0,
              "ticks": ""
             }
            },
            "type": "scatter3d"
           }
          ],
          "scattercarpet": [
           {
            "marker": {
             "colorbar": {
              "outlinewidth": 0,
              "ticks": ""
             }
            },
            "type": "scattercarpet"
           }
          ],
          "scattergeo": [
           {
            "marker": {
             "colorbar": {
              "outlinewidth": 0,
              "ticks": ""
             }
            },
            "type": "scattergeo"
           }
          ],
          "scattergl": [
           {
            "marker": {
             "colorbar": {
              "outlinewidth": 0,
              "ticks": ""
             }
            },
            "type": "scattergl"
           }
          ],
          "scattermapbox": [
           {
            "marker": {
             "colorbar": {
              "outlinewidth": 0,
              "ticks": ""
             }
            },
            "type": "scattermapbox"
           }
          ],
          "scatterpolar": [
           {
            "marker": {
             "colorbar": {
              "outlinewidth": 0,
              "ticks": ""
             }
            },
            "type": "scatterpolar"
           }
          ],
          "scatterpolargl": [
           {
            "marker": {
             "colorbar": {
              "outlinewidth": 0,
              "ticks": ""
             }
            },
            "type": "scatterpolargl"
           }
          ],
          "scatterternary": [
           {
            "marker": {
             "colorbar": {
              "outlinewidth": 0,
              "ticks": ""
             }
            },
            "type": "scatterternary"
           }
          ],
          "surface": [
           {
            "colorbar": {
             "outlinewidth": 0,
             "ticks": ""
            },
            "colorscale": [
             [
              0,
              "#0d0887"
             ],
             [
              0.1111111111111111,
              "#46039f"
             ],
             [
              0.2222222222222222,
              "#7201a8"
             ],
             [
              0.3333333333333333,
              "#9c179e"
             ],
             [
              0.4444444444444444,
              "#bd3786"
             ],
             [
              0.5555555555555556,
              "#d8576b"
             ],
             [
              0.6666666666666666,
              "#ed7953"
             ],
             [
              0.7777777777777778,
              "#fb9f3a"
             ],
             [
              0.8888888888888888,
              "#fdca26"
             ],
             [
              1,
              "#f0f921"
             ]
            ],
            "type": "surface"
           }
          ],
          "table": [
           {
            "cells": {
             "fill": {
              "color": "#EBF0F8"
             },
             "line": {
              "color": "white"
             }
            },
            "header": {
             "fill": {
              "color": "#C8D4E3"
             },
             "line": {
              "color": "white"
             }
            },
            "type": "table"
           }
          ]
         },
         "layout": {
          "annotationdefaults": {
           "arrowcolor": "#2a3f5f",
           "arrowhead": 0,
           "arrowwidth": 1
          },
          "colorscale": {
           "diverging": [
            [
             0,
             "#8e0152"
            ],
            [
             0.1,
             "#c51b7d"
            ],
            [
             0.2,
             "#de77ae"
            ],
            [
             0.3,
             "#f1b6da"
            ],
            [
             0.4,
             "#fde0ef"
            ],
            [
             0.5,
             "#f7f7f7"
            ],
            [
             0.6,
             "#e6f5d0"
            ],
            [
             0.7,
             "#b8e186"
            ],
            [
             0.8,
             "#7fbc41"
            ],
            [
             0.9,
             "#4d9221"
            ],
            [
             1,
             "#276419"
            ]
           ],
           "sequential": [
            [
             0,
             "#0d0887"
            ],
            [
             0.1111111111111111,
             "#46039f"
            ],
            [
             0.2222222222222222,
             "#7201a8"
            ],
            [
             0.3333333333333333,
             "#9c179e"
            ],
            [
             0.4444444444444444,
             "#bd3786"
            ],
            [
             0.5555555555555556,
             "#d8576b"
            ],
            [
             0.6666666666666666,
             "#ed7953"
            ],
            [
             0.7777777777777778,
             "#fb9f3a"
            ],
            [
             0.8888888888888888,
             "#fdca26"
            ],
            [
             1,
             "#f0f921"
            ]
           ],
           "sequentialminus": [
            [
             0,
             "#0d0887"
            ],
            [
             0.1111111111111111,
             "#46039f"
            ],
            [
             0.2222222222222222,
             "#7201a8"
            ],
            [
             0.3333333333333333,
             "#9c179e"
            ],
            [
             0.4444444444444444,
             "#bd3786"
            ],
            [
             0.5555555555555556,
             "#d8576b"
            ],
            [
             0.6666666666666666,
             "#ed7953"
            ],
            [
             0.7777777777777778,
             "#fb9f3a"
            ],
            [
             0.8888888888888888,
             "#fdca26"
            ],
            [
             1,
             "#f0f921"
            ]
           ]
          },
          "colorway": [
           "#636efa",
           "#EF553B",
           "#00cc96",
           "#ab63fa",
           "#FFA15A",
           "#19d3f3",
           "#FF6692",
           "#B6E880",
           "#FF97FF",
           "#FECB52"
          ],
          "font": {
           "color": "#2a3f5f"
          },
          "geo": {
           "bgcolor": "white",
           "lakecolor": "white",
           "landcolor": "#E5ECF6",
           "showlakes": true,
           "showland": true,
           "subunitcolor": "white"
          },
          "hoverlabel": {
           "align": "left"
          },
          "hovermode": "closest",
          "mapbox": {
           "style": "light"
          },
          "paper_bgcolor": "white",
          "plot_bgcolor": "#E5ECF6",
          "polar": {
           "angularaxis": {
            "gridcolor": "white",
            "linecolor": "white",
            "ticks": ""
           },
           "bgcolor": "#E5ECF6",
           "radialaxis": {
            "gridcolor": "white",
            "linecolor": "white",
            "ticks": ""
           }
          },
          "scene": {
           "xaxis": {
            "backgroundcolor": "#E5ECF6",
            "gridcolor": "white",
            "gridwidth": 2,
            "linecolor": "white",
            "showbackground": true,
            "ticks": "",
            "zerolinecolor": "white"
           },
           "yaxis": {
            "backgroundcolor": "#E5ECF6",
            "gridcolor": "white",
            "gridwidth": 2,
            "linecolor": "white",
            "showbackground": true,
            "ticks": "",
            "zerolinecolor": "white"
           },
           "zaxis": {
            "backgroundcolor": "#E5ECF6",
            "gridcolor": "white",
            "gridwidth": 2,
            "linecolor": "white",
            "showbackground": true,
            "ticks": "",
            "zerolinecolor": "white"
           }
          },
          "shapedefaults": {
           "line": {
            "color": "#2a3f5f"
           }
          },
          "ternary": {
           "aaxis": {
            "gridcolor": "white",
            "linecolor": "white",
            "ticks": ""
           },
           "baxis": {
            "gridcolor": "white",
            "linecolor": "white",
            "ticks": ""
           },
           "bgcolor": "#E5ECF6",
           "caxis": {
            "gridcolor": "white",
            "linecolor": "white",
            "ticks": ""
           }
          },
          "title": {
           "x": 0.05
          },
          "xaxis": {
           "automargin": true,
           "gridcolor": "white",
           "linecolor": "white",
           "ticks": "",
           "zerolinecolor": "white",
           "zerolinewidth": 2
          },
          "yaxis": {
           "automargin": true,
           "gridcolor": "white",
           "linecolor": "white",
           "ticks": "",
           "zerolinecolor": "white",
           "zerolinewidth": 2
          }
         }
        },
        "title": {
         "text": "Topics in Recommended Reviews"
        }
       }
      }
     },
     "metadata": {}
    }
   ],
   "source": [
    "fig = go.Figure([go.Bar(x=df_result['topic'], y=df_result['counts'])])\n",
    "fig.update_layout(title=go.layout.Title(text=\"Topics in Recommended Reviews\"))\n",
    "fig.show()"
   ]
  },
  {
   "cell_type": "code",
   "execution_count": null,
   "metadata": {},
   "outputs": [],
   "source": []
  }
 ]
}
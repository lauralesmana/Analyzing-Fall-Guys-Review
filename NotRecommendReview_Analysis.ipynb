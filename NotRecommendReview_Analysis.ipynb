{
 "metadata": {
  "language_info": {
   "codemirror_mode": {
    "name": "ipython",
    "version": 3
   },
   "file_extension": ".py",
   "mimetype": "text/x-python",
   "name": "python",
   "nbconvert_exporter": "python",
   "pygments_lexer": "ipython3",
   "version": "3.7.6-final"
  },
  "orig_nbformat": 2,
  "kernelspec": {
   "name": "Python 3.7.6 64-bit ('base': conda)",
   "display_name": "Python 3.7.6 64-bit ('base': conda)",
   "metadata": {
    "interpreter": {
     "hash": "8d1b0e05aaf8072557c9e1caf7c5d9e816c75ebd330c6b717cdfc1f2094defc9"
    }
   }
  }
 },
 "nbformat": 4,
 "nbformat_minor": 2,
 "cells": [
  {
   "cell_type": "code",
   "execution_count": 1,
   "metadata": {},
   "outputs": [],
   "source": [
    "import pandas as pd\n",
    "import numpy as np\n",
    "import gensim\n",
    "from nltk.corpus import stopwords, wordnet\n",
    "from nltk.tokenize import word_tokenize\n",
    "import wordcloud\n",
    "import matplotlib.pyplot as plt\n",
    "import seaborn as sns\n",
    "import plotly.graph_objects as go\n",
    "\n",
    "from sklearn.decomposition import LatentDirichletAllocation\n",
    "from sklearn.feature_extraction.text import CountVectorizer, TfidfVectorizer"
   ]
  },
  {
   "cell_type": "code",
   "execution_count": 2,
   "metadata": {},
   "outputs": [
    {
     "output_type": "execute_result",
     "data": {
      "text/plain": "       voted_up                                        clean_token  \\\n0          True  [&#39;fall&#39;, &#39;guy&#39;, &#39;chill&#39;, &#39;fun&#39;, &#39;game&#39;, &#39;reall...   \n1          True  [&#39;give&#39;, &#39;little&#39;, &#39;hug&#39;, &#39;player&#39;, &#39;stare&#39;, &#39;...   \n2          True                       [&#39;reccomend&#39;, &#39;much&#39;, &#39;buy&#39;]   \n3          True                                  [&#39;hug&#39;, &#39;people&#39;]   \n4          True  [&#39;little&#39;, &#39;boy&#39;, &#39;like&#39;, &#39;see&#39;, &#39;wipeout&#39;, &#39;t...   \n...         ...                                                ...   \n13201      True  [&#39;well&#39;, &#39;make&#39;, &#39;game&#39;, &#39;get&#39;, &#39;enough&#39;, &#39;man...   \n13202      True  [&#39;fun&#39;, &#39;competitive&#39;, &#39;especially&#39;, &#39;friend&#39;,...   \n13203      True  [&#39;game&#39;, &#39;extremely&#39;, &#39;fun&#39;, &#39;nice&#39;, &#39;break&#39;, ...   \n13204      True            [&#39;fun&#39;, &#39;play&#39;, &#39;keep&#39;, &#39;work&#39;, &#39;game&#39;]   \n13205      True  [&#39;turn&#39;, &#39;around&#39;, &#39;read&#39;, &#39;previous&#39;, &#39;review...   \n\n                                               clean_str  \n0      fall guy chill fun game really need server imp...  \n1      give little hug player stare back second jump ...  \n2                                     reccomend much buy  \n3                                             hug people  \n4      little boy like see wipeout tv always dream ta...  \n...                                                  ...  \n13201  well make game get enough many way differentia...  \n13202  fun competitive especially friend recommend bu...  \n13203  game extremely fun nice break usual drop loot ...  \n13204                            fun play keep work game  \n13205  turn around read previous review could recomme...  \n\n[13206 rows x 3 columns]",
      "text/html": "<div>\n<style scoped>\n    .dataframe tbody tr th:only-of-type {\n        vertical-align: middle;\n    }\n\n    .dataframe tbody tr th {\n        vertical-align: top;\n    }\n\n    .dataframe thead th {\n        text-align: right;\n    }\n</style>\n<table border=\"1\" class=\"dataframe\">\n  <thead>\n    <tr style=\"text-align: right;\">\n      <th></th>\n      <th>voted_up</th>\n      <th>clean_token</th>\n      <th>clean_str</th>\n    </tr>\n  </thead>\n  <tbody>\n    <tr>\n      <th>0</th>\n      <td>True</td>\n      <td>['fall', 'guy', 'chill', 'fun', 'game', 'reall...</td>\n      <td>fall guy chill fun game really need server imp...</td>\n    </tr>\n    <tr>\n      <th>1</th>\n      <td>True</td>\n      <td>['give', 'little', 'hug', 'player', 'stare', '...</td>\n      <td>give little hug player stare back second jump ...</td>\n    </tr>\n    <tr>\n      <th>2</th>\n      <td>True</td>\n      <td>['reccomend', 'much', 'buy']</td>\n      <td>reccomend much buy</td>\n    </tr>\n    <tr>\n      <th>3</th>\n      <td>True</td>\n      <td>['hug', 'people']</td>\n      <td>hug people</td>\n    </tr>\n    <tr>\n      <th>4</th>\n      <td>True</td>\n      <td>['little', 'boy', 'like', 'see', 'wipeout', 't...</td>\n      <td>little boy like see wipeout tv always dream ta...</td>\n    </tr>\n    <tr>\n      <th>...</th>\n      <td>...</td>\n      <td>...</td>\n      <td>...</td>\n    </tr>\n    <tr>\n      <th>13201</th>\n      <td>True</td>\n      <td>['well', 'make', 'game', 'get', 'enough', 'man...</td>\n      <td>well make game get enough many way differentia...</td>\n    </tr>\n    <tr>\n      <th>13202</th>\n      <td>True</td>\n      <td>['fun', 'competitive', 'especially', 'friend',...</td>\n      <td>fun competitive especially friend recommend bu...</td>\n    </tr>\n    <tr>\n      <th>13203</th>\n      <td>True</td>\n      <td>['game', 'extremely', 'fun', 'nice', 'break', ...</td>\n      <td>game extremely fun nice break usual drop loot ...</td>\n    </tr>\n    <tr>\n      <th>13204</th>\n      <td>True</td>\n      <td>['fun', 'play', 'keep', 'work', 'game']</td>\n      <td>fun play keep work game</td>\n    </tr>\n    <tr>\n      <th>13205</th>\n      <td>True</td>\n      <td>['turn', 'around', 'read', 'previous', 'review...</td>\n      <td>turn around read previous review could recomme...</td>\n    </tr>\n  </tbody>\n</table>\n<p>13206 rows × 3 columns</p>\n</div>"
     },
     "metadata": {},
     "execution_count": 2
    }
   ],
   "source": [
    "df = pd.read_csv('.../clean_text.csv')\n",
    "df"
   ]
  },
  {
   "cell_type": "code",
   "execution_count": 3,
   "metadata": {},
   "outputs": [],
   "source": [
    "df_no = df[df['voted_up'] == False]"
   ]
  },
  {
   "cell_type": "code",
   "execution_count": 4,
   "metadata": {},
   "outputs": [],
   "source": [
    "df_no.reset_index(inplace = True, drop = True)"
   ]
  },
  {
   "cell_type": "code",
   "execution_count": 5,
   "metadata": {},
   "outputs": [
    {
     "output_type": "execute_result",
     "data": {
      "text/plain": "      voted_up                                        clean_token  \\\n0        False  [&#39;hacker&#39;, &#39;destroy&#39;, &#39;game&#39;, &#39;use&#39;, &#39;hack&#39;, &#39;...   \n1        False  [&#39;hacking&#39;, &#39;ruin&#39;, &#39;game&#39;, &#39;recommend&#39;, &#39;repo...   \n2        False  [&#39;update&#39;, &#39;dev&#39;, &#39;address&#39;, &#39;cheat&#39;, &#39;issue&#39;,...   \n3        False  [&#39;game&#39;, &#39;full&#39;, &#39;hacker&#39;, &#39;need&#39;, &#39;report&#39;, &#39;...   \n4        False  [&#39;much&#39;, &#39;enjoy&#39;, &#39;game&#39;, &#39;rampant&#39;, &#39;hacker&#39;,...   \n...        ...                                                ...   \n3417     False  [&#39;really&#39;, &#39;fun&#39;, &#39;first&#39;, &#39;time&#39;, &#39;play&#39;, &#39;ge...   \n3418     False                                  [&#39;start&#39;, &#39;game&#39;]   \n3419     False  [&#39;buy&#39;, &#39;game&#39;, &#39;day&#39;, &#39;release&#39;, &#39;wait&#39;, &#39;rel...   \n3420     False  [&#39;really&#39;, &#39;fun&#39;, &#39;start&#39;, &#39;griefer&#39;, &#39;hacker&#39;...   \n3421     False  [&#39;fun&#39;, &#39;first&#39;, &#39;hour&#39;, &#39;gameplay&#39;, &#39;however&#39;...   \n\n                                              clean_str  \n0     hacker destroy game use hack final matchill ch...  \n1     hacking ruin game recommend reporting antichea...  \n2     update dev address cheat issue finally add eac...  \n3         game full hacker need report system something  \n4     much enjoy game rampant hacker discord remove ...  \n...                                                 ...  \n3417  really fun first time play get redundant annoy...  \n3418                                         start game  \n3419  buy game day release wait release whole hour t...  \n3420  really fun start griefer hacker infest game pl...  \n3421  fun first hour gameplay however basic issue co...  \n\n[3422 rows x 3 columns]",
      "text/html": "<div>\n<style scoped>\n    .dataframe tbody tr th:only-of-type {\n        vertical-align: middle;\n    }\n\n    .dataframe tbody tr th {\n        vertical-align: top;\n    }\n\n    .dataframe thead th {\n        text-align: right;\n    }\n</style>\n<table border=\"1\" class=\"dataframe\">\n  <thead>\n    <tr style=\"text-align: right;\">\n      <th></th>\n      <th>voted_up</th>\n      <th>clean_token</th>\n      <th>clean_str</th>\n    </tr>\n  </thead>\n  <tbody>\n    <tr>\n      <th>0</th>\n      <td>False</td>\n      <td>['hacker', 'destroy', 'game', 'use', 'hack', '...</td>\n      <td>hacker destroy game use hack final matchill ch...</td>\n    </tr>\n    <tr>\n      <th>1</th>\n      <td>False</td>\n      <td>['hacking', 'ruin', 'game', 'recommend', 'repo...</td>\n      <td>hacking ruin game recommend reporting antichea...</td>\n    </tr>\n    <tr>\n      <th>2</th>\n      <td>False</td>\n      <td>['update', 'dev', 'address', 'cheat', 'issue',...</td>\n      <td>update dev address cheat issue finally add eac...</td>\n    </tr>\n    <tr>\n      <th>3</th>\n      <td>False</td>\n      <td>['game', 'full', 'hacker', 'need', 'report', '...</td>\n      <td>game full hacker need report system something</td>\n    </tr>\n    <tr>\n      <th>4</th>\n      <td>False</td>\n      <td>['much', 'enjoy', 'game', 'rampant', 'hacker',...</td>\n      <td>much enjoy game rampant hacker discord remove ...</td>\n    </tr>\n    <tr>\n      <th>...</th>\n      <td>...</td>\n      <td>...</td>\n      <td>...</td>\n    </tr>\n    <tr>\n      <th>3417</th>\n      <td>False</td>\n      <td>['really', 'fun', 'first', 'time', 'play', 'ge...</td>\n      <td>really fun first time play get redundant annoy...</td>\n    </tr>\n    <tr>\n      <th>3418</th>\n      <td>False</td>\n      <td>['start', 'game']</td>\n      <td>start game</td>\n    </tr>\n    <tr>\n      <th>3419</th>\n      <td>False</td>\n      <td>['buy', 'game', 'day', 'release', 'wait', 'rel...</td>\n      <td>buy game day release wait release whole hour t...</td>\n    </tr>\n    <tr>\n      <th>3420</th>\n      <td>False</td>\n      <td>['really', 'fun', 'start', 'griefer', 'hacker'...</td>\n      <td>really fun start griefer hacker infest game pl...</td>\n    </tr>\n    <tr>\n      <th>3421</th>\n      <td>False</td>\n      <td>['fun', 'first', 'hour', 'gameplay', 'however'...</td>\n      <td>fun first hour gameplay however basic issue co...</td>\n    </tr>\n  </tbody>\n</table>\n<p>3422 rows × 3 columns</p>\n</div>"
     },
     "metadata": {},
     "execution_count": 5
    }
   ],
   "source": [
    "df_no"
   ]
  },
  {
   "cell_type": "code",
   "execution_count": 7,
   "metadata": {
    "tags": []
   },
   "outputs": [
    {
     "output_type": "stream",
     "name": "stdout",
     "text": "&lt;class &#39;pandas.core.frame.DataFrame&#39;&gt;\nRangeIndex: 3422 entries, 0 to 3421\nData columns (total 3 columns):\n #   Column       Non-Null Count  Dtype \n---  ------       --------------  ----- \n 0   voted_up     3422 non-null   bool  \n 1   clean_token  3422 non-null   object\n 2   clean_str    3408 non-null   object\ndtypes: bool(1), object(2)\nmemory usage: 56.9+ KB\n"
    }
   ],
   "source": [
    "df_no.info()"
   ]
  },
  {
   "cell_type": "code",
   "execution_count": 8,
   "metadata": {},
   "outputs": [
    {
     "output_type": "execute_result",
     "data": {
      "text/plain": "voted_up         0\nclean_token      0\nclean_str      121\ndtype: int64"
     },
     "metadata": {},
     "execution_count": 8
    }
   ],
   "source": [
    "df.isnull().sum()"
   ]
  },
  {
   "cell_type": "code",
   "execution_count": 9,
   "metadata": {},
   "outputs": [
    {
     "output_type": "execute_result",
     "data": {
      "text/plain": "       voted_up clean_token clean_str\n233        True          []       NaN\n251        True          []       NaN\n371        True          []       NaN\n465        True          []       NaN\n519       False          []       NaN\n...         ...         ...       ...\n12966      True          []       NaN\n13112      True          []       NaN\n13143      True          []       NaN\n13147     False          []       NaN\n13169     False          []       NaN\n\n[121 rows x 3 columns]",
      "text/html": "<div>\n<style scoped>\n    .dataframe tbody tr th:only-of-type {\n        vertical-align: middle;\n    }\n\n    .dataframe tbody tr th {\n        vertical-align: top;\n    }\n\n    .dataframe thead th {\n        text-align: right;\n    }\n</style>\n<table border=\"1\" class=\"dataframe\">\n  <thead>\n    <tr style=\"text-align: right;\">\n      <th></th>\n      <th>voted_up</th>\n      <th>clean_token</th>\n      <th>clean_str</th>\n    </tr>\n  </thead>\n  <tbody>\n    <tr>\n      <th>233</th>\n      <td>True</td>\n      <td>[]</td>\n      <td>NaN</td>\n    </tr>\n    <tr>\n      <th>251</th>\n      <td>True</td>\n      <td>[]</td>\n      <td>NaN</td>\n    </tr>\n    <tr>\n      <th>371</th>\n      <td>True</td>\n      <td>[]</td>\n      <td>NaN</td>\n    </tr>\n    <tr>\n      <th>465</th>\n      <td>True</td>\n      <td>[]</td>\n      <td>NaN</td>\n    </tr>\n    <tr>\n      <th>519</th>\n      <td>False</td>\n      <td>[]</td>\n      <td>NaN</td>\n    </tr>\n    <tr>\n      <th>...</th>\n      <td>...</td>\n      <td>...</td>\n      <td>...</td>\n    </tr>\n    <tr>\n      <th>12966</th>\n      <td>True</td>\n      <td>[]</td>\n      <td>NaN</td>\n    </tr>\n    <tr>\n      <th>13112</th>\n      <td>True</td>\n      <td>[]</td>\n      <td>NaN</td>\n    </tr>\n    <tr>\n      <th>13143</th>\n      <td>True</td>\n      <td>[]</td>\n      <td>NaN</td>\n    </tr>\n    <tr>\n      <th>13147</th>\n      <td>False</td>\n      <td>[]</td>\n      <td>NaN</td>\n    </tr>\n    <tr>\n      <th>13169</th>\n      <td>False</td>\n      <td>[]</td>\n      <td>NaN</td>\n    </tr>\n  </tbody>\n</table>\n<p>121 rows × 3 columns</p>\n</div>"
     },
     "metadata": {},
     "execution_count": 9
    }
   ],
   "source": [
    "df[df.isna().any(axis=1)]"
   ]
  },
  {
   "cell_type": "code",
   "execution_count": 12,
   "metadata": {},
   "outputs": [],
   "source": [
    "df_no.dropna(inplace= True)"
   ]
  },
  {
   "cell_type": "code",
   "execution_count": 13,
   "metadata": {
    "tags": []
   },
   "outputs": [
    {
     "output_type": "stream",
     "name": "stdout",
     "text": "&lt;class &#39;pandas.core.frame.DataFrame&#39;&gt;\nInt64Index: 3408 entries, 0 to 3421\nData columns (total 3 columns):\n #   Column       Non-Null Count  Dtype \n---  ------       --------------  ----- \n 0   voted_up     3408 non-null   bool  \n 1   clean_token  3408 non-null   object\n 2   clean_str    3408 non-null   object\ndtypes: bool(1), object(2)\nmemory usage: 83.2+ KB\n"
    }
   ],
   "source": [
    "df_no.info()"
   ]
  },
  {
   "cell_type": "code",
   "execution_count": 14,
   "metadata": {},
   "outputs": [],
   "source": [
    "df_no.clean_str=df_no.clean_str.astype(str)"
   ]
  },
  {
   "cell_type": "code",
   "execution_count": 15,
   "metadata": {},
   "outputs": [],
   "source": [
    "vectorizer = CountVectorizer(analyzer='word',  \n",
    "                             min_df=3,   \n",
    "                             stop_words=['game'],\n",
    "                             ngram_range=(2,2),                           \n",
    "                             lowercase=True,                  \n",
    "                             token_pattern='[a-zA-Z0-9]{3,}', \n",
    "                             max_features=2000,           \n",
    "                            )\n",
    "\n",
    "data_vectorized = vectorizer.fit_transform(df_no['clean_str'])\n",
    "\n",
    "lda_model = LatentDirichletAllocation(n_components= 6,\n",
    "                                      learning_method='online',\n",
    "                                      random_state=0,       \n",
    "                                      n_jobs = -1\n",
    "                                     )\n",
    "lda_output = lda_model.fit_transform(data_vectorized)"
   ]
  },
  {
   "cell_type": "code",
   "execution_count": 16,
   "metadata": {},
   "outputs": [
    {
     "output_type": "execute_result",
     "data": {
      "text/plain": "               Word 0           Word 1          Word 2         Word 3  \\\nTopic 0    anti cheat       really fun      way report     fly around   \nTopic 1  many cheater  cheater cheater     every match   almost every   \nTopic 2   final round         tail tag     remove team        get rid   \nTopic 3      fall guy        feel like     play friend  battle royale   \nTopic 4   many hacker      full hacker    hacker every    waste money   \nTopic 5  server issue          fun get  get repetitive  fall mountain   \n\n                Word 4            Word 5           Word 6           Word 7  \nTopic 0    worth price        chance win     full cheater    change review  \nTopic 1  report system          even get  positive review       get refund  \nTopic 2      fun first  connection issue        seem like        team base  \nTopic 3  current state          fun play       fun friend     server issue  \nTopic 4  cheater every      every single    report hacker  would recommend  \nTopic 5     get boring         play hour     cheater ruin    get eliminate  ",
      "text/html": "<div>\n<style scoped>\n    .dataframe tbody tr th:only-of-type {\n        vertical-align: middle;\n    }\n\n    .dataframe tbody tr th {\n        vertical-align: top;\n    }\n\n    .dataframe thead th {\n        text-align: right;\n    }\n</style>\n<table border=\"1\" class=\"dataframe\">\n  <thead>\n    <tr style=\"text-align: right;\">\n      <th></th>\n      <th>Word 0</th>\n      <th>Word 1</th>\n      <th>Word 2</th>\n      <th>Word 3</th>\n      <th>Word 4</th>\n      <th>Word 5</th>\n      <th>Word 6</th>\n      <th>Word 7</th>\n    </tr>\n  </thead>\n  <tbody>\n    <tr>\n      <th>Topic 0</th>\n      <td>anti cheat</td>\n      <td>really fun</td>\n      <td>way report</td>\n      <td>fly around</td>\n      <td>worth price</td>\n      <td>chance win</td>\n      <td>full cheater</td>\n      <td>change review</td>\n    </tr>\n    <tr>\n      <th>Topic 1</th>\n      <td>many cheater</td>\n      <td>cheater cheater</td>\n      <td>every match</td>\n      <td>almost every</td>\n      <td>report system</td>\n      <td>even get</td>\n      <td>positive review</td>\n      <td>get refund</td>\n    </tr>\n    <tr>\n      <th>Topic 2</th>\n      <td>final round</td>\n      <td>tail tag</td>\n      <td>remove team</td>\n      <td>get rid</td>\n      <td>fun first</td>\n      <td>connection issue</td>\n      <td>seem like</td>\n      <td>team base</td>\n    </tr>\n    <tr>\n      <th>Topic 3</th>\n      <td>fall guy</td>\n      <td>feel like</td>\n      <td>play friend</td>\n      <td>battle royale</td>\n      <td>current state</td>\n      <td>fun play</td>\n      <td>fun friend</td>\n      <td>server issue</td>\n    </tr>\n    <tr>\n      <th>Topic 4</th>\n      <td>many hacker</td>\n      <td>full hacker</td>\n      <td>hacker every</td>\n      <td>waste money</td>\n      <td>cheater every</td>\n      <td>every single</td>\n      <td>report hacker</td>\n      <td>would recommend</td>\n    </tr>\n    <tr>\n      <th>Topic 5</th>\n      <td>server issue</td>\n      <td>fun get</td>\n      <td>get repetitive</td>\n      <td>fall mountain</td>\n      <td>get boring</td>\n      <td>play hour</td>\n      <td>cheater ruin</td>\n      <td>get eliminate</td>\n    </tr>\n  </tbody>\n</table>\n</div>"
     },
     "metadata": {},
     "execution_count": 16
    }
   ],
   "source": [
    "def show_topics(vectorizer=vectorizer, lda_model=lda_model, n_words=8):\n",
    "    keywords = np.array(vectorizer.get_feature_names())\n",
    "    topic_keywords = []\n",
    "    for topic_weights in lda_model.components_:\n",
    "        top_keyword_locs = (-topic_weights).argsort()[:n_words]\n",
    "        topic_keywords.append(keywords.take(top_keyword_locs))\n",
    "    return topic_keywords\n",
    "\n",
    "topic_keywords = show_topics(vectorizer=vectorizer, lda_model=lda_model, n_words=8)        \n",
    "\n",
    "# Topic - Keywords Dataframe\n",
    "df_topic_keywords = pd.DataFrame(topic_keywords)\n",
    "df_topic_keywords.columns = ['Word '+str(i) for i in range(df_topic_keywords.shape[1])]\n",
    "df_topic_keywords.index = ['Topic '+str(i) for i in range(df_topic_keywords.shape[0])]\n",
    "df_topic_keywords"
   ]
  },
  {
   "cell_type": "code",
   "execution_count": 17,
   "metadata": {},
   "outputs": [],
   "source": [
    "Topics_theme = ['will change review if there is anti cheat', 'need cheater report system', 'remove team game', 'fun to play but server issue', 'hackers ruin the game', 'stages get repetitive and boring']\n",
    "df_topic_keywords['topic_theme'] = Topics_theme"
   ]
  },
  {
   "cell_type": "code",
   "execution_count": 18,
   "metadata": {},
   "outputs": [],
   "source": [
    "df_topic_keywords.set_index('topic_theme', inplace=True)"
   ]
  },
  {
   "cell_type": "code",
   "execution_count": 19,
   "metadata": {},
   "outputs": [
    {
     "output_type": "execute_result",
     "data": {
      "text/plain": "topic_theme will change review if there is anti cheat  \\\nWord 0                                     anti cheat   \nWord 1                                     really fun   \nWord 2                                     way report   \nWord 3                                     fly around   \nWord 4                                    worth price   \nWord 5                                     chance win   \nWord 6                                   full cheater   \nWord 7                                  change review   \n\ntopic_theme need cheater report system  remove team game  \\\nWord 0                    many cheater       final round   \nWord 1                 cheater cheater          tail tag   \nWord 2                     every match       remove team   \nWord 3                    almost every           get rid   \nWord 4                   report system         fun first   \nWord 5                        even get  connection issue   \nWord 6                 positive review         seem like   \nWord 7                      get refund         team base   \n\ntopic_theme fun to play but server issue hackers ruin the game  \\\nWord 0                          fall guy           many hacker   \nWord 1                         feel like           full hacker   \nWord 2                       play friend          hacker every   \nWord 3                     battle royale           waste money   \nWord 4                     current state         cheater every   \nWord 5                          fun play          every single   \nWord 6                        fun friend         report hacker   \nWord 7                      server issue       would recommend   \n\ntopic_theme stages get repetitive and boring  \nWord 0                          server issue  \nWord 1                               fun get  \nWord 2                        get repetitive  \nWord 3                         fall mountain  \nWord 4                            get boring  \nWord 5                             play hour  \nWord 6                          cheater ruin  \nWord 7                         get eliminate  ",
      "text/html": "<div>\n<style scoped>\n    .dataframe tbody tr th:only-of-type {\n        vertical-align: middle;\n    }\n\n    .dataframe tbody tr th {\n        vertical-align: top;\n    }\n\n    .dataframe thead th {\n        text-align: right;\n    }\n</style>\n<table border=\"1\" class=\"dataframe\">\n  <thead>\n    <tr style=\"text-align: right;\">\n      <th>topic_theme</th>\n      <th>will change review if there is anti cheat</th>\n      <th>need cheater report system</th>\n      <th>remove team game</th>\n      <th>fun to play but server issue</th>\n      <th>hackers ruin the game</th>\n      <th>stages get repetitive and boring</th>\n    </tr>\n  </thead>\n  <tbody>\n    <tr>\n      <th>Word 0</th>\n      <td>anti cheat</td>\n      <td>many cheater</td>\n      <td>final round</td>\n      <td>fall guy</td>\n      <td>many hacker</td>\n      <td>server issue</td>\n    </tr>\n    <tr>\n      <th>Word 1</th>\n      <td>really fun</td>\n      <td>cheater cheater</td>\n      <td>tail tag</td>\n      <td>feel like</td>\n      <td>full hacker</td>\n      <td>fun get</td>\n    </tr>\n    <tr>\n      <th>Word 2</th>\n      <td>way report</td>\n      <td>every match</td>\n      <td>remove team</td>\n      <td>play friend</td>\n      <td>hacker every</td>\n      <td>get repetitive</td>\n    </tr>\n    <tr>\n      <th>Word 3</th>\n      <td>fly around</td>\n      <td>almost every</td>\n      <td>get rid</td>\n      <td>battle royale</td>\n      <td>waste money</td>\n      <td>fall mountain</td>\n    </tr>\n    <tr>\n      <th>Word 4</th>\n      <td>worth price</td>\n      <td>report system</td>\n      <td>fun first</td>\n      <td>current state</td>\n      <td>cheater every</td>\n      <td>get boring</td>\n    </tr>\n    <tr>\n      <th>Word 5</th>\n      <td>chance win</td>\n      <td>even get</td>\n      <td>connection issue</td>\n      <td>fun play</td>\n      <td>every single</td>\n      <td>play hour</td>\n    </tr>\n    <tr>\n      <th>Word 6</th>\n      <td>full cheater</td>\n      <td>positive review</td>\n      <td>seem like</td>\n      <td>fun friend</td>\n      <td>report hacker</td>\n      <td>cheater ruin</td>\n    </tr>\n    <tr>\n      <th>Word 7</th>\n      <td>change review</td>\n      <td>get refund</td>\n      <td>team base</td>\n      <td>server issue</td>\n      <td>would recommend</td>\n      <td>get eliminate</td>\n    </tr>\n  </tbody>\n</table>\n</div>"
     },
     "metadata": {},
     "execution_count": 19
    }
   ],
   "source": [
    "df_topic_keywords.T"
   ]
  },
  {
   "cell_type": "code",
   "execution_count": 20,
   "metadata": {},
   "outputs": [],
   "source": [
    "lda_output = lda_model.transform(data_vectorized)\n",
    "\n",
    "topicnames = df_topic_keywords.T.columns\n",
    "\n",
    "docnames = [\"Doc\" + str(i) for i in range(len(df_no))]\n",
    "\n",
    "df_document_topic = pd.DataFrame(np.round(lda_output, 2), columns=topicnames, index=docnames)\n",
    "\n",
    "dominant_topic = np.argmax(df_document_topic.values, axis=1)\n",
    "df_document_topic['dominant_topic'] = dominant_topic"
   ]
  },
  {
   "cell_type": "code",
   "execution_count": 21,
   "metadata": {},
   "outputs": [],
   "source": [
    "df_document_topic.reset_index(inplace=True)\n",
    "df_sent_topic= pd.merge(df_no, df_document_topic, left_index=True, right_index=True)\n",
    "df_sent_topic.drop('index', axis=1, inplace=True)"
   ]
  },
  {
   "cell_type": "code",
   "execution_count": 22,
   "metadata": {},
   "outputs": [
    {
     "output_type": "execute_result",
     "data": {
      "text/plain": "      voted_up                                        clean_token  \\\n0        False  [&#39;hacker&#39;, &#39;destroy&#39;, &#39;game&#39;, &#39;use&#39;, &#39;hack&#39;, &#39;...   \n1        False  [&#39;hacking&#39;, &#39;ruin&#39;, &#39;game&#39;, &#39;recommend&#39;, &#39;repo...   \n2        False  [&#39;update&#39;, &#39;dev&#39;, &#39;address&#39;, &#39;cheat&#39;, &#39;issue&#39;,...   \n3        False  [&#39;game&#39;, &#39;full&#39;, &#39;hacker&#39;, &#39;need&#39;, &#39;report&#39;, &#39;...   \n4        False  [&#39;much&#39;, &#39;enjoy&#39;, &#39;game&#39;, &#39;rampant&#39;, &#39;hacker&#39;,...   \n...        ...                                                ...   \n3402     False  [&#39;already&#39;, &#39;microtransaction&#39;, &#39;game&#39;, &#39;alrea...   \n3404     False  [&#39;fun&#39;, &#39;game&#39;, &#39;short&#39;, &#39;burst&#39;, &#39;right&#39;, &#39;mi...   \n3405     False  [&#39;fun&#39;, &#39;first&#39;, &#39;couple&#39;, &#39;hour&#39;, &#39;little&#39;, &#39;...   \n3406     False  [&#39;go&#39;, &#39;keep&#39;, &#39;disliked&#39;, &#39;til&#39;, &#39;tail&#39;, &#39;gam...   \n3407     False        [&#39;remove&#39;, &#39;team&#39;, &#39;game&#39;, &#39;fix&#39;, &#39;desync&#39;]   \n\n                                              clean_str  \\\n0     hacker destroy game use hack final matchill ch...   \n1     hacking ruin game recommend reporting antichea...   \n2     update dev address cheat issue finally add eac...   \n3         game full hacker need report system something   \n4     much enjoy game rampant hacker discord remove ...   \n...                                                 ...   \n3402  already microtransaction game already pay stil...   \n3404  fun game short burst right minigame selection ...   \n3405  fun first couple hour little skill involve muc...   \n3406                  go keep disliked til tail game go   \n3407                        remove team game fix desync   \n\n      will change review if there is anti cheat  need cheater report system  \\\n0                                          0.37                        0.02   \n1                                          0.04                        0.04   \n2                                          0.78                        0.09   \n3                                          0.29                        0.29   \n4                                          0.00                        0.00   \n...                                         ...                         ...   \n3402                                       0.17                        0.17   \n3404                                       0.17                        0.17   \n3405                                       0.01                        0.05   \n3406                                       0.35                        0.01   \n3407                                       0.02                        0.02   \n\n      remove team game  fun to play but server issue  hackers ruin the game  \\\n0                 0.02                          0.02                   0.54   \n1                 0.79                          0.04                   0.04   \n2                 0.12                          0.00                   0.00   \n3                 0.04                          0.04                   0.29   \n4                 0.15                          0.00                   0.83   \n...                ...                           ...                    ...   \n3402              0.17                          0.17                   0.17   \n3404              0.17                          0.17                   0.17   \n3405              0.11                          0.36                   0.11   \n3406              0.10                          0.01                   0.01   \n3407              0.60                          0.02                   0.17   \n\n      stages get repetitive and boring  dominant_topic  \n0                                 0.02               4  \n1                                 0.04               2  \n2                                 0.00               0  \n3                                 0.04               0  \n4                                 0.00               4  \n...                                ...             ...  \n3402                              0.17               0  \n3404                              0.17               0  \n3405                              0.36               3  \n3406                              0.51               5  \n3407                              0.17               2  \n\n[3395 rows x 10 columns]",
      "text/html": "<div>\n<style scoped>\n    .dataframe tbody tr th:only-of-type {\n        vertical-align: middle;\n    }\n\n    .dataframe tbody tr th {\n        vertical-align: top;\n    }\n\n    .dataframe thead th {\n        text-align: right;\n    }\n</style>\n<table border=\"1\" class=\"dataframe\">\n  <thead>\n    <tr style=\"text-align: right;\">\n      <th></th>\n      <th>voted_up</th>\n      <th>clean_token</th>\n      <th>clean_str</th>\n      <th>will change review if there is anti cheat</th>\n      <th>need cheater report system</th>\n      <th>remove team game</th>\n      <th>fun to play but server issue</th>\n      <th>hackers ruin the game</th>\n      <th>stages get repetitive and boring</th>\n      <th>dominant_topic</th>\n    </tr>\n  </thead>\n  <tbody>\n    <tr>\n      <th>0</th>\n      <td>False</td>\n      <td>['hacker', 'destroy', 'game', 'use', 'hack', '...</td>\n      <td>hacker destroy game use hack final matchill ch...</td>\n      <td>0.37</td>\n      <td>0.02</td>\n      <td>0.02</td>\n      <td>0.02</td>\n      <td>0.54</td>\n      <td>0.02</td>\n      <td>4</td>\n    </tr>\n    <tr>\n      <th>1</th>\n      <td>False</td>\n      <td>['hacking', 'ruin', 'game', 'recommend', 'repo...</td>\n      <td>hacking ruin game recommend reporting antichea...</td>\n      <td>0.04</td>\n      <td>0.04</td>\n      <td>0.79</td>\n      <td>0.04</td>\n      <td>0.04</td>\n      <td>0.04</td>\n      <td>2</td>\n    </tr>\n    <tr>\n      <th>2</th>\n      <td>False</td>\n      <td>['update', 'dev', 'address', 'cheat', 'issue',...</td>\n      <td>update dev address cheat issue finally add eac...</td>\n      <td>0.78</td>\n      <td>0.09</td>\n      <td>0.12</td>\n      <td>0.00</td>\n      <td>0.00</td>\n      <td>0.00</td>\n      <td>0</td>\n    </tr>\n    <tr>\n      <th>3</th>\n      <td>False</td>\n      <td>['game', 'full', 'hacker', 'need', 'report', '...</td>\n      <td>game full hacker need report system something</td>\n      <td>0.29</td>\n      <td>0.29</td>\n      <td>0.04</td>\n      <td>0.04</td>\n      <td>0.29</td>\n      <td>0.04</td>\n      <td>0</td>\n    </tr>\n    <tr>\n      <th>4</th>\n      <td>False</td>\n      <td>['much', 'enjoy', 'game', 'rampant', 'hacker',...</td>\n      <td>much enjoy game rampant hacker discord remove ...</td>\n      <td>0.00</td>\n      <td>0.00</td>\n      <td>0.15</td>\n      <td>0.00</td>\n      <td>0.83</td>\n      <td>0.00</td>\n      <td>4</td>\n    </tr>\n    <tr>\n      <th>...</th>\n      <td>...</td>\n      <td>...</td>\n      <td>...</td>\n      <td>...</td>\n      <td>...</td>\n      <td>...</td>\n      <td>...</td>\n      <td>...</td>\n      <td>...</td>\n      <td>...</td>\n    </tr>\n    <tr>\n      <th>3402</th>\n      <td>False</td>\n      <td>['already', 'microtransaction', 'game', 'alrea...</td>\n      <td>already microtransaction game already pay stil...</td>\n      <td>0.17</td>\n      <td>0.17</td>\n      <td>0.17</td>\n      <td>0.17</td>\n      <td>0.17</td>\n      <td>0.17</td>\n      <td>0</td>\n    </tr>\n    <tr>\n      <th>3404</th>\n      <td>False</td>\n      <td>['fun', 'game', 'short', 'burst', 'right', 'mi...</td>\n      <td>fun game short burst right minigame selection ...</td>\n      <td>0.17</td>\n      <td>0.17</td>\n      <td>0.17</td>\n      <td>0.17</td>\n      <td>0.17</td>\n      <td>0.17</td>\n      <td>0</td>\n    </tr>\n    <tr>\n      <th>3405</th>\n      <td>False</td>\n      <td>['fun', 'first', 'couple', 'hour', 'little', '...</td>\n      <td>fun first couple hour little skill involve muc...</td>\n      <td>0.01</td>\n      <td>0.05</td>\n      <td>0.11</td>\n      <td>0.36</td>\n      <td>0.11</td>\n      <td>0.36</td>\n      <td>3</td>\n    </tr>\n    <tr>\n      <th>3406</th>\n      <td>False</td>\n      <td>['go', 'keep', 'disliked', 'til', 'tail', 'gam...</td>\n      <td>go keep disliked til tail game go</td>\n      <td>0.35</td>\n      <td>0.01</td>\n      <td>0.10</td>\n      <td>0.01</td>\n      <td>0.01</td>\n      <td>0.51</td>\n      <td>5</td>\n    </tr>\n    <tr>\n      <th>3407</th>\n      <td>False</td>\n      <td>['remove', 'team', 'game', 'fix', 'desync']</td>\n      <td>remove team game fix desync</td>\n      <td>0.02</td>\n      <td>0.02</td>\n      <td>0.60</td>\n      <td>0.02</td>\n      <td>0.17</td>\n      <td>0.17</td>\n      <td>2</td>\n    </tr>\n  </tbody>\n</table>\n<p>3395 rows × 10 columns</p>\n</div>"
     },
     "metadata": {},
     "execution_count": 22
    }
   ],
   "source": [
    "df_sent_topic"
   ]
  },
  {
   "cell_type": "code",
   "execution_count": 23,
   "metadata": {},
   "outputs": [],
   "source": [
    "df_topic_theme = df_sent_topic[['clean_str', 'dominant_topic']]"
   ]
  },
  {
   "cell_type": "code",
   "execution_count": 24,
   "metadata": {},
   "outputs": [
    {
     "output_type": "execute_result",
     "data": {
      "text/plain": "                                           clean_str  dominant_topic\n0  hacker destroy game use hack final matchill ch...               4\n1  hacking ruin game recommend reporting antichea...               2\n2  update dev address cheat issue finally add eac...               0\n3      game full hacker need report system something               0\n4  much enjoy game rampant hacker discord remove ...               4\n5  ill start say far bad game definitely potentia...               2\n6  many hacker ruin silly game take one batch rui...               5\n7  game appear super fun laugh play friend ton fu...               0\n8                get fly hacker casual chill game xd               3\n9  fun game enough content start price dollar sta...               5",
      "text/html": "<div>\n<style scoped>\n    .dataframe tbody tr th:only-of-type {\n        vertical-align: middle;\n    }\n\n    .dataframe tbody tr th {\n        vertical-align: top;\n    }\n\n    .dataframe thead th {\n        text-align: right;\n    }\n</style>\n<table border=\"1\" class=\"dataframe\">\n  <thead>\n    <tr style=\"text-align: right;\">\n      <th></th>\n      <th>clean_str</th>\n      <th>dominant_topic</th>\n    </tr>\n  </thead>\n  <tbody>\n    <tr>\n      <th>0</th>\n      <td>hacker destroy game use hack final matchill ch...</td>\n      <td>4</td>\n    </tr>\n    <tr>\n      <th>1</th>\n      <td>hacking ruin game recommend reporting antichea...</td>\n      <td>2</td>\n    </tr>\n    <tr>\n      <th>2</th>\n      <td>update dev address cheat issue finally add eac...</td>\n      <td>0</td>\n    </tr>\n    <tr>\n      <th>3</th>\n      <td>game full hacker need report system something</td>\n      <td>0</td>\n    </tr>\n    <tr>\n      <th>4</th>\n      <td>much enjoy game rampant hacker discord remove ...</td>\n      <td>4</td>\n    </tr>\n    <tr>\n      <th>5</th>\n      <td>ill start say far bad game definitely potentia...</td>\n      <td>2</td>\n    </tr>\n    <tr>\n      <th>6</th>\n      <td>many hacker ruin silly game take one batch rui...</td>\n      <td>5</td>\n    </tr>\n    <tr>\n      <th>7</th>\n      <td>game appear super fun laugh play friend ton fu...</td>\n      <td>0</td>\n    </tr>\n    <tr>\n      <th>8</th>\n      <td>get fly hacker casual chill game xd</td>\n      <td>3</td>\n    </tr>\n    <tr>\n      <th>9</th>\n      <td>fun game enough content start price dollar sta...</td>\n      <td>5</td>\n    </tr>\n  </tbody>\n</table>\n</div>"
     },
     "metadata": {},
     "execution_count": 24
    }
   ],
   "source": [
    "df_topic_theme.head(10)"
   ]
  },
  {
   "cell_type": "code",
   "execution_count": 25,
   "metadata": {},
   "outputs": [],
   "source": [
    "topic_remap = {0: 'will change review if there is anti cheat', 1: 'need cheater report system', 2: 'remove team game', 3: 'fun to play but server issue', 4: 'hackers ruin the game', 5: 'stages get repetitive and boring'}"
   ]
  },
  {
   "cell_type": "code",
   "execution_count": 26,
   "metadata": {},
   "outputs": [],
   "source": [
    "df_topic_theme['dominant_topic_theme'] = df_topic_theme['dominant_topic'].map(topic_remap)"
   ]
  },
  {
   "cell_type": "code",
   "execution_count": 27,
   "metadata": {},
   "outputs": [
    {
     "output_type": "execute_result",
     "data": {
      "text/plain": "                                              clean_str  dominant_topic  \\\n0     hacker destroy game use hack final matchill ch...               4   \n1     hacking ruin game recommend reporting antichea...               2   \n2     update dev address cheat issue finally add eac...               0   \n3         game full hacker need report system something               0   \n4     much enjoy game rampant hacker discord remove ...               4   \n...                                                 ...             ...   \n3402  already microtransaction game already pay stil...               0   \n3404  fun game short burst right minigame selection ...               0   \n3405  fun first couple hour little skill involve muc...               3   \n3406                  go keep disliked til tail game go               5   \n3407                        remove team game fix desync               2   \n\n                           dominant_topic_theme  \n0                         hackers ruin the game  \n1                              remove team game  \n2     will change review if there is anti cheat  \n3     will change review if there is anti cheat  \n4                         hackers ruin the game  \n...                                         ...  \n3402  will change review if there is anti cheat  \n3404  will change review if there is anti cheat  \n3405               fun to play but server issue  \n3406           stages get repetitive and boring  \n3407                           remove team game  \n\n[3395 rows x 3 columns]",
      "text/html": "<div>\n<style scoped>\n    .dataframe tbody tr th:only-of-type {\n        vertical-align: middle;\n    }\n\n    .dataframe tbody tr th {\n        vertical-align: top;\n    }\n\n    .dataframe thead th {\n        text-align: right;\n    }\n</style>\n<table border=\"1\" class=\"dataframe\">\n  <thead>\n    <tr style=\"text-align: right;\">\n      <th></th>\n      <th>clean_str</th>\n      <th>dominant_topic</th>\n      <th>dominant_topic_theme</th>\n    </tr>\n  </thead>\n  <tbody>\n    <tr>\n      <th>0</th>\n      <td>hacker destroy game use hack final matchill ch...</td>\n      <td>4</td>\n      <td>hackers ruin the game</td>\n    </tr>\n    <tr>\n      <th>1</th>\n      <td>hacking ruin game recommend reporting antichea...</td>\n      <td>2</td>\n      <td>remove team game</td>\n    </tr>\n    <tr>\n      <th>2</th>\n      <td>update dev address cheat issue finally add eac...</td>\n      <td>0</td>\n      <td>will change review if there is anti cheat</td>\n    </tr>\n    <tr>\n      <th>3</th>\n      <td>game full hacker need report system something</td>\n      <td>0</td>\n      <td>will change review if there is anti cheat</td>\n    </tr>\n    <tr>\n      <th>4</th>\n      <td>much enjoy game rampant hacker discord remove ...</td>\n      <td>4</td>\n      <td>hackers ruin the game</td>\n    </tr>\n    <tr>\n      <th>...</th>\n      <td>...</td>\n      <td>...</td>\n      <td>...</td>\n    </tr>\n    <tr>\n      <th>3402</th>\n      <td>already microtransaction game already pay stil...</td>\n      <td>0</td>\n      <td>will change review if there is anti cheat</td>\n    </tr>\n    <tr>\n      <th>3404</th>\n      <td>fun game short burst right minigame selection ...</td>\n      <td>0</td>\n      <td>will change review if there is anti cheat</td>\n    </tr>\n    <tr>\n      <th>3405</th>\n      <td>fun first couple hour little skill involve muc...</td>\n      <td>3</td>\n      <td>fun to play but server issue</td>\n    </tr>\n    <tr>\n      <th>3406</th>\n      <td>go keep disliked til tail game go</td>\n      <td>5</td>\n      <td>stages get repetitive and boring</td>\n    </tr>\n    <tr>\n      <th>3407</th>\n      <td>remove team game fix desync</td>\n      <td>2</td>\n      <td>remove team game</td>\n    </tr>\n  </tbody>\n</table>\n<p>3395 rows × 3 columns</p>\n</div>"
     },
     "metadata": {},
     "execution_count": 27
    }
   ],
   "source": [
    "df_topic_theme"
   ]
  },
  {
   "cell_type": "code",
   "execution_count": 28,
   "metadata": {},
   "outputs": [
    {
     "output_type": "execute_result",
     "data": {
      "text/plain": "will change review if there is anti cheat    1091\nfun to play but server issue                  556\nhackers ruin the game                         468\nneed cheater report system                    459\nremove team game                              426\nstages get repetitive and boring              395\nName: dominant_topic_theme, dtype: int64"
     },
     "metadata": {},
     "execution_count": 28
    }
   ],
   "source": [
    "df_topic_theme['dominant_topic_theme'].value_counts()"
   ]
  },
  {
   "cell_type": "code",
   "execution_count": 29,
   "metadata": {},
   "outputs": [],
   "source": [
    "df_result = df_topic_theme['dominant_topic_theme'].value_counts().rename_axis('topic').reset_index(name='counts')"
   ]
  },
  {
   "cell_type": "code",
   "execution_count": 30,
   "metadata": {},
   "outputs": [
    {
     "output_type": "execute_result",
     "data": {
      "text/plain": "                                       topic  counts\n0  will change review if there is anti cheat    1091\n1               fun to play but server issue     556\n2                      hackers ruin the game     468\n3                 need cheater report system     459\n4                           remove team game     426\n5           stages get repetitive and boring     395",
      "text/html": "<div>\n<style scoped>\n    .dataframe tbody tr th:only-of-type {\n        vertical-align: middle;\n    }\n\n    .dataframe tbody tr th {\n        vertical-align: top;\n    }\n\n    .dataframe thead th {\n        text-align: right;\n    }\n</style>\n<table border=\"1\" class=\"dataframe\">\n  <thead>\n    <tr style=\"text-align: right;\">\n      <th></th>\n      <th>topic</th>\n      <th>counts</th>\n    </tr>\n  </thead>\n  <tbody>\n    <tr>\n      <th>0</th>\n      <td>will change review if there is anti cheat</td>\n      <td>1091</td>\n    </tr>\n    <tr>\n      <th>1</th>\n      <td>fun to play but server issue</td>\n      <td>556</td>\n    </tr>\n    <tr>\n      <th>2</th>\n      <td>hackers ruin the game</td>\n      <td>468</td>\n    </tr>\n    <tr>\n      <th>3</th>\n      <td>need cheater report system</td>\n      <td>459</td>\n    </tr>\n    <tr>\n      <th>4</th>\n      <td>remove team game</td>\n      <td>426</td>\n    </tr>\n    <tr>\n      <th>5</th>\n      <td>stages get repetitive and boring</td>\n      <td>395</td>\n    </tr>\n  </tbody>\n</table>\n</div>"
     },
     "metadata": {},
     "execution_count": 30
    }
   ],
   "source": [
    "df_result"
   ]
  },
  {
   "cell_type": "code",
   "execution_count": 31,
   "metadata": {},
   "outputs": [
    {
     "output_type": "display_data",
     "data": {
      "application/vnd.plotly.v1+json": {
       "config": {
        "plotlyServerURL": "https://plot.ly"
       },
       "data": [
        {
         "type": "bar",
         "x": [
          "will change review if there is anti cheat",
          "fun to play but server issue",
          "hackers ruin the game",
          "need cheater report system",
          "remove team game",
          "stages get repetitive and boring"
         ],
         "y": [
          1091,
          556,
          468,
          459,
          426,
          395
         ]
        }
       ],
       "layout": {
        "template": {
         "data": {
          "bar": [
           {
            "error_x": {
             "color": "#2a3f5f"
            },
            "error_y": {
             "color": "#2a3f5f"
            },
            "marker": {
             "line": {
              "color": "#E5ECF6",
              "width": 0.5
             }
            },
            "type": "bar"
           }
          ],
          "barpolar": [
           {
            "marker": {
             "line": {
              "color": "#E5ECF6",
              "width": 0.5
             }
            },
            "type": "barpolar"
           }
          ],
          "carpet": [
           {
            "aaxis": {
             "endlinecolor": "#2a3f5f",
             "gridcolor": "white",
             "linecolor": "white",
             "minorgridcolor": "white",
             "startlinecolor": "#2a3f5f"
            },
            "baxis": {
             "endlinecolor": "#2a3f5f",
             "gridcolor": "white",
             "linecolor": "white",
             "minorgridcolor": "white",
             "startlinecolor": "#2a3f5f"
            },
            "type": "carpet"
           }
          ],
          "choropleth": [
           {
            "colorbar": {
             "outlinewidth": 0,
             "ticks": ""
            },
            "type": "choropleth"
           }
          ],
          "contour": [
           {
            "colorbar": {
             "outlinewidth": 0,
             "ticks": ""
            },
            "colorscale": [
             [
              0,
              "#0d0887"
             ],
             [
              0.1111111111111111,
              "#46039f"
             ],
             [
              0.2222222222222222,
              "#7201a8"
             ],
             [
              0.3333333333333333,
              "#9c179e"
             ],
             [
              0.4444444444444444,
              "#bd3786"
             ],
             [
              0.5555555555555556,
              "#d8576b"
             ],
             [
              0.6666666666666666,
              "#ed7953"
             ],
             [
              0.7777777777777778,
              "#fb9f3a"
             ],
             [
              0.8888888888888888,
              "#fdca26"
             ],
             [
              1,
              "#f0f921"
             ]
            ],
            "type": "contour"
           }
          ],
          "contourcarpet": [
           {
            "colorbar": {
             "outlinewidth": 0,
             "ticks": ""
            },
            "type": "contourcarpet"
           }
          ],
          "heatmap": [
           {
            "colorbar": {
             "outlinewidth": 0,
             "ticks": ""
            },
            "colorscale": [
             [
              0,
              "#0d0887"
             ],
             [
              0.1111111111111111,
              "#46039f"
             ],
             [
              0.2222222222222222,
              "#7201a8"
             ],
             [
              0.3333333333333333,
              "#9c179e"
             ],
             [
              0.4444444444444444,
              "#bd3786"
             ],
             [
              0.5555555555555556,
              "#d8576b"
             ],
             [
              0.6666666666666666,
              "#ed7953"
             ],
             [
              0.7777777777777778,
              "#fb9f3a"
             ],
             [
              0.8888888888888888,
              "#fdca26"
             ],
             [
              1,
              "#f0f921"
             ]
            ],
            "type": "heatmap"
           }
          ],
          "heatmapgl": [
           {
            "colorbar": {
             "outlinewidth": 0,
             "ticks": ""
            },
            "colorscale": [
             [
              0,
              "#0d0887"
             ],
             [
              0.1111111111111111,
              "#46039f"
             ],
             [
              0.2222222222222222,
              "#7201a8"
             ],
             [
              0.3333333333333333,
              "#9c179e"
             ],
             [
              0.4444444444444444,
              "#bd3786"
             ],
             [
              0.5555555555555556,
              "#d8576b"
             ],
             [
              0.6666666666666666,
              "#ed7953"
             ],
             [
              0.7777777777777778,
              "#fb9f3a"
             ],
             [
              0.8888888888888888,
              "#fdca26"
             ],
             [
              1,
              "#f0f921"
             ]
            ],
            "type": "heatmapgl"
           }
          ],
          "histogram": [
           {
            "marker": {
             "colorbar": {
              "outlinewidth": 0,
              "ticks": ""
             }
            },
            "type": "histogram"
           }
          ],
          "histogram2d": [
           {
            "colorbar": {
             "outlinewidth": 0,
             "ticks": ""
            },
            "colorscale": [
             [
              0,
              "#0d0887"
             ],
             [
              0.1111111111111111,
              "#46039f"
             ],
             [
              0.2222222222222222,
              "#7201a8"
             ],
             [
              0.3333333333333333,
              "#9c179e"
             ],
             [
              0.4444444444444444,
              "#bd3786"
             ],
             [
              0.5555555555555556,
              "#d8576b"
             ],
             [
              0.6666666666666666,
              "#ed7953"
             ],
             [
              0.7777777777777778,
              "#fb9f3a"
             ],
             [
              0.8888888888888888,
              "#fdca26"
             ],
             [
              1,
              "#f0f921"
             ]
            ],
            "type": "histogram2d"
           }
          ],
          "histogram2dcontour": [
           {
            "colorbar": {
             "outlinewidth": 0,
             "ticks": ""
            },
            "colorscale": [
             [
              0,
              "#0d0887"
             ],
             [
              0.1111111111111111,
              "#46039f"
             ],
             [
              0.2222222222222222,
              "#7201a8"
             ],
             [
              0.3333333333333333,
              "#9c179e"
             ],
             [
              0.4444444444444444,
              "#bd3786"
             ],
             [
              0.5555555555555556,
              "#d8576b"
             ],
             [
              0.6666666666666666,
              "#ed7953"
             ],
             [
              0.7777777777777778,
              "#fb9f3a"
             ],
             [
              0.8888888888888888,
              "#fdca26"
             ],
             [
              1,
              "#f0f921"
             ]
            ],
            "type": "histogram2dcontour"
           }
          ],
          "mesh3d": [
           {
            "colorbar": {
             "outlinewidth": 0,
             "ticks": ""
            },
            "type": "mesh3d"
           }
          ],
          "parcoords": [
           {
            "line": {
             "colorbar": {
              "outlinewidth": 0,
              "ticks": ""
             }
            },
            "type": "parcoords"
           }
          ],
          "scatter": [
           {
            "marker": {
             "colorbar": {
              "outlinewidth": 0,
              "ticks": ""
             }
            },
            "type": "scatter"
           }
          ],
          "scatter3d": [
           {
            "line": {
             "colorbar": {
              "outlinewidth": 0,
              "ticks": ""
             }
            },
            "marker": {
             "colorbar": {
              "outlinewidth": 0,
              "ticks": ""
             }
            },
            "type": "scatter3d"
           }
          ],
          "scattercarpet": [
           {
            "marker": {
             "colorbar": {
              "outlinewidth": 0,
              "ticks": ""
             }
            },
            "type": "scattercarpet"
           }
          ],
          "scattergeo": [
           {
            "marker": {
             "colorbar": {
              "outlinewidth": 0,
              "ticks": ""
             }
            },
            "type": "scattergeo"
           }
          ],
          "scattergl": [
           {
            "marker": {
             "colorbar": {
              "outlinewidth": 0,
              "ticks": ""
             }
            },
            "type": "scattergl"
           }
          ],
          "scattermapbox": [
           {
            "marker": {
             "colorbar": {
              "outlinewidth": 0,
              "ticks": ""
             }
            },
            "type": "scattermapbox"
           }
          ],
          "scatterpolar": [
           {
            "marker": {
             "colorbar": {
              "outlinewidth": 0,
              "ticks": ""
             }
            },
            "type": "scatterpolar"
           }
          ],
          "scatterpolargl": [
           {
            "marker": {
             "colorbar": {
              "outlinewidth": 0,
              "ticks": ""
             }
            },
            "type": "scatterpolargl"
           }
          ],
          "scatterternary": [
           {
            "marker": {
             "colorbar": {
              "outlinewidth": 0,
              "ticks": ""
             }
            },
            "type": "scatterternary"
           }
          ],
          "surface": [
           {
            "colorbar": {
             "outlinewidth": 0,
             "ticks": ""
            },
            "colorscale": [
             [
              0,
              "#0d0887"
             ],
             [
              0.1111111111111111,
              "#46039f"
             ],
             [
              0.2222222222222222,
              "#7201a8"
             ],
             [
              0.3333333333333333,
              "#9c179e"
             ],
             [
              0.4444444444444444,
              "#bd3786"
             ],
             [
              0.5555555555555556,
              "#d8576b"
             ],
             [
              0.6666666666666666,
              "#ed7953"
             ],
             [
              0.7777777777777778,
              "#fb9f3a"
             ],
             [
              0.8888888888888888,
              "#fdca26"
             ],
             [
              1,
              "#f0f921"
             ]
            ],
            "type": "surface"
           }
          ],
          "table": [
           {
            "cells": {
             "fill": {
              "color": "#EBF0F8"
             },
             "line": {
              "color": "white"
             }
            },
            "header": {
             "fill": {
              "color": "#C8D4E3"
             },
             "line": {
              "color": "white"
             }
            },
            "type": "table"
           }
          ]
         },
         "layout": {
          "annotationdefaults": {
           "arrowcolor": "#2a3f5f",
           "arrowhead": 0,
           "arrowwidth": 1
          },
          "colorscale": {
           "diverging": [
            [
             0,
             "#8e0152"
            ],
            [
             0.1,
             "#c51b7d"
            ],
            [
             0.2,
             "#de77ae"
            ],
            [
             0.3,
             "#f1b6da"
            ],
            [
             0.4,
             "#fde0ef"
            ],
            [
             0.5,
             "#f7f7f7"
            ],
            [
             0.6,
             "#e6f5d0"
            ],
            [
             0.7,
             "#b8e186"
            ],
            [
             0.8,
             "#7fbc41"
            ],
            [
             0.9,
             "#4d9221"
            ],
            [
             1,
             "#276419"
            ]
           ],
           "sequential": [
            [
             0,
             "#0d0887"
            ],
            [
             0.1111111111111111,
             "#46039f"
            ],
            [
             0.2222222222222222,
             "#7201a8"
            ],
            [
             0.3333333333333333,
             "#9c179e"
            ],
            [
             0.4444444444444444,
             "#bd3786"
            ],
            [
             0.5555555555555556,
             "#d8576b"
            ],
            [
             0.6666666666666666,
             "#ed7953"
            ],
            [
             0.7777777777777778,
             "#fb9f3a"
            ],
            [
             0.8888888888888888,
             "#fdca26"
            ],
            [
             1,
             "#f0f921"
            ]
           ],
           "sequentialminus": [
            [
             0,
             "#0d0887"
            ],
            [
             0.1111111111111111,
             "#46039f"
            ],
            [
             0.2222222222222222,
             "#7201a8"
            ],
            [
             0.3333333333333333,
             "#9c179e"
            ],
            [
             0.4444444444444444,
             "#bd3786"
            ],
            [
             0.5555555555555556,
             "#d8576b"
            ],
            [
             0.6666666666666666,
             "#ed7953"
            ],
            [
             0.7777777777777778,
             "#fb9f3a"
            ],
            [
             0.8888888888888888,
             "#fdca26"
            ],
            [
             1,
             "#f0f921"
            ]
           ]
          },
          "colorway": [
           "#636efa",
           "#EF553B",
           "#00cc96",
           "#ab63fa",
           "#FFA15A",
           "#19d3f3",
           "#FF6692",
           "#B6E880",
           "#FF97FF",
           "#FECB52"
          ],
          "font": {
           "color": "#2a3f5f"
          },
          "geo": {
           "bgcolor": "white",
           "lakecolor": "white",
           "landcolor": "#E5ECF6",
           "showlakes": true,
           "showland": true,
           "subunitcolor": "white"
          },
          "hoverlabel": {
           "align": "left"
          },
          "hovermode": "closest",
          "mapbox": {
           "style": "light"
          },
          "paper_bgcolor": "white",
          "plot_bgcolor": "#E5ECF6",
          "polar": {
           "angularaxis": {
            "gridcolor": "white",
            "linecolor": "white",
            "ticks": ""
           },
           "bgcolor": "#E5ECF6",
           "radialaxis": {
            "gridcolor": "white",
            "linecolor": "white",
            "ticks": ""
           }
          },
          "scene": {
           "xaxis": {
            "backgroundcolor": "#E5ECF6",
            "gridcolor": "white",
            "gridwidth": 2,
            "linecolor": "white",
            "showbackground": true,
            "ticks": "",
            "zerolinecolor": "white"
           },
           "yaxis": {
            "backgroundcolor": "#E5ECF6",
            "gridcolor": "white",
            "gridwidth": 2,
            "linecolor": "white",
            "showbackground": true,
            "ticks": "",
            "zerolinecolor": "white"
           },
           "zaxis": {
            "backgroundcolor": "#E5ECF6",
            "gridcolor": "white",
            "gridwidth": 2,
            "linecolor": "white",
            "showbackground": true,
            "ticks": "",
            "zerolinecolor": "white"
           }
          },
          "shapedefaults": {
           "line": {
            "color": "#2a3f5f"
           }
          },
          "ternary": {
           "aaxis": {
            "gridcolor": "white",
            "linecolor": "white",
            "ticks": ""
           },
           "baxis": {
            "gridcolor": "white",
            "linecolor": "white",
            "ticks": ""
           },
           "bgcolor": "#E5ECF6",
           "caxis": {
            "gridcolor": "white",
            "linecolor": "white",
            "ticks": ""
           }
          },
          "title": {
           "x": 0.05
          },
          "xaxis": {
           "automargin": true,
           "gridcolor": "white",
           "linecolor": "white",
           "ticks": "",
           "zerolinecolor": "white",
           "zerolinewidth": 2
          },
          "yaxis": {
           "automargin": true,
           "gridcolor": "white",
           "linecolor": "white",
           "ticks": "",
           "zerolinecolor": "white",
           "zerolinewidth": 2
          }
         }
        },
        "title": {
         "text": "Topics in Recommended Reviews"
        }
       }
      }
     },
     "metadata": {}
    }
   ],
   "source": [
    "fig = go.Figure([go.Bar(x=df_result['topic'], y=df_result['counts'])])\n",
    "fig.update_layout(title=go.layout.Title(text=\"Topics in Recommended Reviews\"))\n",
    "fig.show()"
   ]
  },
  {
   "cell_type": "code",
   "execution_count": null,
   "metadata": {},
   "outputs": [],
   "source": []
  }
 ]
}
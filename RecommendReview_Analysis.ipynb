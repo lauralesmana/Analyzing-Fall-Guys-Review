{
 "metadata": {
  "language_info": {
   "codemirror_mode": {
    "name": "ipython",
    "version": 3
   },
   "file_extension": ".py",
   "mimetype": "text/x-python",
   "name": "python",
   "nbconvert_exporter": "python",
   "pygments_lexer": "ipython3",
   "version": "3.7.6-final"
  },
  "orig_nbformat": 2,
  "kernelspec": {
   "name": "Python 3.7.6 64-bit ('base': conda)",
   "display_name": "Python 3.7.6 64-bit ('base': conda)",
   "metadata": {
    "interpreter": {
     "hash": "8d1b0e05aaf8072557c9e1caf7c5d9e816c75ebd330c6b717cdfc1f2094defc9"
    }
   }
  }
 },
 "nbformat": 4,
 "nbformat_minor": 2,
 "cells": [
  {
   "cell_type": "code",
   "execution_count": 98,
   "metadata": {},
   "outputs": [],
   "source": [
    "import pandas as pd\n",
    "import numpy as np\n",
    "import gensim\n",
    "from nltk.corpus import stopwords, wordnet\n",
    "from nltk.tokenize import word_tokenize\n",
    "import wordcloud\n",
    "import matplotlib.pyplot as plt\n",
    "import seaborn as sns\n",
    "import plotly.graph_objects as go\n",
    "\n",
    "from sklearn.decomposition import LatentDirichletAllocation\n",
    "from sklearn.feature_extraction.text import CountVectorizer, TfidfVectorizer\n",
    "from pprint import pprint"
   ]
  },
  {
   "cell_type": "code",
   "execution_count": 68,
   "metadata": {},
   "outputs": [
    {
     "output_type": "execute_result",
     "data": {
      "text/plain": "       voted_up                                        clean_token  \\\n0          True  [&#39;fall&#39;, &#39;guy&#39;, &#39;chill&#39;, &#39;fun&#39;, &#39;game&#39;, &#39;reall...   \n1          True  [&#39;give&#39;, &#39;little&#39;, &#39;hug&#39;, &#39;player&#39;, &#39;stare&#39;, &#39;...   \n2          True                       [&#39;reccomend&#39;, &#39;much&#39;, &#39;buy&#39;]   \n3          True                                  [&#39;hug&#39;, &#39;people&#39;]   \n4          True  [&#39;little&#39;, &#39;boy&#39;, &#39;like&#39;, &#39;see&#39;, &#39;wipeout&#39;, &#39;t...   \n...         ...                                                ...   \n13089      True  [&#39;well&#39;, &#39;make&#39;, &#39;game&#39;, &#39;get&#39;, &#39;enough&#39;, &#39;man...   \n13090      True  [&#39;fun&#39;, &#39;competitive&#39;, &#39;especially&#39;, &#39;friend&#39;,...   \n13091      True  [&#39;game&#39;, &#39;extremely&#39;, &#39;fun&#39;, &#39;nice&#39;, &#39;break&#39;, ...   \n13092      True            [&#39;fun&#39;, &#39;play&#39;, &#39;keep&#39;, &#39;work&#39;, &#39;game&#39;]   \n13093      True  [&#39;turn&#39;, &#39;around&#39;, &#39;read&#39;, &#39;previous&#39;, &#39;review...   \n\n                                               clean_str  \n0      fall guy chill fun game really need server imp...  \n1      give little hug player stare back second jump ...  \n2                                     reccomend much buy  \n3                                             hug people  \n4      little boy like see wipeout tv always dream ta...  \n...                                                  ...  \n13089  well make game get enough many way differentia...  \n13090  fun competitive especially friend recommend bu...  \n13091  game extremely fun nice break usual drop loot ...  \n13092                            fun play keep work game  \n13093  turn around read previous review could recomme...  \n\n[13094 rows x 3 columns]",
      "text/html": "<div>\n<style scoped>\n    .dataframe tbody tr th:only-of-type {\n        vertical-align: middle;\n    }\n\n    .dataframe tbody tr th {\n        vertical-align: top;\n    }\n\n    .dataframe thead th {\n        text-align: right;\n    }\n</style>\n<table border=\"1\" class=\"dataframe\">\n  <thead>\n    <tr style=\"text-align: right;\">\n      <th></th>\n      <th>voted_up</th>\n      <th>clean_token</th>\n      <th>clean_str</th>\n    </tr>\n  </thead>\n  <tbody>\n    <tr>\n      <th>0</th>\n      <td>True</td>\n      <td>['fall', 'guy', 'chill', 'fun', 'game', 'reall...</td>\n      <td>fall guy chill fun game really need server imp...</td>\n    </tr>\n    <tr>\n      <th>1</th>\n      <td>True</td>\n      <td>['give', 'little', 'hug', 'player', 'stare', '...</td>\n      <td>give little hug player stare back second jump ...</td>\n    </tr>\n    <tr>\n      <th>2</th>\n      <td>True</td>\n      <td>['reccomend', 'much', 'buy']</td>\n      <td>reccomend much buy</td>\n    </tr>\n    <tr>\n      <th>3</th>\n      <td>True</td>\n      <td>['hug', 'people']</td>\n      <td>hug people</td>\n    </tr>\n    <tr>\n      <th>4</th>\n      <td>True</td>\n      <td>['little', 'boy', 'like', 'see', 'wipeout', 't...</td>\n      <td>little boy like see wipeout tv always dream ta...</td>\n    </tr>\n    <tr>\n      <th>...</th>\n      <td>...</td>\n      <td>...</td>\n      <td>...</td>\n    </tr>\n    <tr>\n      <th>13089</th>\n      <td>True</td>\n      <td>['well', 'make', 'game', 'get', 'enough', 'man...</td>\n      <td>well make game get enough many way differentia...</td>\n    </tr>\n    <tr>\n      <th>13090</th>\n      <td>True</td>\n      <td>['fun', 'competitive', 'especially', 'friend',...</td>\n      <td>fun competitive especially friend recommend bu...</td>\n    </tr>\n    <tr>\n      <th>13091</th>\n      <td>True</td>\n      <td>['game', 'extremely', 'fun', 'nice', 'break', ...</td>\n      <td>game extremely fun nice break usual drop loot ...</td>\n    </tr>\n    <tr>\n      <th>13092</th>\n      <td>True</td>\n      <td>['fun', 'play', 'keep', 'work', 'game']</td>\n      <td>fun play keep work game</td>\n    </tr>\n    <tr>\n      <th>13093</th>\n      <td>True</td>\n      <td>['turn', 'around', 'read', 'previous', 'review...</td>\n      <td>turn around read previous review could recomme...</td>\n    </tr>\n  </tbody>\n</table>\n<p>13094 rows × 3 columns</p>\n</div>"
     },
     "metadata": {},
     "execution_count": 68
    }
   ],
   "source": [
    "df = pd.read_csv('.../clean_text.csv')\n",
    "df"
   ]
  },
  {
   "cell_type": "code",
   "execution_count": 69,
   "metadata": {},
   "outputs": [],
   "source": [
    "df_yes = df[df['voted_up'] == True]"
   ]
  },
  {
   "cell_type": "code",
   "execution_count": 70,
   "metadata": {},
   "outputs": [],
   "source": [
    "df_yes.reset_index(inplace = True, drop = True)"
   ]
  },
  {
   "cell_type": "code",
   "execution_count": 71,
   "metadata": {},
   "outputs": [
    {
     "output_type": "execute_result",
     "data": {
      "text/plain": "      voted_up                                        clean_token  \\\n0         True  [&#39;fall&#39;, &#39;guy&#39;, &#39;chill&#39;, &#39;fun&#39;, &#39;game&#39;, &#39;reall...   \n1         True  [&#39;give&#39;, &#39;little&#39;, &#39;hug&#39;, &#39;player&#39;, &#39;stare&#39;, &#39;...   \n2         True                       [&#39;reccomend&#39;, &#39;much&#39;, &#39;buy&#39;]   \n3         True                                  [&#39;hug&#39;, &#39;people&#39;]   \n4         True  [&#39;little&#39;, &#39;boy&#39;, &#39;like&#39;, &#39;see&#39;, &#39;wipeout&#39;, &#39;t...   \n...        ...                                                ...   \n9763      True  [&#39;well&#39;, &#39;make&#39;, &#39;game&#39;, &#39;get&#39;, &#39;enough&#39;, &#39;man...   \n9764      True  [&#39;fun&#39;, &#39;competitive&#39;, &#39;especially&#39;, &#39;friend&#39;,...   \n9765      True  [&#39;game&#39;, &#39;extremely&#39;, &#39;fun&#39;, &#39;nice&#39;, &#39;break&#39;, ...   \n9766      True            [&#39;fun&#39;, &#39;play&#39;, &#39;keep&#39;, &#39;work&#39;, &#39;game&#39;]   \n9767      True  [&#39;turn&#39;, &#39;around&#39;, &#39;read&#39;, &#39;previous&#39;, &#39;review...   \n\n                                              clean_str  \n0     fall guy chill fun game really need server imp...  \n1     give little hug player stare back second jump ...  \n2                                    reccomend much buy  \n3                                            hug people  \n4     little boy like see wipeout tv always dream ta...  \n...                                                 ...  \n9763  well make game get enough many way differentia...  \n9764  fun competitive especially friend recommend bu...  \n9765  game extremely fun nice break usual drop loot ...  \n9766                            fun play keep work game  \n9767  turn around read previous review could recomme...  \n\n[9768 rows x 3 columns]",
      "text/html": "<div>\n<style scoped>\n    .dataframe tbody tr th:only-of-type {\n        vertical-align: middle;\n    }\n\n    .dataframe tbody tr th {\n        vertical-align: top;\n    }\n\n    .dataframe thead th {\n        text-align: right;\n    }\n</style>\n<table border=\"1\" class=\"dataframe\">\n  <thead>\n    <tr style=\"text-align: right;\">\n      <th></th>\n      <th>voted_up</th>\n      <th>clean_token</th>\n      <th>clean_str</th>\n    </tr>\n  </thead>\n  <tbody>\n    <tr>\n      <th>0</th>\n      <td>True</td>\n      <td>['fall', 'guy', 'chill', 'fun', 'game', 'reall...</td>\n      <td>fall guy chill fun game really need server imp...</td>\n    </tr>\n    <tr>\n      <th>1</th>\n      <td>True</td>\n      <td>['give', 'little', 'hug', 'player', 'stare', '...</td>\n      <td>give little hug player stare back second jump ...</td>\n    </tr>\n    <tr>\n      <th>2</th>\n      <td>True</td>\n      <td>['reccomend', 'much', 'buy']</td>\n      <td>reccomend much buy</td>\n    </tr>\n    <tr>\n      <th>3</th>\n      <td>True</td>\n      <td>['hug', 'people']</td>\n      <td>hug people</td>\n    </tr>\n    <tr>\n      <th>4</th>\n      <td>True</td>\n      <td>['little', 'boy', 'like', 'see', 'wipeout', 't...</td>\n      <td>little boy like see wipeout tv always dream ta...</td>\n    </tr>\n    <tr>\n      <th>...</th>\n      <td>...</td>\n      <td>...</td>\n      <td>...</td>\n    </tr>\n    <tr>\n      <th>9763</th>\n      <td>True</td>\n      <td>['well', 'make', 'game', 'get', 'enough', 'man...</td>\n      <td>well make game get enough many way differentia...</td>\n    </tr>\n    <tr>\n      <th>9764</th>\n      <td>True</td>\n      <td>['fun', 'competitive', 'especially', 'friend',...</td>\n      <td>fun competitive especially friend recommend bu...</td>\n    </tr>\n    <tr>\n      <th>9765</th>\n      <td>True</td>\n      <td>['game', 'extremely', 'fun', 'nice', 'break', ...</td>\n      <td>game extremely fun nice break usual drop loot ...</td>\n    </tr>\n    <tr>\n      <th>9766</th>\n      <td>True</td>\n      <td>['fun', 'play', 'keep', 'work', 'game']</td>\n      <td>fun play keep work game</td>\n    </tr>\n    <tr>\n      <th>9767</th>\n      <td>True</td>\n      <td>['turn', 'around', 'read', 'previous', 'review...</td>\n      <td>turn around read previous review could recomme...</td>\n    </tr>\n  </tbody>\n</table>\n<p>9768 rows × 3 columns</p>\n</div>"
     },
     "metadata": {},
     "execution_count": 71
    }
   ],
   "source": [
    "df_yes"
   ]
  },
  {
   "cell_type": "code",
   "execution_count": 72,
   "metadata": {},
   "outputs": [],
   "source": [
    "df_yes.clean_str=df_yes.clean_str.astype(str)"
   ]
  },
  {
   "cell_type": "code",
   "execution_count": 75,
   "metadata": {},
   "outputs": [],
   "source": [
    "vectorizer = CountVectorizer(analyzer='word',  \n",
    "                             min_df=3,   \n",
    "                             stop_words=['game', 'fun'],\n",
    "                             ngram_range=(2,2),                           \n",
    "                             lowercase=True,                  \n",
    "                             token_pattern='[a-zA-Z0-9]{3,}', \n",
    "                             max_features=10000,           \n",
    "                            )\n",
    "\n",
    "data_vectorized = vectorizer.fit_transform(df_yes['clean_str'])\n",
    "\n",
    "lda_model = LatentDirichletAllocation(n_components= 8, \n",
    "                                      learning_method='online',s\n",
    "                                      random_state=0,       \n",
    "                                      n_jobs = -1 \n",
    "                                     )\n",
    "lda_output = lda_model.fit_transform(data_vectorized)"
   ]
  },
  {
   "cell_type": "code",
   "execution_count": 76,
   "metadata": {},
   "outputs": [
    {
     "output_type": "execute_result",
     "data": {
      "text/plain": "                  Word 0            Word 1       Word 2        Word 3  \\\nTopic 0      mario party     battle royale    ever play   friend play   \nTopic 1        long time       pretty good    feel like     play long   \nTopic 2         fall guy     battle royale   jelly bean  server issue   \nTopic 3     server issue  highly recommend    play hour  look forward   \nTopic 4        good good     battle royale     good big     good ever   \nTopic 5      play friend          fall guy   great play    play alone   \nTopic 6  takeshis castle   would recommend  play friend     good play   \nTopic 7         fall guy          guy fall      run run   really good   \n\n                    Word 4            Word 5       Word 6           Word 7  \\\nTopic 0           tail tag         even well    fall ball      well friend   \nTopic 1     server problem       really like  new content         wait see   \nTopic 2        finish line   negative review   launch day      final round   \nTopic 3      lot potential        day server    first day  takeshis castle   \nTopic 4        good battle         get knock   would fall       easy learn   \nTopic 5          good time      server issue    even lose          new map   \nTopic 6  especially friend  highly recommend    team mode      many people   \nTopic 7       battle royal     get eliminate     one good      yellow team   \n\n                  Word 8            Word 9  \nTopic 0        feel like         grab tail  \nTopic 1      worth every          need fix  \nTopic 2     royale genre          get well  \nTopic 3        one thing         stop play  \nTopic 4      worth price         could use  \nTopic 5        play even         time play  \nTopic 6      battle pass  definitely worth  \nTopic 7  obstacle course       people play  ",
      "text/html": "<div>\n<style scoped>\n    .dataframe tbody tr th:only-of-type {\n        vertical-align: middle;\n    }\n\n    .dataframe tbody tr th {\n        vertical-align: top;\n    }\n\n    .dataframe thead th {\n        text-align: right;\n    }\n</style>\n<table border=\"1\" class=\"dataframe\">\n  <thead>\n    <tr style=\"text-align: right;\">\n      <th></th>\n      <th>Word 0</th>\n      <th>Word 1</th>\n      <th>Word 2</th>\n      <th>Word 3</th>\n      <th>Word 4</th>\n      <th>Word 5</th>\n      <th>Word 6</th>\n      <th>Word 7</th>\n      <th>Word 8</th>\n      <th>Word 9</th>\n    </tr>\n  </thead>\n  <tbody>\n    <tr>\n      <th>Topic 0</th>\n      <td>mario party</td>\n      <td>battle royale</td>\n      <td>ever play</td>\n      <td>friend play</td>\n      <td>tail tag</td>\n      <td>even well</td>\n      <td>fall ball</td>\n      <td>well friend</td>\n      <td>feel like</td>\n      <td>grab tail</td>\n    </tr>\n    <tr>\n      <th>Topic 1</th>\n      <td>long time</td>\n      <td>pretty good</td>\n      <td>feel like</td>\n      <td>play long</td>\n      <td>server problem</td>\n      <td>really like</td>\n      <td>new content</td>\n      <td>wait see</td>\n      <td>worth every</td>\n      <td>need fix</td>\n    </tr>\n    <tr>\n      <th>Topic 2</th>\n      <td>fall guy</td>\n      <td>battle royale</td>\n      <td>jelly bean</td>\n      <td>server issue</td>\n      <td>finish line</td>\n      <td>negative review</td>\n      <td>launch day</td>\n      <td>final round</td>\n      <td>royale genre</td>\n      <td>get well</td>\n    </tr>\n    <tr>\n      <th>Topic 3</th>\n      <td>server issue</td>\n      <td>highly recommend</td>\n      <td>play hour</td>\n      <td>look forward</td>\n      <td>lot potential</td>\n      <td>day server</td>\n      <td>first day</td>\n      <td>takeshis castle</td>\n      <td>one thing</td>\n      <td>stop play</td>\n    </tr>\n    <tr>\n      <th>Topic 4</th>\n      <td>good good</td>\n      <td>battle royale</td>\n      <td>good big</td>\n      <td>good ever</td>\n      <td>good battle</td>\n      <td>get knock</td>\n      <td>would fall</td>\n      <td>easy learn</td>\n      <td>worth price</td>\n      <td>could use</td>\n    </tr>\n    <tr>\n      <th>Topic 5</th>\n      <td>play friend</td>\n      <td>fall guy</td>\n      <td>great play</td>\n      <td>play alone</td>\n      <td>good time</td>\n      <td>server issue</td>\n      <td>even lose</td>\n      <td>new map</td>\n      <td>play even</td>\n      <td>time play</td>\n    </tr>\n    <tr>\n      <th>Topic 6</th>\n      <td>takeshis castle</td>\n      <td>would recommend</td>\n      <td>play friend</td>\n      <td>good play</td>\n      <td>especially friend</td>\n      <td>highly recommend</td>\n      <td>team mode</td>\n      <td>many people</td>\n      <td>battle pass</td>\n      <td>definitely worth</td>\n    </tr>\n    <tr>\n      <th>Topic 7</th>\n      <td>fall guy</td>\n      <td>guy fall</td>\n      <td>run run</td>\n      <td>really good</td>\n      <td>battle royal</td>\n      <td>get eliminate</td>\n      <td>one good</td>\n      <td>yellow team</td>\n      <td>obstacle course</td>\n      <td>people play</td>\n    </tr>\n  </tbody>\n</table>\n</div>"
     },
     "metadata": {},
     "execution_count": 76
    }
   ],
   "source": [
    "def show_topics(vectorizer=vectorizer, lda_model=lda_model, n_words=10):\n",
    "    keywords = np.array(vectorizer.get_feature_names())\n",
    "    topic_keywords = []\n",
    "    for topic_weights in lda_model.components_:\n",
    "        top_keyword_locs = (-topic_weights).argsort()[:n_words]\n",
    "        topic_keywords.append(keywords.take(top_keyword_locs))\n",
    "    return topic_keywords\n",
    "\n",
    "topic_keywords = show_topics(vectorizer=vectorizer, lda_model=lda_model, n_words=10)        \n",
    "\n",
    "# Topic - Keywords Dataframe\n",
    "df_topic_keywords = pd.DataFrame(topic_keywords)\n",
    "df_topic_keywords.columns = ['Word '+str(i) for i in range(df_topic_keywords.shape[1])]\n",
    "df_topic_keywords.index = ['Topic '+str(i) for i in range(df_topic_keywords.shape[0])]\n",
    "df_topic_keywords"
   ]
  },
  {
   "cell_type": "code",
   "execution_count": 112,
   "metadata": {},
   "outputs": [],
   "source": [
    "Topics_theme = ['fun to play with friends', 'good game but need new content and server fix', 'server issue on launch day', 'a potentially good game but has server issue', 'easy to play', 'can be played with friends or alone', 'recommend the game', 'enjoying the team mode but get eliminated' ]\n",
    "df_topic_keywords['topic_theme'] = Topics_theme"
   ]
  },
  {
   "cell_type": "code",
   "execution_count": 113,
   "metadata": {},
   "outputs": [],
   "source": [
    "df_topic_keywords.set_index('topic_theme', inplace=True)"
   ]
  },
  {
   "cell_type": "code",
   "execution_count": 114,
   "metadata": {},
   "outputs": [
    {
     "output_type": "execute_result",
     "data": {
      "text/plain": "topic_theme fun to play with friends  \\\nWord 0                   mario party   \nWord 1                 battle royale   \nWord 2                     ever play   \nWord 3                   friend play   \nWord 4                      tail tag   \nWord 5                     even well   \nWord 6                     fall ball   \nWord 7                   well friend   \nWord 8                     feel like   \nWord 9                     grab tail   \n\ntopic_theme good game but need new content and server fix  \\\nWord 0                                          long time   \nWord 1                                        pretty good   \nWord 2                                          feel like   \nWord 3                                          play long   \nWord 4                                     server problem   \nWord 5                                        really like   \nWord 6                                        new content   \nWord 7                                           wait see   \nWord 8                                        worth every   \nWord 9                                           need fix   \n\ntopic_theme server issue on launch day  \\\nWord 0                        fall guy   \nWord 1                   battle royale   \nWord 2                      jelly bean   \nWord 3                    server issue   \nWord 4                     finish line   \nWord 5                 negative review   \nWord 6                      launch day   \nWord 7                     final round   \nWord 8                    royale genre   \nWord 9                        get well   \n\ntopic_theme a potentially good game but has server issue   easy to play  \\\nWord 0                                      server issue      good good   \nWord 1                                  highly recommend  battle royale   \nWord 2                                         play hour       good big   \nWord 3                                      look forward      good ever   \nWord 4                                     lot potential    good battle   \nWord 5                                        day server      get knock   \nWord 6                                         first day     would fall   \nWord 7                                   takeshis castle     easy learn   \nWord 8                                         one thing    worth price   \nWord 9                                         stop play      could use   \n\ntopic_theme can be played with friends or alone recommend the game  \\\nWord 0                              play friend    takeshis castle   \nWord 1                                 fall guy    would recommend   \nWord 2                               great play        play friend   \nWord 3                               play alone          good play   \nWord 4                                good time  especially friend   \nWord 5                             server issue   highly recommend   \nWord 6                                even lose          team mode   \nWord 7                                  new map        many people   \nWord 8                                play even        battle pass   \nWord 9                                time play   definitely worth   \n\ntopic_theme enjoying the team mode but get eliminated  \nWord 0                                       fall guy  \nWord 1                                       guy fall  \nWord 2                                        run run  \nWord 3                                    really good  \nWord 4                                   battle royal  \nWord 5                                  get eliminate  \nWord 6                                       one good  \nWord 7                                    yellow team  \nWord 8                                obstacle course  \nWord 9                                    people play  ",
      "text/html": "<div>\n<style scoped>\n    .dataframe tbody tr th:only-of-type {\n        vertical-align: middle;\n    }\n\n    .dataframe tbody tr th {\n        vertical-align: top;\n    }\n\n    .dataframe thead th {\n        text-align: right;\n    }\n</style>\n<table border=\"1\" class=\"dataframe\">\n  <thead>\n    <tr style=\"text-align: right;\">\n      <th>topic_theme</th>\n      <th>fun to play with friends</th>\n      <th>good game but need new content and server fix</th>\n      <th>server issue on launch day</th>\n      <th>a potentially good game but has server issue</th>\n      <th>easy to play</th>\n      <th>can be played with friends or alone</th>\n      <th>recommend the game</th>\n      <th>enjoying the team mode but get eliminated</th>\n    </tr>\n  </thead>\n  <tbody>\n    <tr>\n      <th>Word 0</th>\n      <td>mario party</td>\n      <td>long time</td>\n      <td>fall guy</td>\n      <td>server issue</td>\n      <td>good good</td>\n      <td>play friend</td>\n      <td>takeshis castle</td>\n      <td>fall guy</td>\n    </tr>\n    <tr>\n      <th>Word 1</th>\n      <td>battle royale</td>\n      <td>pretty good</td>\n      <td>battle royale</td>\n      <td>highly recommend</td>\n      <td>battle royale</td>\n      <td>fall guy</td>\n      <td>would recommend</td>\n      <td>guy fall</td>\n    </tr>\n    <tr>\n      <th>Word 2</th>\n      <td>ever play</td>\n      <td>feel like</td>\n      <td>jelly bean</td>\n      <td>play hour</td>\n      <td>good big</td>\n      <td>great play</td>\n      <td>play friend</td>\n      <td>run run</td>\n    </tr>\n    <tr>\n      <th>Word 3</th>\n      <td>friend play</td>\n      <td>play long</td>\n      <td>server issue</td>\n      <td>look forward</td>\n      <td>good ever</td>\n      <td>play alone</td>\n      <td>good play</td>\n      <td>really good</td>\n    </tr>\n    <tr>\n      <th>Word 4</th>\n      <td>tail tag</td>\n      <td>server problem</td>\n      <td>finish line</td>\n      <td>lot potential</td>\n      <td>good battle</td>\n      <td>good time</td>\n      <td>especially friend</td>\n      <td>battle royal</td>\n    </tr>\n    <tr>\n      <th>Word 5</th>\n      <td>even well</td>\n      <td>really like</td>\n      <td>negative review</td>\n      <td>day server</td>\n      <td>get knock</td>\n      <td>server issue</td>\n      <td>highly recommend</td>\n      <td>get eliminate</td>\n    </tr>\n    <tr>\n      <th>Word 6</th>\n      <td>fall ball</td>\n      <td>new content</td>\n      <td>launch day</td>\n      <td>first day</td>\n      <td>would fall</td>\n      <td>even lose</td>\n      <td>team mode</td>\n      <td>one good</td>\n    </tr>\n    <tr>\n      <th>Word 7</th>\n      <td>well friend</td>\n      <td>wait see</td>\n      <td>final round</td>\n      <td>takeshis castle</td>\n      <td>easy learn</td>\n      <td>new map</td>\n      <td>many people</td>\n      <td>yellow team</td>\n    </tr>\n    <tr>\n      <th>Word 8</th>\n      <td>feel like</td>\n      <td>worth every</td>\n      <td>royale genre</td>\n      <td>one thing</td>\n      <td>worth price</td>\n      <td>play even</td>\n      <td>battle pass</td>\n      <td>obstacle course</td>\n    </tr>\n    <tr>\n      <th>Word 9</th>\n      <td>grab tail</td>\n      <td>need fix</td>\n      <td>get well</td>\n      <td>stop play</td>\n      <td>could use</td>\n      <td>time play</td>\n      <td>definitely worth</td>\n      <td>people play</td>\n    </tr>\n  </tbody>\n</table>\n</div>"
     },
     "metadata": {},
     "execution_count": 114
    }
   ],
   "source": [
    "df_topic_keywords.T"
   ]
  },
  {
   "cell_type": "code",
   "execution_count": 115,
   "metadata": {},
   "outputs": [],
   "source": [
    "lda_output = lda_model.transform(data_vectorized)\n",
    "\n",
    "topicnames = df_topic_keywords.T.columns\n",
    "\n",
    "docnames = [\"Doc\" + str(i) for i in range(len(df_yes))]\n",
    "\n",
    "df_document_topic = pd.DataFrame(np.round(lda_output, 2), columns=topicnames, index=docnames)\n",
    "\n",
    "dominant_topic = np.argmax(df_document_topic.values, axis=1)\n",
    "df_document_topic['dominant_topic'] = dominant_topic"
   ]
  },
  {
   "cell_type": "code",
   "execution_count": 116,
   "metadata": {},
   "outputs": [],
   "source": [
    "df_document_topic.reset_index(inplace=True)\n",
    "df_sent_topic= pd.merge(df_yes, df_document_topic, left_index=True, right_index=True)\n",
    "df_sent_topic.drop('index', axis=1, inplace=True)"
   ]
  },
  {
   "cell_type": "code",
   "execution_count": 117,
   "metadata": {},
   "outputs": [
    {
     "output_type": "execute_result",
     "data": {
      "text/plain": "      voted_up                                        clean_token  \\\n0         True  [&#39;fall&#39;, &#39;guy&#39;, &#39;chill&#39;, &#39;fun&#39;, &#39;game&#39;, &#39;reall...   \n1         True  [&#39;give&#39;, &#39;little&#39;, &#39;hug&#39;, &#39;player&#39;, &#39;stare&#39;, &#39;...   \n2         True                       [&#39;reccomend&#39;, &#39;much&#39;, &#39;buy&#39;]   \n3         True                                  [&#39;hug&#39;, &#39;people&#39;]   \n4         True  [&#39;little&#39;, &#39;boy&#39;, &#39;like&#39;, &#39;see&#39;, &#39;wipeout&#39;, &#39;t...   \n...        ...                                                ...   \n9763      True  [&#39;well&#39;, &#39;make&#39;, &#39;game&#39;, &#39;get&#39;, &#39;enough&#39;, &#39;man...   \n9764      True  [&#39;fun&#39;, &#39;competitive&#39;, &#39;especially&#39;, &#39;friend&#39;,...   \n9765      True  [&#39;game&#39;, &#39;extremely&#39;, &#39;fun&#39;, &#39;nice&#39;, &#39;break&#39;, ...   \n9766      True            [&#39;fun&#39;, &#39;play&#39;, &#39;keep&#39;, &#39;work&#39;, &#39;game&#39;]   \n9767      True  [&#39;turn&#39;, &#39;around&#39;, &#39;read&#39;, &#39;previous&#39;, &#39;review...   \n\n                                              clean_str  \\\n0     fall guy chill fun game really need server imp...   \n1     give little hug player stare back second jump ...   \n2                                    reccomend much buy   \n3                                            hug people   \n4     little boy like see wipeout tv always dream ta...   \n...                                                 ...   \n9763  well make game get enough many way differentia...   \n9764  fun competitive especially friend recommend bu...   \n9765  game extremely fun nice break usual drop loot ...   \n9766                            fun play keep work game   \n9767  turn around read previous review could recomme...   \n\n      fun to play with friends  good game but need new content and server fix  \\\n0                         0.01                                           0.96   \n1                         0.03                                           0.53   \n2                         0.06                                           0.06   \n3                         0.56                                           0.06   \n4                         0.90                                           0.01   \n...                        ...                                            ...   \n9763                      0.31                                           0.21   \n9764                      0.03                                           0.03   \n9765                      0.37                                           0.04   \n9766                      0.04                                           0.04   \n9767                      0.06                                           0.11   \n\n      server issue on launch day  \\\n0                           0.01   \n1                           0.03   \n2                           0.06   \n3                           0.06   \n4                           0.01   \n...                          ...   \n9763                        0.01   \n9764                        0.03   \n9765                        0.04   \n9766                        0.37   \n9767                        0.32   \n\n      a potentially good game but has server issue  easy to play  \\\n0                                             0.01          0.01   \n1                                             0.03          0.28   \n2                                             0.06          0.06   \n3                                             0.06          0.06   \n4                                             0.01          0.01   \n...                                            ...           ...   \n9763                                          0.01          0.01   \n9764                                          0.03          0.03   \n9765                                          0.04          0.04   \n9766                                          0.04          0.04   \n9767                                          0.24          0.01   \n\n      can be played with friends or alone  recommend the game  \\\n0                                    0.01                0.01   \n1                                    0.03                0.03   \n2                                    0.06                0.56   \n3                                    0.06                0.06   \n4                                    0.01                0.01   \n...                                   ...                 ...   \n9763                                 0.20                0.13   \n9764                                 0.03                0.78   \n9765                                 0.37                0.04   \n9766                                 0.04                0.04   \n9767                                 0.01                0.20   \n\n      enjoying the team mode but get eliminated  dominant_topic  \n0                                          0.01               1  \n1                                          0.03               1  \n2                                          0.06               6  \n3                                          0.06               0  \n4                                          0.01               0  \n...                                         ...             ...  \n9763                                       0.11               0  \n9764                                       0.03               6  \n9765                                       0.04               0  \n9766                                       0.38               7  \n9767                                       0.06               2  \n\n[9768 rows x 12 columns]",
      "text/html": "<div>\n<style scoped>\n    .dataframe tbody tr th:only-of-type {\n        vertical-align: middle;\n    }\n\n    .dataframe tbody tr th {\n        vertical-align: top;\n    }\n\n    .dataframe thead th {\n        text-align: right;\n    }\n</style>\n<table border=\"1\" class=\"dataframe\">\n  <thead>\n    <tr style=\"text-align: right;\">\n      <th></th>\n      <th>voted_up</th>\n      <th>clean_token</th>\n      <th>clean_str</th>\n      <th>fun to play with friends</th>\n      <th>good game but need new content and server fix</th>\n      <th>server issue on launch day</th>\n      <th>a potentially good game but has server issue</th>\n      <th>easy to play</th>\n      <th>can be played with friends or alone</th>\n      <th>recommend the game</th>\n      <th>enjoying the team mode but get eliminated</th>\n      <th>dominant_topic</th>\n    </tr>\n  </thead>\n  <tbody>\n    <tr>\n      <th>0</th>\n      <td>True</td>\n      <td>['fall', 'guy', 'chill', 'fun', 'game', 'reall...</td>\n      <td>fall guy chill fun game really need server imp...</td>\n      <td>0.01</td>\n      <td>0.96</td>\n      <td>0.01</td>\n      <td>0.01</td>\n      <td>0.01</td>\n      <td>0.01</td>\n      <td>0.01</td>\n      <td>0.01</td>\n      <td>1</td>\n    </tr>\n    <tr>\n      <th>1</th>\n      <td>True</td>\n      <td>['give', 'little', 'hug', 'player', 'stare', '...</td>\n      <td>give little hug player stare back second jump ...</td>\n      <td>0.03</td>\n      <td>0.53</td>\n      <td>0.03</td>\n      <td>0.03</td>\n      <td>0.28</td>\n      <td>0.03</td>\n      <td>0.03</td>\n      <td>0.03</td>\n      <td>1</td>\n    </tr>\n    <tr>\n      <th>2</th>\n      <td>True</td>\n      <td>['reccomend', 'much', 'buy']</td>\n      <td>reccomend much buy</td>\n      <td>0.06</td>\n      <td>0.06</td>\n      <td>0.06</td>\n      <td>0.06</td>\n      <td>0.06</td>\n      <td>0.06</td>\n      <td>0.56</td>\n      <td>0.06</td>\n      <td>6</td>\n    </tr>\n    <tr>\n      <th>3</th>\n      <td>True</td>\n      <td>['hug', 'people']</td>\n      <td>hug people</td>\n      <td>0.56</td>\n      <td>0.06</td>\n      <td>0.06</td>\n      <td>0.06</td>\n      <td>0.06</td>\n      <td>0.06</td>\n      <td>0.06</td>\n      <td>0.06</td>\n      <td>0</td>\n    </tr>\n    <tr>\n      <th>4</th>\n      <td>True</td>\n      <td>['little', 'boy', 'like', 'see', 'wipeout', 't...</td>\n      <td>little boy like see wipeout tv always dream ta...</td>\n      <td>0.90</td>\n      <td>0.01</td>\n      <td>0.01</td>\n      <td>0.01</td>\n      <td>0.01</td>\n      <td>0.01</td>\n      <td>0.01</td>\n      <td>0.01</td>\n      <td>0</td>\n    </tr>\n    <tr>\n      <th>...</th>\n      <td>...</td>\n      <td>...</td>\n      <td>...</td>\n      <td>...</td>\n      <td>...</td>\n      <td>...</td>\n      <td>...</td>\n      <td>...</td>\n      <td>...</td>\n      <td>...</td>\n      <td>...</td>\n      <td>...</td>\n    </tr>\n    <tr>\n      <th>9763</th>\n      <td>True</td>\n      <td>['well', 'make', 'game', 'get', 'enough', 'man...</td>\n      <td>well make game get enough many way differentia...</td>\n      <td>0.31</td>\n      <td>0.21</td>\n      <td>0.01</td>\n      <td>0.01</td>\n      <td>0.01</td>\n      <td>0.20</td>\n      <td>0.13</td>\n      <td>0.11</td>\n      <td>0</td>\n    </tr>\n    <tr>\n      <th>9764</th>\n      <td>True</td>\n      <td>['fun', 'competitive', 'especially', 'friend',...</td>\n      <td>fun competitive especially friend recommend bu...</td>\n      <td>0.03</td>\n      <td>0.03</td>\n      <td>0.03</td>\n      <td>0.03</td>\n      <td>0.03</td>\n      <td>0.03</td>\n      <td>0.78</td>\n      <td>0.03</td>\n      <td>6</td>\n    </tr>\n    <tr>\n      <th>9765</th>\n      <td>True</td>\n      <td>['game', 'extremely', 'fun', 'nice', 'break', ...</td>\n      <td>game extremely fun nice break usual drop loot ...</td>\n      <td>0.37</td>\n      <td>0.04</td>\n      <td>0.04</td>\n      <td>0.04</td>\n      <td>0.04</td>\n      <td>0.37</td>\n      <td>0.04</td>\n      <td>0.04</td>\n      <td>0</td>\n    </tr>\n    <tr>\n      <th>9766</th>\n      <td>True</td>\n      <td>['fun', 'play', 'keep', 'work', 'game']</td>\n      <td>fun play keep work game</td>\n      <td>0.04</td>\n      <td>0.04</td>\n      <td>0.37</td>\n      <td>0.04</td>\n      <td>0.04</td>\n      <td>0.04</td>\n      <td>0.04</td>\n      <td>0.38</td>\n      <td>7</td>\n    </tr>\n    <tr>\n      <th>9767</th>\n      <td>True</td>\n      <td>['turn', 'around', 'read', 'previous', 'review...</td>\n      <td>turn around read previous review could recomme...</td>\n      <td>0.06</td>\n      <td>0.11</td>\n      <td>0.32</td>\n      <td>0.24</td>\n      <td>0.01</td>\n      <td>0.01</td>\n      <td>0.20</td>\n      <td>0.06</td>\n      <td>2</td>\n    </tr>\n  </tbody>\n</table>\n<p>9768 rows × 12 columns</p>\n</div>"
     },
     "metadata": {},
     "execution_count": 117
    }
   ],
   "source": [
    "df_sent_topic"
   ]
  },
  {
   "cell_type": "code",
   "execution_count": 118,
   "metadata": {},
   "outputs": [],
   "source": [
    "df_topic_theme = df_sent_topic[['clean_str', 'dominant_topic']]"
   ]
  },
  {
   "cell_type": "code",
   "execution_count": 119,
   "metadata": {},
   "outputs": [
    {
     "output_type": "execute_result",
     "data": {
      "text/plain": "                                           clean_str  dominant_topic\n0  fall guy chill fun game really need server imp...               1\n1  give little hug player stare back second jump ...               1\n2                                 reccomend much buy               6\n3                                         hug people               0\n4  little boy like see wipeout tv always dream ta...               0\n5                             nice br fun would fall               4\n6  funnychaotic madness player bounce collect pus...               1\n7  fun short burst tedious long stretch moment mi...               0\n8  see game potential good design game good multi...               6\n9  great game fun play need get rid cheater asap ...               5",
      "text/html": "<div>\n<style scoped>\n    .dataframe tbody tr th:only-of-type {\n        vertical-align: middle;\n    }\n\n    .dataframe tbody tr th {\n        vertical-align: top;\n    }\n\n    .dataframe thead th {\n        text-align: right;\n    }\n</style>\n<table border=\"1\" class=\"dataframe\">\n  <thead>\n    <tr style=\"text-align: right;\">\n      <th></th>\n      <th>clean_str</th>\n      <th>dominant_topic</th>\n    </tr>\n  </thead>\n  <tbody>\n    <tr>\n      <th>0</th>\n      <td>fall guy chill fun game really need server imp...</td>\n      <td>1</td>\n    </tr>\n    <tr>\n      <th>1</th>\n      <td>give little hug player stare back second jump ...</td>\n      <td>1</td>\n    </tr>\n    <tr>\n      <th>2</th>\n      <td>reccomend much buy</td>\n      <td>6</td>\n    </tr>\n    <tr>\n      <th>3</th>\n      <td>hug people</td>\n      <td>0</td>\n    </tr>\n    <tr>\n      <th>4</th>\n      <td>little boy like see wipeout tv always dream ta...</td>\n      <td>0</td>\n    </tr>\n    <tr>\n      <th>5</th>\n      <td>nice br fun would fall</td>\n      <td>4</td>\n    </tr>\n    <tr>\n      <th>6</th>\n      <td>funnychaotic madness player bounce collect pus...</td>\n      <td>1</td>\n    </tr>\n    <tr>\n      <th>7</th>\n      <td>fun short burst tedious long stretch moment mi...</td>\n      <td>0</td>\n    </tr>\n    <tr>\n      <th>8</th>\n      <td>see game potential good design game good multi...</td>\n      <td>6</td>\n    </tr>\n    <tr>\n      <th>9</th>\n      <td>great game fun play need get rid cheater asap ...</td>\n      <td>5</td>\n    </tr>\n  </tbody>\n</table>\n</div>"
     },
     "metadata": {},
     "execution_count": 119
    }
   ],
   "source": [
    "df_topic_theme.head(10)"
   ]
  },
  {
   "cell_type": "code",
   "execution_count": 120,
   "metadata": {},
   "outputs": [],
   "source": [
    "topic_remap = {0: 'fun to play with friends', 1: 'good game but need new content and server fix', 2: 'server issue on launch day', 3: 'a potentially good game but has server issue', 4: 'easy to play', 5: 'can be played with friends or alone', 6: 'recommend the game', 7: 'enjoying the team mode but get eliminated'}"
   ]
  },
  {
   "cell_type": "code",
   "execution_count": 121,
   "metadata": {},
   "outputs": [],
   "source": [
    "df_topic_theme['dominant_topic_theme'] = df_topic_theme['dominant_topic'].map(topic_remap)"
   ]
  },
  {
   "cell_type": "code",
   "execution_count": 122,
   "metadata": {},
   "outputs": [
    {
     "output_type": "execute_result",
     "data": {
      "text/plain": "                                              clean_str  dominant_topic  \\\n0     fall guy chill fun game really need server imp...               1   \n1     give little hug player stare back second jump ...               1   \n2                                    reccomend much buy               6   \n3                                            hug people               0   \n4     little boy like see wipeout tv always dream ta...               0   \n...                                                 ...             ...   \n9763  well make game get enough many way differentia...               0   \n9764  fun competitive especially friend recommend bu...               6   \n9765  game extremely fun nice break usual drop loot ...               0   \n9766                            fun play keep work game               7   \n9767  turn around read previous review could recomme...               2   \n\n                               dominant_topic_theme  \n0     good game but need new content and server fix  \n1     good game but need new content and server fix  \n2                                recommend the game  \n3                          fun to play with friends  \n4                          fun to play with friends  \n...                                             ...  \n9763                       fun to play with friends  \n9764                             recommend the game  \n9765                       fun to play with friends  \n9766      enjoying the team mode but get eliminated  \n9767                     server issue on launch day  \n\n[9768 rows x 3 columns]",
      "text/html": "<div>\n<style scoped>\n    .dataframe tbody tr th:only-of-type {\n        vertical-align: middle;\n    }\n\n    .dataframe tbody tr th {\n        vertical-align: top;\n    }\n\n    .dataframe thead th {\n        text-align: right;\n    }\n</style>\n<table border=\"1\" class=\"dataframe\">\n  <thead>\n    <tr style=\"text-align: right;\">\n      <th></th>\n      <th>clean_str</th>\n      <th>dominant_topic</th>\n      <th>dominant_topic_theme</th>\n    </tr>\n  </thead>\n  <tbody>\n    <tr>\n      <th>0</th>\n      <td>fall guy chill fun game really need server imp...</td>\n      <td>1</td>\n      <td>good game but need new content and server fix</td>\n    </tr>\n    <tr>\n      <th>1</th>\n      <td>give little hug player stare back second jump ...</td>\n      <td>1</td>\n      <td>good game but need new content and server fix</td>\n    </tr>\n    <tr>\n      <th>2</th>\n      <td>reccomend much buy</td>\n      <td>6</td>\n      <td>recommend the game</td>\n    </tr>\n    <tr>\n      <th>3</th>\n      <td>hug people</td>\n      <td>0</td>\n      <td>fun to play with friends</td>\n    </tr>\n    <tr>\n      <th>4</th>\n      <td>little boy like see wipeout tv always dream ta...</td>\n      <td>0</td>\n      <td>fun to play with friends</td>\n    </tr>\n    <tr>\n      <th>...</th>\n      <td>...</td>\n      <td>...</td>\n      <td>...</td>\n    </tr>\n    <tr>\n      <th>9763</th>\n      <td>well make game get enough many way differentia...</td>\n      <td>0</td>\n      <td>fun to play with friends</td>\n    </tr>\n    <tr>\n      <th>9764</th>\n      <td>fun competitive especially friend recommend bu...</td>\n      <td>6</td>\n      <td>recommend the game</td>\n    </tr>\n    <tr>\n      <th>9765</th>\n      <td>game extremely fun nice break usual drop loot ...</td>\n      <td>0</td>\n      <td>fun to play with friends</td>\n    </tr>\n    <tr>\n      <th>9766</th>\n      <td>fun play keep work game</td>\n      <td>7</td>\n      <td>enjoying the team mode but get eliminated</td>\n    </tr>\n    <tr>\n      <th>9767</th>\n      <td>turn around read previous review could recomme...</td>\n      <td>2</td>\n      <td>server issue on launch day</td>\n    </tr>\n  </tbody>\n</table>\n<p>9768 rows × 3 columns</p>\n</div>"
     },
     "metadata": {},
     "execution_count": 122
    }
   ],
   "source": [
    "df_topic_theme"
   ]
  },
  {
   "cell_type": "code",
   "execution_count": 123,
   "metadata": {},
   "outputs": [
    {
     "output_type": "execute_result",
     "data": {
      "text/plain": "fun to play with friends                         4232\nserver issue on launch day                       1106\ncan be played with friends or alone               872\nrecommend the game                                773\nenjoying the team mode but get eliminated         747\ngood game but need new content and server fix     744\na potentially good game but has server issue      699\neasy to play                                      595\nName: dominant_topic_theme, dtype: int64"
     },
     "metadata": {},
     "execution_count": 123
    }
   ],
   "source": [
    "df_topic_theme['dominant_topic_theme'].value_counts()"
   ]
  },
  {
   "cell_type": "code",
   "execution_count": 124,
   "metadata": {},
   "outputs": [],
   "source": [
    "df_result = df_topic_theme['dominant_topic_theme'].value_counts().rename_axis('topic').reset_index(name='counts')"
   ]
  },
  {
   "cell_type": "code",
   "execution_count": 125,
   "metadata": {},
   "outputs": [
    {
     "output_type": "execute_result",
     "data": {
      "text/plain": "                                           topic  counts\n0                       fun to play with friends    4232\n1                     server issue on launch day    1106\n2            can be played with friends or alone     872\n3                             recommend the game     773\n4      enjoying the team mode but get eliminated     747\n5  good game but need new content and server fix     744\n6   a potentially good game but has server issue     699\n7                                   easy to play     595",
      "text/html": "<div>\n<style scoped>\n    .dataframe tbody tr th:only-of-type {\n        vertical-align: middle;\n    }\n\n    .dataframe tbody tr th {\n        vertical-align: top;\n    }\n\n    .dataframe thead th {\n        text-align: right;\n    }\n</style>\n<table border=\"1\" class=\"dataframe\">\n  <thead>\n    <tr style=\"text-align: right;\">\n      <th></th>\n      <th>topic</th>\n      <th>counts</th>\n    </tr>\n  </thead>\n  <tbody>\n    <tr>\n      <th>0</th>\n      <td>fun to play with friends</td>\n      <td>4232</td>\n    </tr>\n    <tr>\n      <th>1</th>\n      <td>server issue on launch day</td>\n      <td>1106</td>\n    </tr>\n    <tr>\n      <th>2</th>\n      <td>can be played with friends or alone</td>\n      <td>872</td>\n    </tr>\n    <tr>\n      <th>3</th>\n      <td>recommend the game</td>\n      <td>773</td>\n    </tr>\n    <tr>\n      <th>4</th>\n      <td>enjoying the team mode but get eliminated</td>\n      <td>747</td>\n    </tr>\n    <tr>\n      <th>5</th>\n      <td>good game but need new content and server fix</td>\n      <td>744</td>\n    </tr>\n    <tr>\n      <th>6</th>\n      <td>a potentially good game but has server issue</td>\n      <td>699</td>\n    </tr>\n    <tr>\n      <th>7</th>\n      <td>easy to play</td>\n      <td>595</td>\n    </tr>\n  </tbody>\n</table>\n</div>"
     },
     "metadata": {},
     "execution_count": 125
    }
   ],
   "source": [
    "df_result"
   ]
  },
  {
   "cell_type": "code",
   "execution_count": 126,
   "metadata": {},
   "outputs": [
    {
     "output_type": "display_data",
     "data": {
      "application/vnd.plotly.v1+json": {
       "config": {
        "plotlyServerURL": "https://plot.ly"
       },
       "data": [
        {
         "type": "bar",
         "x": [
          "fun to play with friends",
          "server issue on launch day",
          "can be played with friends or alone",
          "recommend the game",
          "enjoying the team mode but get eliminated",
          "good game but need new content and server fix",
          "a potentially good game but has server issue",
          "easy to play"
         ],
         "y": [
          4232,
          1106,
          872,
          773,
          747,
          744,
          699,
          595
         ]
        }
       ],
       "layout": {
        "template": {
         "data": {
          "bar": [
           {
            "error_x": {
             "color": "#2a3f5f"
            },
            "error_y": {
             "color": "#2a3f5f"
            },
            "marker": {
             "line": {
              "color": "#E5ECF6",
              "width": 0.5
             }
            },
            "type": "bar"
           }
          ],
          "barpolar": [
           {
            "marker": {
             "line": {
              "color": "#E5ECF6",
              "width": 0.5
             }
            },
            "type": "barpolar"
           }
          ],
          "carpet": [
           {
            "aaxis": {
             "endlinecolor": "#2a3f5f",
             "gridcolor": "white",
             "linecolor": "white",
             "minorgridcolor": "white",
             "startlinecolor": "#2a3f5f"
            },
            "baxis": {
             "endlinecolor": "#2a3f5f",
             "gridcolor": "white",
             "linecolor": "white",
             "minorgridcolor": "white",
             "startlinecolor": "#2a3f5f"
            },
            "type": "carpet"
           }
          ],
          "choropleth": [
           {
            "colorbar": {
             "outlinewidth": 0,
             "ticks": ""
            },
            "type": "choropleth"
           }
          ],
          "contour": [
           {
            "colorbar": {
             "outlinewidth": 0,
             "ticks": ""
            },
            "colorscale": [
             [
              0,
              "#0d0887"
             ],
             [
              0.1111111111111111,
              "#46039f"
             ],
             [
              0.2222222222222222,
              "#7201a8"
             ],
             [
              0.3333333333333333,
              "#9c179e"
             ],
             [
              0.4444444444444444,
              "#bd3786"
             ],
             [
              0.5555555555555556,
              "#d8576b"
             ],
             [
              0.6666666666666666,
              "#ed7953"
             ],
             [
              0.7777777777777778,
              "#fb9f3a"
             ],
             [
              0.8888888888888888,
              "#fdca26"
             ],
             [
              1,
              "#f0f921"
             ]
            ],
            "type": "contour"
           }
          ],
          "contourcarpet": [
           {
            "colorbar": {
             "outlinewidth": 0,
             "ticks": ""
            },
            "type": "contourcarpet"
           }
          ],
          "heatmap": [
           {
            "colorbar": {
             "outlinewidth": 0,
             "ticks": ""
            },
            "colorscale": [
             [
              0,
              "#0d0887"
             ],
             [
              0.1111111111111111,
              "#46039f"
             ],
             [
              0.2222222222222222,
              "#7201a8"
             ],
             [
              0.3333333333333333,
              "#9c179e"
             ],
             [
              0.4444444444444444,
              "#bd3786"
             ],
             [
              0.5555555555555556,
              "#d8576b"
             ],
             [
              0.6666666666666666,
              "#ed7953"
             ],
             [
              0.7777777777777778,
              "#fb9f3a"
             ],
             [
              0.8888888888888888,
              "#fdca26"
             ],
             [
              1,
              "#f0f921"
             ]
            ],
            "type": "heatmap"
           }
          ],
          "heatmapgl": [
           {
            "colorbar": {
             "outlinewidth": 0,
             "ticks": ""
            },
            "colorscale": [
             [
              0,
              "#0d0887"
             ],
             [
              0.1111111111111111,
              "#46039f"
             ],
             [
              0.2222222222222222,
              "#7201a8"
             ],
             [
              0.3333333333333333,
              "#9c179e"
             ],
             [
              0.4444444444444444,
              "#bd3786"
             ],
             [
              0.5555555555555556,
              "#d8576b"
             ],
             [
              0.6666666666666666,
              "#ed7953"
             ],
             [
              0.7777777777777778,
              "#fb9f3a"
             ],
             [
              0.8888888888888888,
              "#fdca26"
             ],
             [
              1,
              "#f0f921"
             ]
            ],
            "type": "heatmapgl"
           }
          ],
          "histogram": [
           {
            "marker": {
             "colorbar": {
              "outlinewidth": 0,
              "ticks": ""
             }
            },
            "type": "histogram"
           }
          ],
          "histogram2d": [
           {
            "colorbar": {
             "outlinewidth": 0,
             "ticks": ""
            },
            "colorscale": [
             [
              0,
              "#0d0887"
             ],
             [
              0.1111111111111111,
              "#46039f"
             ],
             [
              0.2222222222222222,
              "#7201a8"
             ],
             [
              0.3333333333333333,
              "#9c179e"
             ],
             [
              0.4444444444444444,
              "#bd3786"
             ],
             [
              0.5555555555555556,
              "#d8576b"
             ],
             [
              0.6666666666666666,
              "#ed7953"
             ],
             [
              0.7777777777777778,
              "#fb9f3a"
             ],
             [
              0.8888888888888888,
              "#fdca26"
             ],
             [
              1,
              "#f0f921"
             ]
            ],
            "type": "histogram2d"
           }
          ],
          "histogram2dcontour": [
           {
            "colorbar": {
             "outlinewidth": 0,
             "ticks": ""
            },
            "colorscale": [
             [
              0,
              "#0d0887"
             ],
             [
              0.1111111111111111,
              "#46039f"
             ],
             [
              0.2222222222222222,
              "#7201a8"
             ],
             [
              0.3333333333333333,
              "#9c179e"
             ],
             [
              0.4444444444444444,
              "#bd3786"
             ],
             [
              0.5555555555555556,
              "#d8576b"
             ],
             [
              0.6666666666666666,
              "#ed7953"
             ],
             [
              0.7777777777777778,
              "#fb9f3a"
             ],
             [
              0.8888888888888888,
              "#fdca26"
             ],
             [
              1,
              "#f0f921"
             ]
            ],
            "type": "histogram2dcontour"
           }
          ],
          "mesh3d": [
           {
            "colorbar": {
             "outlinewidth": 0,
             "ticks": ""
            },
            "type": "mesh3d"
           }
          ],
          "parcoords": [
           {
            "line": {
             "colorbar": {
              "outlinewidth": 0,
              "ticks": ""
             }
            },
            "type": "parcoords"
           }
          ],
          "scatter": [
           {
            "marker": {
             "colorbar": {
              "outlinewidth": 0,
              "ticks": ""
             }
            },
            "type": "scatter"
           }
          ],
          "scatter3d": [
           {
            "line": {
             "colorbar": {
              "outlinewidth": 0,
              "ticks": ""
             }
            },
            "marker": {
             "colorbar": {
              "outlinewidth": 0,
              "ticks": ""
             }
            },
            "type": "scatter3d"
           }
          ],
          "scattercarpet": [
           {
            "marker": {
             "colorbar": {
              "outlinewidth": 0,
              "ticks": ""
             }
            },
            "type": "scattercarpet"
           }
          ],
          "scattergeo": [
           {
            "marker": {
             "colorbar": {
              "outlinewidth": 0,
              "ticks": ""
             }
            },
            "type": "scattergeo"
           }
          ],
          "scattergl": [
           {
            "marker": {
             "colorbar": {
              "outlinewidth": 0,
              "ticks": ""
             }
            },
            "type": "scattergl"
           }
          ],
          "scattermapbox": [
           {
            "marker": {
             "colorbar": {
              "outlinewidth": 0,
              "ticks": ""
             }
            },
            "type": "scattermapbox"
           }
          ],
          "scatterpolar": [
           {
            "marker": {
             "colorbar": {
              "outlinewidth": 0,
              "ticks": ""
             }
            },
            "type": "scatterpolar"
           }
          ],
          "scatterpolargl": [
           {
            "marker": {
             "colorbar": {
              "outlinewidth": 0,
              "ticks": ""
             }
            },
            "type": "scatterpolargl"
           }
          ],
          "scatterternary": [
           {
            "marker": {
             "colorbar": {
              "outlinewidth": 0,
              "ticks": ""
             }
            },
            "type": "scatterternary"
           }
          ],
          "surface": [
           {
            "colorbar": {
             "outlinewidth": 0,
             "ticks": ""
            },
            "colorscale": [
             [
              0,
              "#0d0887"
             ],
             [
              0.1111111111111111,
              "#46039f"
             ],
             [
              0.2222222222222222,
              "#7201a8"
             ],
             [
              0.3333333333333333,
              "#9c179e"
             ],
             [
              0.4444444444444444,
              "#bd3786"
             ],
             [
              0.5555555555555556,
              "#d8576b"
             ],
             [
              0.6666666666666666,
              "#ed7953"
             ],
             [
              0.7777777777777778,
              "#fb9f3a"
             ],
             [
              0.8888888888888888,
              "#fdca26"
             ],
             [
              1,
              "#f0f921"
             ]
            ],
            "type": "surface"
           }
          ],
          "table": [
           {
            "cells": {
             "fill": {
              "color": "#EBF0F8"
             },
             "line": {
              "color": "white"
             }
            },
            "header": {
             "fill": {
              "color": "#C8D4E3"
             },
             "line": {
              "color": "white"
             }
            },
            "type": "table"
           }
          ]
         },
         "layout": {
          "annotationdefaults": {
           "arrowcolor": "#2a3f5f",
           "arrowhead": 0,
           "arrowwidth": 1
          },
          "colorscale": {
           "diverging": [
            [
             0,
             "#8e0152"
            ],
            [
             0.1,
             "#c51b7d"
            ],
            [
             0.2,
             "#de77ae"
            ],
            [
             0.3,
             "#f1b6da"
            ],
            [
             0.4,
             "#fde0ef"
            ],
            [
             0.5,
             "#f7f7f7"
            ],
            [
             0.6,
             "#e6f5d0"
            ],
            [
             0.7,
             "#b8e186"
            ],
            [
             0.8,
             "#7fbc41"
            ],
            [
             0.9,
             "#4d9221"
            ],
            [
             1,
             "#276419"
            ]
           ],
           "sequential": [
            [
             0,
             "#0d0887"
            ],
            [
             0.1111111111111111,
             "#46039f"
            ],
            [
             0.2222222222222222,
             "#7201a8"
            ],
            [
             0.3333333333333333,
             "#9c179e"
            ],
            [
             0.4444444444444444,
             "#bd3786"
            ],
            [
             0.5555555555555556,
             "#d8576b"
            ],
            [
             0.6666666666666666,
             "#ed7953"
            ],
            [
             0.7777777777777778,
             "#fb9f3a"
            ],
            [
             0.8888888888888888,
             "#fdca26"
            ],
            [
             1,
             "#f0f921"
            ]
           ],
           "sequentialminus": [
            [
             0,
             "#0d0887"
            ],
            [
             0.1111111111111111,
             "#46039f"
            ],
            [
             0.2222222222222222,
             "#7201a8"
            ],
            [
             0.3333333333333333,
             "#9c179e"
            ],
            [
             0.4444444444444444,
             "#bd3786"
            ],
            [
             0.5555555555555556,
             "#d8576b"
            ],
            [
             0.6666666666666666,
             "#ed7953"
            ],
            [
             0.7777777777777778,
             "#fb9f3a"
            ],
            [
             0.8888888888888888,
             "#fdca26"
            ],
            [
             1,
             "#f0f921"
            ]
           ]
          },
          "colorway": [
           "#636efa",
           "#EF553B",
           "#00cc96",
           "#ab63fa",
           "#FFA15A",
           "#19d3f3",
           "#FF6692",
           "#B6E880",
           "#FF97FF",
           "#FECB52"
          ],
          "font": {
           "color": "#2a3f5f"
          },
          "geo": {
           "bgcolor": "white",
           "lakecolor": "white",
           "landcolor": "#E5ECF6",
           "showlakes": true,
           "showland": true,
           "subunitcolor": "white"
          },
          "hoverlabel": {
           "align": "left"
          },
          "hovermode": "closest",
          "mapbox": {
           "style": "light"
          },
          "paper_bgcolor": "white",
          "plot_bgcolor": "#E5ECF6",
          "polar": {
           "angularaxis": {
            "gridcolor": "white",
            "linecolor": "white",
            "ticks": ""
           },
           "bgcolor": "#E5ECF6",
           "radialaxis": {
            "gridcolor": "white",
            "linecolor": "white",
            "ticks": ""
           }
          },
          "scene": {
           "xaxis": {
            "backgroundcolor": "#E5ECF6",
            "gridcolor": "white",
            "gridwidth": 2,
            "linecolor": "white",
            "showbackground": true,
            "ticks": "",
            "zerolinecolor": "white"
           },
           "yaxis": {
            "backgroundcolor": "#E5ECF6",
            "gridcolor": "white",
            "gridwidth": 2,
            "linecolor": "white",
            "showbackground": true,
            "ticks": "",
            "zerolinecolor": "white"
           },
           "zaxis": {
            "backgroundcolor": "#E5ECF6",
            "gridcolor": "white",
            "gridwidth": 2,
            "linecolor": "white",
            "showbackground": true,
            "ticks": "",
            "zerolinecolor": "white"
           }
          },
          "shapedefaults": {
           "line": {
            "color": "#2a3f5f"
           }
          },
          "ternary": {
           "aaxis": {
            "gridcolor": "white",
            "linecolor": "white",
            "ticks": ""
           },
           "baxis": {
            "gridcolor": "white",
            "linecolor": "white",
            "ticks": ""
           },
           "bgcolor": "#E5ECF6",
           "caxis": {
            "gridcolor": "white",
            "linecolor": "white",
            "ticks": ""
           }
          },
          "title": {
           "x": 0.05
          },
          "xaxis": {
           "automargin": true,
           "gridcolor": "white",
           "linecolor": "white",
           "ticks": "",
           "zerolinecolor": "white",
           "zerolinewidth": 2
          },
          "yaxis": {
           "automargin": true,
           "gridcolor": "white",
           "linecolor": "white",
           "ticks": "",
           "zerolinecolor": "white",
           "zerolinewidth": 2
          }
         }
        },
        "title": {
         "text": "Topics in Recommended Reviews"
        }
       }
      }
     },
     "metadata": {}
    }
   ],
   "source": [
    "fig = go.Figure([go.Bar(x=df_result['topic'], y=df_result['counts'])])\n",
    "fig.update_layout(title=go.layout.Title(text=\"Topics in Recommended Reviews\"))\n",
    "fig.show()"
   ]
  },
  {
   "cell_type": "code",
   "execution_count": null,
   "metadata": {},
   "outputs": [],
   "source": []
  }
 ]
}
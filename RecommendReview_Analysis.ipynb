{
 "metadata": {
  "language_info": {
   "codemirror_mode": {
    "name": "ipython",
    "version": 3
   },
   "file_extension": ".py",
   "mimetype": "text/x-python",
   "name": "python",
   "nbconvert_exporter": "python",
   "pygments_lexer": "ipython3",
   "version": "3.7.6-final"
  },
  "orig_nbformat": 2,
  "kernelspec": {
   "name": "Python 3.7.6 64-bit ('base': conda)",
   "display_name": "Python 3.7.6 64-bit ('base': conda)",
   "metadata": {
    "interpreter": {
     "hash": "8d1b0e05aaf8072557c9e1caf7c5d9e816c75ebd330c6b717cdfc1f2094defc9"
    }
   }
  }
 },
 "nbformat": 4,
 "nbformat_minor": 2,
 "cells": [
  {
   "cell_type": "code",
   "execution_count": 1,
   "metadata": {},
   "outputs": [],
   "source": [
    "import pandas as pd\n",
    "import numpy as np\n",
    "import gensim\n",
    "from nltk.corpus import stopwords, wordnet\n",
    "from nltk.tokenize import word_tokenize\n",
    "import wordcloud\n",
    "import matplotlib.pyplot as plt\n",
    "import seaborn as sns\n",
    "import plotly.graph_objects as go\n",
    "\n",
    "from sklearn.decomposition import LatentDirichletAllocation\n",
    "from sklearn.feature_extraction.text import CountVectorizer, TfidfVectorizer"
   ]
  },
  {
   "cell_type": "code",
   "execution_count": 2,
   "metadata": {},
   "outputs": [
    {
     "output_type": "execute_result",
     "data": {
      "text/plain": "       voted_up                                        clean_token  \\\n0          True  [&#39;fall&#39;, &#39;guy&#39;, &#39;chill&#39;, &#39;fun&#39;, &#39;game&#39;, &#39;reall...   \n1          True  [&#39;give&#39;, &#39;little&#39;, &#39;hug&#39;, &#39;player&#39;, &#39;stare&#39;, &#39;...   \n2          True                       [&#39;reccomend&#39;, &#39;much&#39;, &#39;buy&#39;]   \n3          True                                  [&#39;hug&#39;, &#39;people&#39;]   \n4          True  [&#39;little&#39;, &#39;boy&#39;, &#39;like&#39;, &#39;see&#39;, &#39;wipeout&#39;, &#39;t...   \n...         ...                                                ...   \n13201      True  [&#39;well&#39;, &#39;make&#39;, &#39;game&#39;, &#39;get&#39;, &#39;enough&#39;, &#39;man...   \n13202      True  [&#39;fun&#39;, &#39;competitive&#39;, &#39;especially&#39;, &#39;friend&#39;,...   \n13203      True  [&#39;game&#39;, &#39;extremely&#39;, &#39;fun&#39;, &#39;nice&#39;, &#39;break&#39;, ...   \n13204      True            [&#39;fun&#39;, &#39;play&#39;, &#39;keep&#39;, &#39;work&#39;, &#39;game&#39;]   \n13205      True  [&#39;turn&#39;, &#39;around&#39;, &#39;read&#39;, &#39;previous&#39;, &#39;review...   \n\n                                               clean_str  \n0      fall guy chill fun game really need server imp...  \n1      give little hug player stare back second jump ...  \n2                                     reccomend much buy  \n3                                             hug people  \n4      little boy like see wipeout tv always dream ta...  \n...                                                  ...  \n13201  well make game get enough many way differentia...  \n13202  fun competitive especially friend recommend bu...  \n13203  game extremely fun nice break usual drop loot ...  \n13204                            fun play keep work game  \n13205  turn around read previous review could recomme...  \n\n[13206 rows x 3 columns]",
      "text/html": "<div>\n<style scoped>\n    .dataframe tbody tr th:only-of-type {\n        vertical-align: middle;\n    }\n\n    .dataframe tbody tr th {\n        vertical-align: top;\n    }\n\n    .dataframe thead th {\n        text-align: right;\n    }\n</style>\n<table border=\"1\" class=\"dataframe\">\n  <thead>\n    <tr style=\"text-align: right;\">\n      <th></th>\n      <th>voted_up</th>\n      <th>clean_token</th>\n      <th>clean_str</th>\n    </tr>\n  </thead>\n  <tbody>\n    <tr>\n      <th>0</th>\n      <td>True</td>\n      <td>['fall', 'guy', 'chill', 'fun', 'game', 'reall...</td>\n      <td>fall guy chill fun game really need server imp...</td>\n    </tr>\n    <tr>\n      <th>1</th>\n      <td>True</td>\n      <td>['give', 'little', 'hug', 'player', 'stare', '...</td>\n      <td>give little hug player stare back second jump ...</td>\n    </tr>\n    <tr>\n      <th>2</th>\n      <td>True</td>\n      <td>['reccomend', 'much', 'buy']</td>\n      <td>reccomend much buy</td>\n    </tr>\n    <tr>\n      <th>3</th>\n      <td>True</td>\n      <td>['hug', 'people']</td>\n      <td>hug people</td>\n    </tr>\n    <tr>\n      <th>4</th>\n      <td>True</td>\n      <td>['little', 'boy', 'like', 'see', 'wipeout', 't...</td>\n      <td>little boy like see wipeout tv always dream ta...</td>\n    </tr>\n    <tr>\n      <th>...</th>\n      <td>...</td>\n      <td>...</td>\n      <td>...</td>\n    </tr>\n    <tr>\n      <th>13201</th>\n      <td>True</td>\n      <td>['well', 'make', 'game', 'get', 'enough', 'man...</td>\n      <td>well make game get enough many way differentia...</td>\n    </tr>\n    <tr>\n      <th>13202</th>\n      <td>True</td>\n      <td>['fun', 'competitive', 'especially', 'friend',...</td>\n      <td>fun competitive especially friend recommend bu...</td>\n    </tr>\n    <tr>\n      <th>13203</th>\n      <td>True</td>\n      <td>['game', 'extremely', 'fun', 'nice', 'break', ...</td>\n      <td>game extremely fun nice break usual drop loot ...</td>\n    </tr>\n    <tr>\n      <th>13204</th>\n      <td>True</td>\n      <td>['fun', 'play', 'keep', 'work', 'game']</td>\n      <td>fun play keep work game</td>\n    </tr>\n    <tr>\n      <th>13205</th>\n      <td>True</td>\n      <td>['turn', 'around', 'read', 'previous', 'review...</td>\n      <td>turn around read previous review could recomme...</td>\n    </tr>\n  </tbody>\n</table>\n<p>13206 rows × 3 columns</p>\n</div>"
     },
     "metadata": {},
     "execution_count": 2
    }
   ],
   "source": [
    "df = pd.read_csv('.../clean_text.csv')\n",
    "df"
   ]
  },
  {
   "cell_type": "code",
   "execution_count": 3,
   "metadata": {},
   "outputs": [],
   "source": [
    "df_yes = df[df['voted_up'] == True]"
   ]
  },
  {
   "cell_type": "code",
   "execution_count": 4,
   "metadata": {},
   "outputs": [],
   "source": [
    "df_yes.reset_index(inplace = True, drop = True)"
   ]
  },
  {
   "cell_type": "code",
   "execution_count": 5,
   "metadata": {},
   "outputs": [
    {
     "output_type": "execute_result",
     "data": {
      "text/plain": "      voted_up                                        clean_token  \\\n0         True  [&#39;fall&#39;, &#39;guy&#39;, &#39;chill&#39;, &#39;fun&#39;, &#39;game&#39;, &#39;reall...   \n1         True  [&#39;give&#39;, &#39;little&#39;, &#39;hug&#39;, &#39;player&#39;, &#39;stare&#39;, &#39;...   \n2         True                       [&#39;reccomend&#39;, &#39;much&#39;, &#39;buy&#39;]   \n3         True                                  [&#39;hug&#39;, &#39;people&#39;]   \n4         True  [&#39;little&#39;, &#39;boy&#39;, &#39;like&#39;, &#39;see&#39;, &#39;wipeout&#39;, &#39;t...   \n...        ...                                                ...   \n9779      True  [&#39;well&#39;, &#39;make&#39;, &#39;game&#39;, &#39;get&#39;, &#39;enough&#39;, &#39;man...   \n9780      True  [&#39;fun&#39;, &#39;competitive&#39;, &#39;especially&#39;, &#39;friend&#39;,...   \n9781      True  [&#39;game&#39;, &#39;extremely&#39;, &#39;fun&#39;, &#39;nice&#39;, &#39;break&#39;, ...   \n9782      True            [&#39;fun&#39;, &#39;play&#39;, &#39;keep&#39;, &#39;work&#39;, &#39;game&#39;]   \n9783      True  [&#39;turn&#39;, &#39;around&#39;, &#39;read&#39;, &#39;previous&#39;, &#39;review...   \n\n                                              clean_str  \n0     fall guy chill fun game really need server imp...  \n1     give little hug player stare back second jump ...  \n2                                    reccomend much buy  \n3                                            hug people  \n4     little boy like see wipeout tv always dream ta...  \n...                                                 ...  \n9779  well make game get enough many way differentia...  \n9780  fun competitive especially friend recommend bu...  \n9781  game extremely fun nice break usual drop loot ...  \n9782                            fun play keep work game  \n9783  turn around read previous review could recomme...  \n\n[9784 rows x 3 columns]",
      "text/html": "<div>\n<style scoped>\n    .dataframe tbody tr th:only-of-type {\n        vertical-align: middle;\n    }\n\n    .dataframe tbody tr th {\n        vertical-align: top;\n    }\n\n    .dataframe thead th {\n        text-align: right;\n    }\n</style>\n<table border=\"1\" class=\"dataframe\">\n  <thead>\n    <tr style=\"text-align: right;\">\n      <th></th>\n      <th>voted_up</th>\n      <th>clean_token</th>\n      <th>clean_str</th>\n    </tr>\n  </thead>\n  <tbody>\n    <tr>\n      <th>0</th>\n      <td>True</td>\n      <td>['fall', 'guy', 'chill', 'fun', 'game', 'reall...</td>\n      <td>fall guy chill fun game really need server imp...</td>\n    </tr>\n    <tr>\n      <th>1</th>\n      <td>True</td>\n      <td>['give', 'little', 'hug', 'player', 'stare', '...</td>\n      <td>give little hug player stare back second jump ...</td>\n    </tr>\n    <tr>\n      <th>2</th>\n      <td>True</td>\n      <td>['reccomend', 'much', 'buy']</td>\n      <td>reccomend much buy</td>\n    </tr>\n    <tr>\n      <th>3</th>\n      <td>True</td>\n      <td>['hug', 'people']</td>\n      <td>hug people</td>\n    </tr>\n    <tr>\n      <th>4</th>\n      <td>True</td>\n      <td>['little', 'boy', 'like', 'see', 'wipeout', 't...</td>\n      <td>little boy like see wipeout tv always dream ta...</td>\n    </tr>\n    <tr>\n      <th>...</th>\n      <td>...</td>\n      <td>...</td>\n      <td>...</td>\n    </tr>\n    <tr>\n      <th>9779</th>\n      <td>True</td>\n      <td>['well', 'make', 'game', 'get', 'enough', 'man...</td>\n      <td>well make game get enough many way differentia...</td>\n    </tr>\n    <tr>\n      <th>9780</th>\n      <td>True</td>\n      <td>['fun', 'competitive', 'especially', 'friend',...</td>\n      <td>fun competitive especially friend recommend bu...</td>\n    </tr>\n    <tr>\n      <th>9781</th>\n      <td>True</td>\n      <td>['game', 'extremely', 'fun', 'nice', 'break', ...</td>\n      <td>game extremely fun nice break usual drop loot ...</td>\n    </tr>\n    <tr>\n      <th>9782</th>\n      <td>True</td>\n      <td>['fun', 'play', 'keep', 'work', 'game']</td>\n      <td>fun play keep work game</td>\n    </tr>\n    <tr>\n      <th>9783</th>\n      <td>True</td>\n      <td>['turn', 'around', 'read', 'previous', 'review...</td>\n      <td>turn around read previous review could recomme...</td>\n    </tr>\n  </tbody>\n</table>\n<p>9784 rows × 3 columns</p>\n</div>"
     },
     "metadata": {},
     "execution_count": 5
    }
   ],
   "source": [
    "df_yes"
   ]
  },
  {
   "cell_type": "code",
   "execution_count": 104,
   "metadata": {
    "tags": []
   },
   "outputs": [
    {
     "output_type": "stream",
     "name": "stdout",
     "text": "&lt;class &#39;pandas.core.frame.DataFrame&#39;&gt;\nRangeIndex: 9784 entries, 0 to 9783\nData columns (total 3 columns):\n #   Column       Non-Null Count  Dtype \n---  ------       --------------  ----- \n 0   voted_up     9784 non-null   bool  \n 1   clean_token  9784 non-null   object\n 2   clean_str    9784 non-null   object\ndtypes: bool(1), object(2)\nmemory usage: 162.6+ KB\n"
    }
   ],
   "source": [
    "df_yes.info()"
   ]
  },
  {
   "cell_type": "code",
   "execution_count": 6,
   "metadata": {},
   "outputs": [],
   "source": [
    "df_yes.clean_str=df_yes.clean_str.astype(str)"
   ]
  },
  {
   "cell_type": "code",
   "execution_count": 109,
   "metadata": {},
   "outputs": [],
   "source": [
    "vectorizer = CountVectorizer(analyzer='word',  \n",
    "                             min_df=3,   \n",
    "                             stop_words=['game', 'fun', 'good'],\n",
    "                             ngram_range=(2,2),                           \n",
    "                             lowercase=True,                  \n",
    "                             token_pattern='[a-zA-Z0-9]{3,}', \n",
    "                             max_features=5000,           \n",
    "                            )\n",
    "\n",
    "data_vectorized = vectorizer.fit_transform(df_yes['clean_str'])\n",
    "\n",
    "lda_model = LatentDirichletAllocation(n_components= 6, \n",
    "                                      learning_method='online',\n",
    "                                      random_state= 0,       \n",
    "                                      n_jobs = -1 \n",
    "                                     )\n",
    "lda_output = lda_model.fit_transform(data_vectorized)"
   ]
  },
  {
   "cell_type": "code",
   "execution_count": 110,
   "metadata": {},
   "outputs": [
    {
     "output_type": "execute_result",
     "data": {
      "text/plain": "                Word 0           Word 1         Word 2            Word 3  \\\nTopic 0   server issue  negative review     launch day       yellow team   \nTopic 1    play friend  would recommend       fall guy     battle royale   \nTopic 2  battle royale  takeshis castle    mario party        jelly bean   \nTopic 3        big big        feel like       tail tag       final round   \nTopic 4       fall guy        long time  battle royale       battle pass   \nTopic 5    play friend          run run       guy fall  highly recommend   \n\n                   Word 4       Word 5            Word 6       Word 7  \nTopic 0  recommend anyone  review bomb         want play     wait see  \nTopic 1      battle royal   great play     get eliminate    even well  \nTopic 2       friend play    feel like   obstacle course    get knock  \nTopic 3     fall mountain    fall ball       slime climb  many people  \nTopic 4           get win      new map         play long    play hour  \nTopic 5      server issue    ever play  definitely worth  really play  ",
      "text/html": "<div>\n<style scoped>\n    .dataframe tbody tr th:only-of-type {\n        vertical-align: middle;\n    }\n\n    .dataframe tbody tr th {\n        vertical-align: top;\n    }\n\n    .dataframe thead th {\n        text-align: right;\n    }\n</style>\n<table border=\"1\" class=\"dataframe\">\n  <thead>\n    <tr style=\"text-align: right;\">\n      <th></th>\n      <th>Word 0</th>\n      <th>Word 1</th>\n      <th>Word 2</th>\n      <th>Word 3</th>\n      <th>Word 4</th>\n      <th>Word 5</th>\n      <th>Word 6</th>\n      <th>Word 7</th>\n    </tr>\n  </thead>\n  <tbody>\n    <tr>\n      <th>Topic 0</th>\n      <td>server issue</td>\n      <td>negative review</td>\n      <td>launch day</td>\n      <td>yellow team</td>\n      <td>recommend anyone</td>\n      <td>review bomb</td>\n      <td>want play</td>\n      <td>wait see</td>\n    </tr>\n    <tr>\n      <th>Topic 1</th>\n      <td>play friend</td>\n      <td>would recommend</td>\n      <td>fall guy</td>\n      <td>battle royale</td>\n      <td>battle royal</td>\n      <td>great play</td>\n      <td>get eliminate</td>\n      <td>even well</td>\n    </tr>\n    <tr>\n      <th>Topic 2</th>\n      <td>battle royale</td>\n      <td>takeshis castle</td>\n      <td>mario party</td>\n      <td>jelly bean</td>\n      <td>friend play</td>\n      <td>feel like</td>\n      <td>obstacle course</td>\n      <td>get knock</td>\n    </tr>\n    <tr>\n      <th>Topic 3</th>\n      <td>big big</td>\n      <td>feel like</td>\n      <td>tail tag</td>\n      <td>final round</td>\n      <td>fall mountain</td>\n      <td>fall ball</td>\n      <td>slime climb</td>\n      <td>many people</td>\n    </tr>\n    <tr>\n      <th>Topic 4</th>\n      <td>fall guy</td>\n      <td>long time</td>\n      <td>battle royale</td>\n      <td>battle pass</td>\n      <td>get win</td>\n      <td>new map</td>\n      <td>play long</td>\n      <td>play hour</td>\n    </tr>\n    <tr>\n      <th>Topic 5</th>\n      <td>play friend</td>\n      <td>run run</td>\n      <td>guy fall</td>\n      <td>highly recommend</td>\n      <td>server issue</td>\n      <td>ever play</td>\n      <td>definitely worth</td>\n      <td>really play</td>\n    </tr>\n  </tbody>\n</table>\n</div>"
     },
     "metadata": {},
     "execution_count": 110
    }
   ],
   "source": [
    "def show_topics(vectorizer=vectorizer, lda_model=lda_model, n_words=8):\n",
    "    keywords = np.array(vectorizer.get_feature_names())\n",
    "    topic_keywords = []\n",
    "    for topic_weights in lda_model.components_:\n",
    "        top_keyword_locs = (-topic_weights).argsort()[:n_words]\n",
    "        topic_keywords.append(keywords.take(top_keyword_locs))\n",
    "    return topic_keywords\n",
    "\n",
    "topic_keywords = show_topics(vectorizer=vectorizer, lda_model=lda_model, n_words=8)        \n",
    "\n",
    "# Topic - Keywords Dataframe\n",
    "df_topic_keywords = pd.DataFrame(topic_keywords)\n",
    "df_topic_keywords.columns = ['Word '+str(i) for i in range(df_topic_keywords.shape[1])]\n",
    "df_topic_keywords.index = ['Topic '+str(i) for i in range(df_topic_keywords.shape[0])]\n",
    "df_topic_keywords"
   ]
  },
  {
   "cell_type": "code",
   "execution_count": 122,
   "metadata": {},
   "outputs": [],
   "source": [
    "Topics_theme = ['server issue on launch day', 'recommend to play with friend', 'similar with other games and tv show', 'like some of the stages', 'need new map and battle pass', 'enjoy the game with friends but server issue']\n",
    "df_topic_keywords['topic_theme'] = Topics_theme"
   ]
  },
  {
   "cell_type": "code",
   "execution_count": 123,
   "metadata": {},
   "outputs": [],
   "source": [
    "df_topic_keywords.set_index('topic_theme', inplace=True)"
   ]
  },
  {
   "cell_type": "code",
   "execution_count": 124,
   "metadata": {},
   "outputs": [
    {
     "output_type": "execute_result",
     "data": {
      "text/plain": "topic_theme server issue on launch day recommend to play with friend  \\\nWord 0                    server issue                   play friend   \nWord 1                 negative review               would recommend   \nWord 2                      launch day                      fall guy   \nWord 3                     yellow team                 battle royale   \nWord 4                recommend anyone                  battle royal   \nWord 5                     review bomb                    great play   \nWord 6                       want play                 get eliminate   \nWord 7                        wait see                     even well   \n\ntopic_theme similar with other games and tv show like some of the stages  \\\nWord 0                             battle royale                 big big   \nWord 1                           takeshis castle               feel like   \nWord 2                               mario party                tail tag   \nWord 3                                jelly bean             final round   \nWord 4                               friend play           fall mountain   \nWord 5                                 feel like               fall ball   \nWord 6                           obstacle course             slime climb   \nWord 7                                 get knock             many people   \n\ntopic_theme need new map and battle pass  \\\nWord 0                          fall guy   \nWord 1                         long time   \nWord 2                     battle royale   \nWord 3                       battle pass   \nWord 4                           get win   \nWord 5                           new map   \nWord 6                         play long   \nWord 7                         play hour   \n\ntopic_theme enjoy the game with friends but server issue  \nWord 0                                       play friend  \nWord 1                                           run run  \nWord 2                                          guy fall  \nWord 3                                  highly recommend  \nWord 4                                      server issue  \nWord 5                                         ever play  \nWord 6                                  definitely worth  \nWord 7                                       really play  ",
      "text/html": "<div>\n<style scoped>\n    .dataframe tbody tr th:only-of-type {\n        vertical-align: middle;\n    }\n\n    .dataframe tbody tr th {\n        vertical-align: top;\n    }\n\n    .dataframe thead th {\n        text-align: right;\n    }\n</style>\n<table border=\"1\" class=\"dataframe\">\n  <thead>\n    <tr style=\"text-align: right;\">\n      <th>topic_theme</th>\n      <th>server issue on launch day</th>\n      <th>recommend to play with friend</th>\n      <th>similar with other games and tv show</th>\n      <th>like some of the stages</th>\n      <th>need new map and battle pass</th>\n      <th>enjoy the game with friends but server issue</th>\n    </tr>\n  </thead>\n  <tbody>\n    <tr>\n      <th>Word 0</th>\n      <td>server issue</td>\n      <td>play friend</td>\n      <td>battle royale</td>\n      <td>big big</td>\n      <td>fall guy</td>\n      <td>play friend</td>\n    </tr>\n    <tr>\n      <th>Word 1</th>\n      <td>negative review</td>\n      <td>would recommend</td>\n      <td>takeshis castle</td>\n      <td>feel like</td>\n      <td>long time</td>\n      <td>run run</td>\n    </tr>\n    <tr>\n      <th>Word 2</th>\n      <td>launch day</td>\n      <td>fall guy</td>\n      <td>mario party</td>\n      <td>tail tag</td>\n      <td>battle royale</td>\n      <td>guy fall</td>\n    </tr>\n    <tr>\n      <th>Word 3</th>\n      <td>yellow team</td>\n      <td>battle royale</td>\n      <td>jelly bean</td>\n      <td>final round</td>\n      <td>battle pass</td>\n      <td>highly recommend</td>\n    </tr>\n    <tr>\n      <th>Word 4</th>\n      <td>recommend anyone</td>\n      <td>battle royal</td>\n      <td>friend play</td>\n      <td>fall mountain</td>\n      <td>get win</td>\n      <td>server issue</td>\n    </tr>\n    <tr>\n      <th>Word 5</th>\n      <td>review bomb</td>\n      <td>great play</td>\n      <td>feel like</td>\n      <td>fall ball</td>\n      <td>new map</td>\n      <td>ever play</td>\n    </tr>\n    <tr>\n      <th>Word 6</th>\n      <td>want play</td>\n      <td>get eliminate</td>\n      <td>obstacle course</td>\n      <td>slime climb</td>\n      <td>play long</td>\n      <td>definitely worth</td>\n    </tr>\n    <tr>\n      <th>Word 7</th>\n      <td>wait see</td>\n      <td>even well</td>\n      <td>get knock</td>\n      <td>many people</td>\n      <td>play hour</td>\n      <td>really play</td>\n    </tr>\n  </tbody>\n</table>\n</div>"
     },
     "metadata": {},
     "execution_count": 124
    }
   ],
   "source": [
    "df_topic_keywords.T"
   ]
  },
  {
   "cell_type": "code",
   "execution_count": 125,
   "metadata": {},
   "outputs": [],
   "source": [
    "lda_output = lda_model.transform(data_vectorized)\n",
    "\n",
    "topicnames = df_topic_keywords.T.columns\n",
    "\n",
    "docnames = [\"Doc\" + str(i) for i in range(len(df_yes))]\n",
    "\n",
    "df_document_topic = pd.DataFrame(np.round(lda_output, 2), columns=topicnames, index=docnames)\n",
    "\n",
    "dominant_topic = np.argmax(df_document_topic.values, axis=1)\n",
    "df_document_topic['dominant_topic'] = dominant_topic"
   ]
  },
  {
   "cell_type": "code",
   "execution_count": 126,
   "metadata": {},
   "outputs": [],
   "source": [
    "df_document_topic.reset_index(inplace=True)\n",
    "df_sent_topic= pd.merge(df_yes, df_document_topic, left_index=True, right_index=True)\n",
    "df_sent_topic.drop('index', axis=1, inplace=True)"
   ]
  },
  {
   "cell_type": "code",
   "execution_count": 127,
   "metadata": {},
   "outputs": [
    {
     "output_type": "execute_result",
     "data": {
      "text/plain": "      voted_up                                        clean_token  \\\n0         True  [&#39;fall&#39;, &#39;guy&#39;, &#39;chill&#39;, &#39;fun&#39;, &#39;game&#39;, &#39;reall...   \n1         True  [&#39;give&#39;, &#39;little&#39;, &#39;hug&#39;, &#39;player&#39;, &#39;stare&#39;, &#39;...   \n2         True                       [&#39;reccomend&#39;, &#39;much&#39;, &#39;buy&#39;]   \n3         True                                  [&#39;hug&#39;, &#39;people&#39;]   \n4         True  [&#39;little&#39;, &#39;boy&#39;, &#39;like&#39;, &#39;see&#39;, &#39;wipeout&#39;, &#39;t...   \n...        ...                                                ...   \n9779      True  [&#39;well&#39;, &#39;make&#39;, &#39;game&#39;, &#39;get&#39;, &#39;enough&#39;, &#39;man...   \n9780      True  [&#39;fun&#39;, &#39;competitive&#39;, &#39;especially&#39;, &#39;friend&#39;,...   \n9781      True  [&#39;game&#39;, &#39;extremely&#39;, &#39;fun&#39;, &#39;nice&#39;, &#39;break&#39;, ...   \n9782      True            [&#39;fun&#39;, &#39;play&#39;, &#39;keep&#39;, &#39;work&#39;, &#39;game&#39;]   \n9783      True  [&#39;turn&#39;, &#39;around&#39;, &#39;read&#39;, &#39;previous&#39;, &#39;review...   \n\n                                              clean_str  \\\n0     fall guy chill fun game really need server imp...   \n1     give little hug player stare back second jump ...   \n2                                    reccomend much buy   \n3                                            hug people   \n4     little boy like see wipeout tv always dream ta...   \n...                                                 ...   \n9779  well make game get enough many way differentia...   \n9780  fun competitive especially friend recommend bu...   \n9781  game extremely fun nice break usual drop loot ...   \n9782                            fun play keep work game   \n9783  turn around read previous review could recomme...   \n\n      server issue on launch day  recommend to play with friend  \\\n0                           0.01                           0.01   \n1                           0.03                           0.03   \n2                           0.08                           0.08   \n3                           0.58                           0.08   \n4                           0.02                           0.02   \n...                          ...                            ...   \n9779                        0.02                           0.19   \n9780                        0.04                           0.04   \n9781                        0.06                           0.39   \n9782                        0.06                           0.06   \n9783                        0.01                           0.48   \n\n      similar with other games and tv show  like some of the stages  \\\n0                                     0.01                     0.01   \n1                                     0.03                     0.03   \n2                                     0.58                     0.08   \n3                                     0.08                     0.08   \n4                                     0.90                     0.02   \n...                                    ...                      ...   \n9779                                  0.31                     0.02   \n9780                                  0.04                     0.04   \n9781                                  0.39                     0.06   \n9782                                  0.39                     0.06   \n9783                                  0.12                     0.22   \n\n      need new map and battle pass  \\\n0                             0.96   \n1                             0.86   \n2                             0.08   \n3                             0.08   \n4                             0.02   \n...                            ...   \n9779                          0.17   \n9780                          0.04   \n9781                          0.06   \n9782                          0.39   \n9783                          0.01   \n\n      enjoy the game with friends but server issue  dominant_topic  \n0                                             0.01               4  \n1                                             0.03               4  \n2                                             0.08               2  \n3                                             0.08               0  \n4                                             0.02               2  \n...                                            ...             ...  \n9779                                          0.28               2  \n9780                                          0.79               5  \n9781                                          0.06               1  \n9782                                          0.06               2  \n9783                                          0.17               1  \n\n[9784 rows x 10 columns]",
      "text/html": "<div>\n<style scoped>\n    .dataframe tbody tr th:only-of-type {\n        vertical-align: middle;\n    }\n\n    .dataframe tbody tr th {\n        vertical-align: top;\n    }\n\n    .dataframe thead th {\n        text-align: right;\n    }\n</style>\n<table border=\"1\" class=\"dataframe\">\n  <thead>\n    <tr style=\"text-align: right;\">\n      <th></th>\n      <th>voted_up</th>\n      <th>clean_token</th>\n      <th>clean_str</th>\n      <th>server issue on launch day</th>\n      <th>recommend to play with friend</th>\n      <th>similar with other games and tv show</th>\n      <th>like some of the stages</th>\n      <th>need new map and battle pass</th>\n      <th>enjoy the game with friends but server issue</th>\n      <th>dominant_topic</th>\n    </tr>\n  </thead>\n  <tbody>\n    <tr>\n      <th>0</th>\n      <td>True</td>\n      <td>['fall', 'guy', 'chill', 'fun', 'game', 'reall...</td>\n      <td>fall guy chill fun game really need server imp...</td>\n      <td>0.01</td>\n      <td>0.01</td>\n      <td>0.01</td>\n      <td>0.01</td>\n      <td>0.96</td>\n      <td>0.01</td>\n      <td>4</td>\n    </tr>\n    <tr>\n      <th>1</th>\n      <td>True</td>\n      <td>['give', 'little', 'hug', 'player', 'stare', '...</td>\n      <td>give little hug player stare back second jump ...</td>\n      <td>0.03</td>\n      <td>0.03</td>\n      <td>0.03</td>\n      <td>0.03</td>\n      <td>0.86</td>\n      <td>0.03</td>\n      <td>4</td>\n    </tr>\n    <tr>\n      <th>2</th>\n      <td>True</td>\n      <td>['reccomend', 'much', 'buy']</td>\n      <td>reccomend much buy</td>\n      <td>0.08</td>\n      <td>0.08</td>\n      <td>0.58</td>\n      <td>0.08</td>\n      <td>0.08</td>\n      <td>0.08</td>\n      <td>2</td>\n    </tr>\n    <tr>\n      <th>3</th>\n      <td>True</td>\n      <td>['hug', 'people']</td>\n      <td>hug people</td>\n      <td>0.58</td>\n      <td>0.08</td>\n      <td>0.08</td>\n      <td>0.08</td>\n      <td>0.08</td>\n      <td>0.08</td>\n      <td>0</td>\n    </tr>\n    <tr>\n      <th>4</th>\n      <td>True</td>\n      <td>['little', 'boy', 'like', 'see', 'wipeout', 't...</td>\n      <td>little boy like see wipeout tv always dream ta...</td>\n      <td>0.02</td>\n      <td>0.02</td>\n      <td>0.90</td>\n      <td>0.02</td>\n      <td>0.02</td>\n      <td>0.02</td>\n      <td>2</td>\n    </tr>\n    <tr>\n      <th>...</th>\n      <td>...</td>\n      <td>...</td>\n      <td>...</td>\n      <td>...</td>\n      <td>...</td>\n      <td>...</td>\n      <td>...</td>\n      <td>...</td>\n      <td>...</td>\n      <td>...</td>\n    </tr>\n    <tr>\n      <th>9779</th>\n      <td>True</td>\n      <td>['well', 'make', 'game', 'get', 'enough', 'man...</td>\n      <td>well make game get enough many way differentia...</td>\n      <td>0.02</td>\n      <td>0.19</td>\n      <td>0.31</td>\n      <td>0.02</td>\n      <td>0.17</td>\n      <td>0.28</td>\n      <td>2</td>\n    </tr>\n    <tr>\n      <th>9780</th>\n      <td>True</td>\n      <td>['fun', 'competitive', 'especially', 'friend',...</td>\n      <td>fun competitive especially friend recommend bu...</td>\n      <td>0.04</td>\n      <td>0.04</td>\n      <td>0.04</td>\n      <td>0.04</td>\n      <td>0.04</td>\n      <td>0.79</td>\n      <td>5</td>\n    </tr>\n    <tr>\n      <th>9781</th>\n      <td>True</td>\n      <td>['game', 'extremely', 'fun', 'nice', 'break', ...</td>\n      <td>game extremely fun nice break usual drop loot ...</td>\n      <td>0.06</td>\n      <td>0.39</td>\n      <td>0.39</td>\n      <td>0.06</td>\n      <td>0.06</td>\n      <td>0.06</td>\n      <td>1</td>\n    </tr>\n    <tr>\n      <th>9782</th>\n      <td>True</td>\n      <td>['fun', 'play', 'keep', 'work', 'game']</td>\n      <td>fun play keep work game</td>\n      <td>0.06</td>\n      <td>0.06</td>\n      <td>0.39</td>\n      <td>0.06</td>\n      <td>0.39</td>\n      <td>0.06</td>\n      <td>2</td>\n    </tr>\n    <tr>\n      <th>9783</th>\n      <td>True</td>\n      <td>['turn', 'around', 'read', 'previous', 'review...</td>\n      <td>turn around read previous review could recomme...</td>\n      <td>0.01</td>\n      <td>0.48</td>\n      <td>0.12</td>\n      <td>0.22</td>\n      <td>0.01</td>\n      <td>0.17</td>\n      <td>1</td>\n    </tr>\n  </tbody>\n</table>\n<p>9784 rows × 10 columns</p>\n</div>"
     },
     "metadata": {},
     "execution_count": 127
    }
   ],
   "source": [
    "df_sent_topic"
   ]
  },
  {
   "cell_type": "code",
   "execution_count": 128,
   "metadata": {},
   "outputs": [],
   "source": [
    "df_topic_theme = df_sent_topic[['clean_str', 'dominant_topic']]"
   ]
  },
  {
   "cell_type": "code",
   "execution_count": 129,
   "metadata": {},
   "outputs": [
    {
     "output_type": "execute_result",
     "data": {
      "text/plain": "                                           clean_str  dominant_topic\n0  fall guy chill fun game really need server imp...               4\n1  give little hug player stare back second jump ...               4\n2                                 reccomend much buy               2\n3                                         hug people               0\n4  little boy like see wipeout tv always dream ta...               2\n5                             nice br fun would fall               1\n6  funnychaotic madness player bounce collect pus...               2\n7  fun short burst tedious long stretch moment mi...               3\n8  see game potential good design game good multi...               5\n9  great game fun play need get rid cheater asap ...               1",
      "text/html": "<div>\n<style scoped>\n    .dataframe tbody tr th:only-of-type {\n        vertical-align: middle;\n    }\n\n    .dataframe tbody tr th {\n        vertical-align: top;\n    }\n\n    .dataframe thead th {\n        text-align: right;\n    }\n</style>\n<table border=\"1\" class=\"dataframe\">\n  <thead>\n    <tr style=\"text-align: right;\">\n      <th></th>\n      <th>clean_str</th>\n      <th>dominant_topic</th>\n    </tr>\n  </thead>\n  <tbody>\n    <tr>\n      <th>0</th>\n      <td>fall guy chill fun game really need server imp...</td>\n      <td>4</td>\n    </tr>\n    <tr>\n      <th>1</th>\n      <td>give little hug player stare back second jump ...</td>\n      <td>4</td>\n    </tr>\n    <tr>\n      <th>2</th>\n      <td>reccomend much buy</td>\n      <td>2</td>\n    </tr>\n    <tr>\n      <th>3</th>\n      <td>hug people</td>\n      <td>0</td>\n    </tr>\n    <tr>\n      <th>4</th>\n      <td>little boy like see wipeout tv always dream ta...</td>\n      <td>2</td>\n    </tr>\n    <tr>\n      <th>5</th>\n      <td>nice br fun would fall</td>\n      <td>1</td>\n    </tr>\n    <tr>\n      <th>6</th>\n      <td>funnychaotic madness player bounce collect pus...</td>\n      <td>2</td>\n    </tr>\n    <tr>\n      <th>7</th>\n      <td>fun short burst tedious long stretch moment mi...</td>\n      <td>3</td>\n    </tr>\n    <tr>\n      <th>8</th>\n      <td>see game potential good design game good multi...</td>\n      <td>5</td>\n    </tr>\n    <tr>\n      <th>9</th>\n      <td>great game fun play need get rid cheater asap ...</td>\n      <td>1</td>\n    </tr>\n  </tbody>\n</table>\n</div>"
     },
     "metadata": {},
     "execution_count": 129
    }
   ],
   "source": [
    "df_topic_theme.head(10)"
   ]
  },
  {
   "cell_type": "code",
   "execution_count": 130,
   "metadata": {},
   "outputs": [],
   "source": [
    "topic_remap = {0:'server issue on launch day', 1:'recommend to play with friend', 2:'similar with other games and tv show', 3:'like some of the stages', 4:'need new map and battle pass', 5:'enjoy the game with friends but server issue'}"
   ]
  },
  {
   "cell_type": "code",
   "execution_count": 131,
   "metadata": {},
   "outputs": [],
   "source": [
    "df_topic_theme['dominant_topic_theme'] = df_topic_theme['dominant_topic'].map(topic_remap)"
   ]
  },
  {
   "cell_type": "code",
   "execution_count": 132,
   "metadata": {},
   "outputs": [
    {
     "output_type": "execute_result",
     "data": {
      "text/plain": "                                              clean_str  dominant_topic  \\\n0     fall guy chill fun game really need server imp...               4   \n1     give little hug player stare back second jump ...               4   \n2                                    reccomend much buy               2   \n3                                            hug people               0   \n4     little boy like see wipeout tv always dream ta...               2   \n...                                                 ...             ...   \n9779  well make game get enough many way differentia...               2   \n9780  fun competitive especially friend recommend bu...               5   \n9781  game extremely fun nice break usual drop loot ...               1   \n9782                            fun play keep work game               2   \n9783  turn around read previous review could recomme...               1   \n\n                              dominant_topic_theme  \n0                     need new map and battle pass  \n1                     need new map and battle pass  \n2             similar with other games and tv show  \n3                       server issue on launch day  \n4             similar with other games and tv show  \n...                                            ...  \n9779          similar with other games and tv show  \n9780  enjoy the game with friends but server issue  \n9781                 recommend to play with friend  \n9782          similar with other games and tv show  \n9783                 recommend to play with friend  \n\n[9784 rows x 3 columns]",
      "text/html": "<div>\n<style scoped>\n    .dataframe tbody tr th:only-of-type {\n        vertical-align: middle;\n    }\n\n    .dataframe tbody tr th {\n        vertical-align: top;\n    }\n\n    .dataframe thead th {\n        text-align: right;\n    }\n</style>\n<table border=\"1\" class=\"dataframe\">\n  <thead>\n    <tr style=\"text-align: right;\">\n      <th></th>\n      <th>clean_str</th>\n      <th>dominant_topic</th>\n      <th>dominant_topic_theme</th>\n    </tr>\n  </thead>\n  <tbody>\n    <tr>\n      <th>0</th>\n      <td>fall guy chill fun game really need server imp...</td>\n      <td>4</td>\n      <td>need new map and battle pass</td>\n    </tr>\n    <tr>\n      <th>1</th>\n      <td>give little hug player stare back second jump ...</td>\n      <td>4</td>\n      <td>need new map and battle pass</td>\n    </tr>\n    <tr>\n      <th>2</th>\n      <td>reccomend much buy</td>\n      <td>2</td>\n      <td>similar with other games and tv show</td>\n    </tr>\n    <tr>\n      <th>3</th>\n      <td>hug people</td>\n      <td>0</td>\n      <td>server issue on launch day</td>\n    </tr>\n    <tr>\n      <th>4</th>\n      <td>little boy like see wipeout tv always dream ta...</td>\n      <td>2</td>\n      <td>similar with other games and tv show</td>\n    </tr>\n    <tr>\n      <th>...</th>\n      <td>...</td>\n      <td>...</td>\n      <td>...</td>\n    </tr>\n    <tr>\n      <th>9779</th>\n      <td>well make game get enough many way differentia...</td>\n      <td>2</td>\n      <td>similar with other games and tv show</td>\n    </tr>\n    <tr>\n      <th>9780</th>\n      <td>fun competitive especially friend recommend bu...</td>\n      <td>5</td>\n      <td>enjoy the game with friends but server issue</td>\n    </tr>\n    <tr>\n      <th>9781</th>\n      <td>game extremely fun nice break usual drop loot ...</td>\n      <td>1</td>\n      <td>recommend to play with friend</td>\n    </tr>\n    <tr>\n      <th>9782</th>\n      <td>fun play keep work game</td>\n      <td>2</td>\n      <td>similar with other games and tv show</td>\n    </tr>\n    <tr>\n      <th>9783</th>\n      <td>turn around read previous review could recomme...</td>\n      <td>1</td>\n      <td>recommend to play with friend</td>\n    </tr>\n  </tbody>\n</table>\n<p>9784 rows × 3 columns</p>\n</div>"
     },
     "metadata": {},
     "execution_count": 132
    }
   ],
   "source": [
    "df_topic_theme"
   ]
  },
  {
   "cell_type": "code",
   "execution_count": 133,
   "metadata": {},
   "outputs": [
    {
     "output_type": "execute_result",
     "data": {
      "text/plain": "server issue on launch day                      4716\nrecommend to play with friend                   1198\nsimilar with other games and tv show            1162\nneed new map and battle pass                     948\nenjoy the game with friends but server issue     908\nlike some of the stages                          852\nName: dominant_topic_theme, dtype: int64"
     },
     "metadata": {},
     "execution_count": 133
    }
   ],
   "source": [
    "df_topic_theme['dominant_topic_theme'].value_counts()"
   ]
  },
  {
   "cell_type": "code",
   "execution_count": 134,
   "metadata": {},
   "outputs": [],
   "source": [
    "df_result = df_topic_theme['dominant_topic_theme'].value_counts().rename_axis('topic').reset_index(name='counts')"
   ]
  },
  {
   "cell_type": "code",
   "execution_count": 135,
   "metadata": {},
   "outputs": [
    {
     "output_type": "execute_result",
     "data": {
      "text/plain": "                                          topic  counts\n0                    server issue on launch day    4716\n1                 recommend to play with friend    1198\n2          similar with other games and tv show    1162\n3                  need new map and battle pass     948\n4  enjoy the game with friends but server issue     908\n5                       like some of the stages     852",
      "text/html": "<div>\n<style scoped>\n    .dataframe tbody tr th:only-of-type {\n        vertical-align: middle;\n    }\n\n    .dataframe tbody tr th {\n        vertical-align: top;\n    }\n\n    .dataframe thead th {\n        text-align: right;\n    }\n</style>\n<table border=\"1\" class=\"dataframe\">\n  <thead>\n    <tr style=\"text-align: right;\">\n      <th></th>\n      <th>topic</th>\n      <th>counts</th>\n    </tr>\n  </thead>\n  <tbody>\n    <tr>\n      <th>0</th>\n      <td>server issue on launch day</td>\n      <td>4716</td>\n    </tr>\n    <tr>\n      <th>1</th>\n      <td>recommend to play with friend</td>\n      <td>1198</td>\n    </tr>\n    <tr>\n      <th>2</th>\n      <td>similar with other games and tv show</td>\n      <td>1162</td>\n    </tr>\n    <tr>\n      <th>3</th>\n      <td>need new map and battle pass</td>\n      <td>948</td>\n    </tr>\n    <tr>\n      <th>4</th>\n      <td>enjoy the game with friends but server issue</td>\n      <td>908</td>\n    </tr>\n    <tr>\n      <th>5</th>\n      <td>like some of the stages</td>\n      <td>852</td>\n    </tr>\n  </tbody>\n</table>\n</div>"
     },
     "metadata": {},
     "execution_count": 135
    }
   ],
   "source": [
    "df_result"
   ]
  },
  {
   "cell_type": "code",
   "execution_count": 136,
   "metadata": {},
   "outputs": [
    {
     "output_type": "display_data",
     "data": {
      "application/vnd.plotly.v1+json": {
       "config": {
        "plotlyServerURL": "https://plot.ly"
       },
       "data": [
        {
         "type": "bar",
         "x": [
          "server issue on launch day",
          "recommend to play with friend",
          "similar with other games and tv show",
          "need new map and battle pass",
          "enjoy the game with friends but server issue",
          "like some of the stages"
         ],
         "y": [
          4716,
          1198,
          1162,
          948,
          908,
          852
         ]
        }
       ],
       "layout": {
        "template": {
         "data": {
          "bar": [
           {
            "error_x": {
             "color": "#2a3f5f"
            },
            "error_y": {
             "color": "#2a3f5f"
            },
            "marker": {
             "line": {
              "color": "#E5ECF6",
              "width": 0.5
             }
            },
            "type": "bar"
           }
          ],
          "barpolar": [
           {
            "marker": {
             "line": {
              "color": "#E5ECF6",
              "width": 0.5
             }
            },
            "type": "barpolar"
           }
          ],
          "carpet": [
           {
            "aaxis": {
             "endlinecolor": "#2a3f5f",
             "gridcolor": "white",
             "linecolor": "white",
             "minorgridcolor": "white",
             "startlinecolor": "#2a3f5f"
            },
            "baxis": {
             "endlinecolor": "#2a3f5f",
             "gridcolor": "white",
             "linecolor": "white",
             "minorgridcolor": "white",
             "startlinecolor": "#2a3f5f"
            },
            "type": "carpet"
           }
          ],
          "choropleth": [
           {
            "colorbar": {
             "outlinewidth": 0,
             "ticks": ""
            },
            "type": "choropleth"
           }
          ],
          "contour": [
           {
            "colorbar": {
             "outlinewidth": 0,
             "ticks": ""
            },
            "colorscale": [
             [
              0,
              "#0d0887"
             ],
             [
              0.1111111111111111,
              "#46039f"
             ],
             [
              0.2222222222222222,
              "#7201a8"
             ],
             [
              0.3333333333333333,
              "#9c179e"
             ],
             [
              0.4444444444444444,
              "#bd3786"
             ],
             [
              0.5555555555555556,
              "#d8576b"
             ],
             [
              0.6666666666666666,
              "#ed7953"
             ],
             [
              0.7777777777777778,
              "#fb9f3a"
             ],
             [
              0.8888888888888888,
              "#fdca26"
             ],
             [
              1,
              "#f0f921"
             ]
            ],
            "type": "contour"
           }
          ],
          "contourcarpet": [
           {
            "colorbar": {
             "outlinewidth": 0,
             "ticks": ""
            },
            "type": "contourcarpet"
           }
          ],
          "heatmap": [
           {
            "colorbar": {
             "outlinewidth": 0,
             "ticks": ""
            },
            "colorscale": [
             [
              0,
              "#0d0887"
             ],
             [
              0.1111111111111111,
              "#46039f"
             ],
             [
              0.2222222222222222,
              "#7201a8"
             ],
             [
              0.3333333333333333,
              "#9c179e"
             ],
             [
              0.4444444444444444,
              "#bd3786"
             ],
             [
              0.5555555555555556,
              "#d8576b"
             ],
             [
              0.6666666666666666,
              "#ed7953"
             ],
             [
              0.7777777777777778,
              "#fb9f3a"
             ],
             [
              0.8888888888888888,
              "#fdca26"
             ],
             [
              1,
              "#f0f921"
             ]
            ],
            "type": "heatmap"
           }
          ],
          "heatmapgl": [
           {
            "colorbar": {
             "outlinewidth": 0,
             "ticks": ""
            },
            "colorscale": [
             [
              0,
              "#0d0887"
             ],
             [
              0.1111111111111111,
              "#46039f"
             ],
             [
              0.2222222222222222,
              "#7201a8"
             ],
             [
              0.3333333333333333,
              "#9c179e"
             ],
             [
              0.4444444444444444,
              "#bd3786"
             ],
             [
              0.5555555555555556,
              "#d8576b"
             ],
             [
              0.6666666666666666,
              "#ed7953"
             ],
             [
              0.7777777777777778,
              "#fb9f3a"
             ],
             [
              0.8888888888888888,
              "#fdca26"
             ],
             [
              1,
              "#f0f921"
             ]
            ],
            "type": "heatmapgl"
           }
          ],
          "histogram": [
           {
            "marker": {
             "colorbar": {
              "outlinewidth": 0,
              "ticks": ""
             }
            },
            "type": "histogram"
           }
          ],
          "histogram2d": [
           {
            "colorbar": {
             "outlinewidth": 0,
             "ticks": ""
            },
            "colorscale": [
             [
              0,
              "#0d0887"
             ],
             [
              0.1111111111111111,
              "#46039f"
             ],
             [
              0.2222222222222222,
              "#7201a8"
             ],
             [
              0.3333333333333333,
              "#9c179e"
             ],
             [
              0.4444444444444444,
              "#bd3786"
             ],
             [
              0.5555555555555556,
              "#d8576b"
             ],
             [
              0.6666666666666666,
              "#ed7953"
             ],
             [
              0.7777777777777778,
              "#fb9f3a"
             ],
             [
              0.8888888888888888,
              "#fdca26"
             ],
             [
              1,
              "#f0f921"
             ]
            ],
            "type": "histogram2d"
           }
          ],
          "histogram2dcontour": [
           {
            "colorbar": {
             "outlinewidth": 0,
             "ticks": ""
            },
            "colorscale": [
             [
              0,
              "#0d0887"
             ],
             [
              0.1111111111111111,
              "#46039f"
             ],
             [
              0.2222222222222222,
              "#7201a8"
             ],
             [
              0.3333333333333333,
              "#9c179e"
             ],
             [
              0.4444444444444444,
              "#bd3786"
             ],
             [
              0.5555555555555556,
              "#d8576b"
             ],
             [
              0.6666666666666666,
              "#ed7953"
             ],
             [
              0.7777777777777778,
              "#fb9f3a"
             ],
             [
              0.8888888888888888,
              "#fdca26"
             ],
             [
              1,
              "#f0f921"
             ]
            ],
            "type": "histogram2dcontour"
           }
          ],
          "mesh3d": [
           {
            "colorbar": {
             "outlinewidth": 0,
             "ticks": ""
            },
            "type": "mesh3d"
           }
          ],
          "parcoords": [
           {
            "line": {
             "colorbar": {
              "outlinewidth": 0,
              "ticks": ""
             }
            },
            "type": "parcoords"
           }
          ],
          "scatter": [
           {
            "marker": {
             "colorbar": {
              "outlinewidth": 0,
              "ticks": ""
             }
            },
            "type": "scatter"
           }
          ],
          "scatter3d": [
           {
            "line": {
             "colorbar": {
              "outlinewidth": 0,
              "ticks": ""
             }
            },
            "marker": {
             "colorbar": {
              "outlinewidth": 0,
              "ticks": ""
             }
            },
            "type": "scatter3d"
           }
          ],
          "scattercarpet": [
           {
            "marker": {
             "colorbar": {
              "outlinewidth": 0,
              "ticks": ""
             }
            },
            "type": "scattercarpet"
           }
          ],
          "scattergeo": [
           {
            "marker": {
             "colorbar": {
              "outlinewidth": 0,
              "ticks": ""
             }
            },
            "type": "scattergeo"
           }
          ],
          "scattergl": [
           {
            "marker": {
             "colorbar": {
              "outlinewidth": 0,
              "ticks": ""
             }
            },
            "type": "scattergl"
           }
          ],
          "scattermapbox": [
           {
            "marker": {
             "colorbar": {
              "outlinewidth": 0,
              "ticks": ""
             }
            },
            "type": "scattermapbox"
           }
          ],
          "scatterpolar": [
           {
            "marker": {
             "colorbar": {
              "outlinewidth": 0,
              "ticks": ""
             }
            },
            "type": "scatterpolar"
           }
          ],
          "scatterpolargl": [
           {
            "marker": {
             "colorbar": {
              "outlinewidth": 0,
              "ticks": ""
             }
            },
            "type": "scatterpolargl"
           }
          ],
          "scatterternary": [
           {
            "marker": {
             "colorbar": {
              "outlinewidth": 0,
              "ticks": ""
             }
            },
            "type": "scatterternary"
           }
          ],
          "surface": [
           {
            "colorbar": {
             "outlinewidth": 0,
             "ticks": ""
            },
            "colorscale": [
             [
              0,
              "#0d0887"
             ],
             [
              0.1111111111111111,
              "#46039f"
             ],
             [
              0.2222222222222222,
              "#7201a8"
             ],
             [
              0.3333333333333333,
              "#9c179e"
             ],
             [
              0.4444444444444444,
              "#bd3786"
             ],
             [
              0.5555555555555556,
              "#d8576b"
             ],
             [
              0.6666666666666666,
              "#ed7953"
             ],
             [
              0.7777777777777778,
              "#fb9f3a"
             ],
             [
              0.8888888888888888,
              "#fdca26"
             ],
             [
              1,
              "#f0f921"
             ]
            ],
            "type": "surface"
           }
          ],
          "table": [
           {
            "cells": {
             "fill": {
              "color": "#EBF0F8"
             },
             "line": {
              "color": "white"
             }
            },
            "header": {
             "fill": {
              "color": "#C8D4E3"
             },
             "line": {
              "color": "white"
             }
            },
            "type": "table"
           }
          ]
         },
         "layout": {
          "annotationdefaults": {
           "arrowcolor": "#2a3f5f",
           "arrowhead": 0,
           "arrowwidth": 1
          },
          "colorscale": {
           "diverging": [
            [
             0,
             "#8e0152"
            ],
            [
             0.1,
             "#c51b7d"
            ],
            [
             0.2,
             "#de77ae"
            ],
            [
             0.3,
             "#f1b6da"
            ],
            [
             0.4,
             "#fde0ef"
            ],
            [
             0.5,
             "#f7f7f7"
            ],
            [
             0.6,
             "#e6f5d0"
            ],
            [
             0.7,
             "#b8e186"
            ],
            [
             0.8,
             "#7fbc41"
            ],
            [
             0.9,
             "#4d9221"
            ],
            [
             1,
             "#276419"
            ]
           ],
           "sequential": [
            [
             0,
             "#0d0887"
            ],
            [
             0.1111111111111111,
             "#46039f"
            ],
            [
             0.2222222222222222,
             "#7201a8"
            ],
            [
             0.3333333333333333,
             "#9c179e"
            ],
            [
             0.4444444444444444,
             "#bd3786"
            ],
            [
             0.5555555555555556,
             "#d8576b"
            ],
            [
             0.6666666666666666,
             "#ed7953"
            ],
            [
             0.7777777777777778,
             "#fb9f3a"
            ],
            [
             0.8888888888888888,
             "#fdca26"
            ],
            [
             1,
             "#f0f921"
            ]
           ],
           "sequentialminus": [
            [
             0,
             "#0d0887"
            ],
            [
             0.1111111111111111,
             "#46039f"
            ],
            [
             0.2222222222222222,
             "#7201a8"
            ],
            [
             0.3333333333333333,
             "#9c179e"
            ],
            [
             0.4444444444444444,
             "#bd3786"
            ],
            [
             0.5555555555555556,
             "#d8576b"
            ],
            [
             0.6666666666666666,
             "#ed7953"
            ],
            [
             0.7777777777777778,
             "#fb9f3a"
            ],
            [
             0.8888888888888888,
             "#fdca26"
            ],
            [
             1,
             "#f0f921"
            ]
           ]
          },
          "colorway": [
           "#636efa",
           "#EF553B",
           "#00cc96",
           "#ab63fa",
           "#FFA15A",
           "#19d3f3",
           "#FF6692",
           "#B6E880",
           "#FF97FF",
           "#FECB52"
          ],
          "font": {
           "color": "#2a3f5f"
          },
          "geo": {
           "bgcolor": "white",
           "lakecolor": "white",
           "landcolor": "#E5ECF6",
           "showlakes": true,
           "showland": true,
           "subunitcolor": "white"
          },
          "hoverlabel": {
           "align": "left"
          },
          "hovermode": "closest",
          "mapbox": {
           "style": "light"
          },
          "paper_bgcolor": "white",
          "plot_bgcolor": "#E5ECF6",
          "polar": {
           "angularaxis": {
            "gridcolor": "white",
            "linecolor": "white",
            "ticks": ""
           },
           "bgcolor": "#E5ECF6",
           "radialaxis": {
            "gridcolor": "white",
            "linecolor": "white",
            "ticks": ""
           }
          },
          "scene": {
           "xaxis": {
            "backgroundcolor": "#E5ECF6",
            "gridcolor": "white",
            "gridwidth": 2,
            "linecolor": "white",
            "showbackground": true,
            "ticks": "",
            "zerolinecolor": "white"
           },
           "yaxis": {
            "backgroundcolor": "#E5ECF6",
            "gridcolor": "white",
            "gridwidth": 2,
            "linecolor": "white",
            "showbackground": true,
            "ticks": "",
            "zerolinecolor": "white"
           },
           "zaxis": {
            "backgroundcolor": "#E5ECF6",
            "gridcolor": "white",
            "gridwidth": 2,
            "linecolor": "white",
            "showbackground": true,
            "ticks": "",
            "zerolinecolor": "white"
           }
          },
          "shapedefaults": {
           "line": {
            "color": "#2a3f5f"
           }
          },
          "ternary": {
           "aaxis": {
            "gridcolor": "white",
            "linecolor": "white",
            "ticks": ""
           },
           "baxis": {
            "gridcolor": "white",
            "linecolor": "white",
            "ticks": ""
           },
           "bgcolor": "#E5ECF6",
           "caxis": {
            "gridcolor": "white",
            "linecolor": "white",
            "ticks": ""
           }
          },
          "title": {
           "x": 0.05
          },
          "xaxis": {
           "automargin": true,
           "gridcolor": "white",
           "linecolor": "white",
           "ticks": "",
           "zerolinecolor": "white",
           "zerolinewidth": 2
          },
          "yaxis": {
           "automargin": true,
           "gridcolor": "white",
           "linecolor": "white",
           "ticks": "",
           "zerolinecolor": "white",
           "zerolinewidth": 2
          }
         }
        },
        "title": {
         "text": "Topics in Recommended Reviews"
        }
       }
      }
     },
     "metadata": {}
    }
   ],
   "source": [
    "fig = go.Figure([go.Bar(x=df_result['topic'], y=df_result['counts'])])\n",
    "fig.update_layout(title=go.layout.Title(text=\"Topics in Recommended Reviews\"))\n",
    "fig.show()"
   ]
  },
  {
   "cell_type": "code",
   "execution_count": null,
   "metadata": {},
   "outputs": [],
   "source": []
  }
 ]
}